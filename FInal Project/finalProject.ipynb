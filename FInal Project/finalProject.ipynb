{
 "cells": [
  {
   "cell_type": "code",
   "execution_count": 11,
   "metadata": {},
   "outputs": [],
   "source": [
    "#First, the point cloud has to be loaded and then read.\n",
    "#Its probably way too big to work with from the start, so I think I will use voxel downsampling\n",
    "#But first, imports\n",
    "\n",
    "import open3d as o3d\n",
    "import numpy as np\n",
    "import matplotlib.pyplot as plt\n",
    "import os   \n",
    "from pyntcloud import PyntCloud\n",
    "\n",
    "#At first im going to try to just load the pointcloud \n",
    "#It runs insanely slow, so I will try to downsample it\n",
    "\n",
    "initialCloud =  o3d.io.read_point_cloud(os.path.join(os.getcwd(), \"data\", \"croppedCloud.ply\"))\n",
    "\n",
    "\n"
   ]
  },
  {
   "cell_type": "code",
   "execution_count": 10,
   "metadata": {},
   "outputs": [],
   "source": [
    "#Downsampling the cloud first because it takes forever to run\n",
    "\n",
    "initialCloud = initialCloud.voxel_down_sample(0.3)"
   ]
  },
  {
   "cell_type": "code",
   "execution_count": 7,
   "metadata": {},
   "outputs": [
    {
     "name": "stdout",
     "output_type": "stream",
     "text": [
      "Number of points after downsampling  29451\n"
     ]
    }
   ],
   "source": [
    "print(\"Number of points after downsampling \", len(initialCloud.points))"
   ]
  },
  {
   "cell_type": "code",
   "execution_count": 12,
   "metadata": {},
   "outputs": [],
   "source": [
    "#Now I will try to create the voxelgrid with open3d\n",
    "voxel_size = 3\n",
    "voxel_grid = o3d.geometry.VoxelGrid.create_from_point_cloud(initialCloud, voxel_size)\n",
    "\n"
   ]
  },
  {
   "cell_type": "code",
   "execution_count": null,
   "metadata": {},
   "outputs": [],
   "source": [
    "o3d.visualization.draw_geometries([voxel_grid])"
   ]
  },
  {
   "cell_type": "code",
   "execution_count": null,
   "metadata": {},
   "outputs": [],
   "source": [
    "#Extracting indexes so we can calculate PCA for the points within each voxel\n",
    "\n",
    "voxel_center_coordinates= []\n",
    "\n",
    "for i in voxel_grid.get_voxels():\n",
    "    voxel_center_coordinates.append(voxel_grid.get_voxel_center_coordinate(i.grid_index))\n",
    "\n"
   ]
  },
  {
   "cell_type": "code",
   "execution_count": 13,
   "metadata": {},
   "outputs": [
    {
     "name": "stdout",
     "output_type": "stream",
     "text": [
      "29528\n"
     ]
    }
   ],
   "source": [
    "#Now we have to extract the points from the point cloud that are within each voxel\n",
    "#We can do this with the get_voxel_coordinates function\n",
    "\n",
    "print(len(voxel_grid.get_voxels()))\n",
    "    \n",
    "\n"
   ]
  },
  {
   "cell_type": "code",
   "execution_count": null,
   "metadata": {},
   "outputs": [],
   "source": [
    "#Now we have to extract the points from the point cloud that are within each voxel\n",
    "voxel_size = 0.85\n",
    "center = voxel_center_coordinates[56]\n",
    "\n",
    "minboundx = center[0] - voxel_size/2\n",
    "minboundy = center[1] - voxel_size/2\n",
    "minboundz = center[2] - voxel_size/2\n",
    "\n",
    "maxboundx = center[0] + voxel_size/2\n",
    "maxboundy = center[1] + voxel_size/2\n",
    "maxboundz = center[2] + voxel_size/2\n",
    "\n",
    "voxel_extracted_points =initialCloud.crop(o3d.geometry.AxisAlignedBoundingBox(min_bound=(minboundx, minboundy, minboundz), max_bound=(maxboundx, maxboundy, maxboundz)))"
   ]
  },
  {
   "cell_type": "code",
   "execution_count": null,
   "metadata": {},
   "outputs": [],
   "source": [
    "print(np.asarray(voxel_extracted_points.points))\n",
    "\n",
    "o3d.visualization.draw_geometries([voxel_extracted_points])\n"
   ]
  },
  {
   "cell_type": "code",
   "execution_count": null,
   "metadata": {},
   "outputs": [],
   "source": [
    "#Calculating PCA for the points within the extracted voxel\n",
    "from sklearn.decomposition import PCA\n",
    "\n",
    "points = np.asarray(voxel_extracted_points.points)\n",
    "\n",
    "# Assuming 'points' contains the 3D coordinates of your point cloud\n",
    "pca = PCA(n_components=3)\n",
    "pca.fit(points)\n",
    "\n",
    "# Extract the eigenvalues and eigenvectors\n",
    "eigenvalues = pca.explained_variance_\n",
    "eigenvectors = pca.components_\n",
    "\n"
   ]
  },
  {
   "cell_type": "code",
   "execution_count": null,
   "metadata": {},
   "outputs": [],
   "source": [
    "print(eigenvalues)\n",
    "planarity = (eigenvalues[1] - eigenvalues[2]) / eigenvalues[1]\n",
    "\n",
    "print(planarity)"
   ]
  },
  {
   "cell_type": "code",
   "execution_count": null,
   "metadata": {},
   "outputs": [],
   "source": [
    "\n",
    "from sklearn.decomposition import PCA\n",
    "#Now we have to extract the points from the point cloud that are within each voxel\n",
    "voxel_size = 3\n",
    "\n",
    "curvatures = []\n",
    "\n",
    "voxel_center_coordinates = voxel_center_coordinates[:100]\n",
    "\n",
    "for center in voxel_center_coordinates:\n",
    "    minboundx = center[0] - voxel_size/2\n",
    "    minboundy = center[1] - voxel_size/2\n",
    "    minboundz = center[2] - voxel_size/2\n",
    "\n",
    "    maxboundx = center[0] + voxel_size/2\n",
    "    maxboundy = center[1] + voxel_size/2\n",
    "    maxboundz = center[2] + voxel_size/2\n",
    "\n",
    "    voxel_extracted_points =initialCloud.crop(o3d.geometry.AxisAlignedBoundingBox(min_bound=(minboundx, minboundy, minboundz), max_bound=(maxboundx, maxboundy, maxboundz)))\n",
    "    print(\"Number of points in voxel \", len(voxel_extracted_points.points))\n",
    "    \n",
    "    points = np.asarray(voxel_extracted_points.points)\n",
    "\n",
    "    #Checking if there are enough points in the voxel to calculate PCA\n",
    "    \n",
    "    if len(points) < 15:\n",
    "        curvatures.append(0)\n",
    "        continue\n",
    "    \n",
    "    pca = PCA(n_components=3)\n",
    "    pca.fit(points)\n",
    "\n",
    "    # Extract the eigenvalues and eigenvectors\n",
    "    eigenvalues = pca.explained_variance_\n",
    "    eigenvectors = pca.components_\n",
    "    \n",
    "    curv = eigenvalues[2]/(eigenvalues[0]+eigenvalues[1]+eigenvalues[2])\n",
    "    \n",
    "    curvatures.append(curv)\n",
    "    \n",
    "\n",
    "\n",
    "    "
   ]
  },
  {
   "cell_type": "code",
   "execution_count": null,
   "metadata": {},
   "outputs": [],
   "source": [
    "print(len(voxel_center_coordinates))"
   ]
  },
  {
   "cell_type": "code",
   "execution_count": null,
   "metadata": {},
   "outputs": [],
   "source": [
    "print(curvatures)"
   ]
  }
 ],
 "metadata": {
  "kernelspec": {
   "display_name": "venv",
   "language": "python",
   "name": "python3"
  },
  "language_info": {
   "codemirror_mode": {
    "name": "ipython",
    "version": 3
   },
   "file_extension": ".py",
   "mimetype": "text/x-python",
   "name": "python",
   "nbconvert_exporter": "python",
   "pygments_lexer": "ipython3",
   "version": "3.10.11"
  }
 },
 "nbformat": 4,
 "nbformat_minor": 2
}
