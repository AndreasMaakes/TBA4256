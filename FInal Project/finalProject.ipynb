{
 "cells": [
  {
   "cell_type": "code",
   "execution_count": 1,
   "metadata": {},
   "outputs": [
    {
     "name": "stdout",
     "output_type": "stream",
     "text": [
      "Jupyter environment detected. Enabling Open3D WebVisualizer.\n",
      "[Open3D INFO] WebRTC GUI backend enabled.\n",
      "[Open3D INFO] WebRTCWindowSystem: HTTP handshake server disabled.\n"
     ]
    }
   ],
   "source": [
    "#First, the point cloud has to be loaded and then read.\n",
    "#Its probably way too big to work with from the start, so I think I will use voxel downsampling\n",
    "#But first, imports\n",
    "\n",
    "import open3d as o3d\n",
    "import numpy as np\n",
    "import matplotlib.pyplot as plt\n",
    "import os   \n",
    "from pyntcloud import PyntCloud\n",
    "\n",
    "#Loading the point cloud\n",
    "\n",
    "initialCloud =  o3d.io.read_point_cloud(os.path.join(os.getcwd(), \"data\", \"croppedCloud.ply\"))\n",
    "\n",
    "\n"
   ]
  },
  {
   "cell_type": "code",
   "execution_count": 2,
   "metadata": {},
   "outputs": [],
   "source": [
    "#Making a voxelgrid from the point cloud\n",
    "voxel_size = 3\n",
    "voxel_grid = o3d.geometry.VoxelGrid.create_from_point_cloud(initialCloud, voxel_size)\n",
    "\n"
   ]
  },
  {
   "cell_type": "code",
   "execution_count": 3,
   "metadata": {},
   "outputs": [],
   "source": [
    "#Extracting center points so we can calculate PCA for the points within each voxel\n",
    "\n",
    "voxel_center_coordinates= []\n",
    "\n",
    "for i in voxel_grid.get_voxels():\n",
    "    voxel_center_coordinates.append(voxel_grid.get_voxel_center_coordinate(i.grid_index))\n",
    "\n"
   ]
  },
  {
   "cell_type": "code",
   "execution_count": null,
   "metadata": {},
   "outputs": [],
   "source": [
    "#This is old code, not if needed anymore\n",
    "from sklearn.decomposition import PCA\n",
    "from tqdm.auto import tqdm\n",
    "\n",
    "#Extracting points from each voxel, calculating features for all of them and storing them in lists\n",
    "voxel_size = 3\n",
    "\n",
    "\n",
    "linearity =[]\n",
    "planarity = []\n",
    "scattering = []\n",
    "omnivariance = []\n",
    "sum_eigenvalues = []\n",
    "anisotropy = []\n",
    "eigentropy = []\n",
    "change_of_curvature = []\n",
    "points_per_voxel = []\n",
    "z_range = []\n",
    " \n",
    "\n",
    "#Calculating Z-range and standard deviation from the plane for each voxel\n",
    "\n",
    "#Z-range\n",
    "\n",
    "#Defining a function to calculate the z range\n",
    "def calculateZRange(points):\n",
    "    if len(points) < 15:\n",
    "        return 0\n",
    "    return(np.max(points[:,2]) - np.min(points[:,2]))\n",
    "   \n",
    "#Run this to just run it on the first 100 voxels\n",
    "#voxel_center_coordinates = voxel_center_coordinates[:100]\n",
    "\n",
    "\n",
    "for center in tqdm(voxel_center_coordinates):\n",
    "    minboundx = center[0] - voxel_size/2\n",
    "    minboundy = center[1] - voxel_size/2\n",
    "    minboundz = center[2] - voxel_size/2\n",
    "\n",
    "    maxboundx = center[0] + voxel_size/2\n",
    "    maxboundy = center[1] + voxel_size/2\n",
    "    maxboundz = center[2] + voxel_size/2\n",
    "\n",
    "    voxel_extracted_points =initialCloud.crop(o3d.geometry.AxisAlignedBoundingBox(min_bound=(minboundx, minboundy, minboundz), max_bound=(maxboundx, maxboundy, maxboundz)))\n",
    "    #print(\"Number of points in voxel \", len(voxel_extracted_points.points))\n",
    "    \n",
    "    points = np.asarray(voxel_extracted_points.points)\n",
    "    \n",
    "    #Checking if there are enough points in the voxel to calculate PCA\n",
    "    \n",
    "    if len(points) < 15:\n",
    "        linearity.append(0)\n",
    "        planarity.append(0)\n",
    "        scattering.append(0)\n",
    "        omnivariance.append(0)\n",
    "        sum_eigenvalues.append(0)\n",
    "        anisotropy.append(0)\n",
    "        eigentropy.append(0)\n",
    "        change_of_curvature.append(0)\n",
    "        points_per_voxel.append(points) #Kan her appende 0 istedenfor points?\n",
    "        continue\n",
    "    \n",
    "    pca = PCA(n_components=3)\n",
    "    pca.fit(points)\n",
    "\n",
    "    # Extract the eigenvalues and eigenvectors\n",
    "    eigenvalues = pca.explained_variance_\n",
    "    eigenvectors = pca.components_\n",
    "    \n",
    "    #Calculating the features\n",
    "    l = (eigenvalues[0] - eigenvalues[1]) / eigenvalues[0] \n",
    "    p = (eigenvalues[1] - eigenvalues[2]) / eigenvalues[0]\n",
    "    s = eigenvalues[2] / eigenvalues[0]\n",
    "    o = (eigenvalues[0]*eigenvalues[1]*eigenvalues[2])**(1/3)\n",
    "    s_e = eigenvalues[0] + eigenvalues[1] + eigenvalues[2]\n",
    "    a = (eigenvalues[0] - eigenvalues[2]) / eigenvalues[0]\n",
    "    e = (-1)*(eigenvalues[0]*np.log(eigenvalues[0]) + eigenvalues[1]*np.log(eigenvalues[1]) + eigenvalues[2]*np.log(eigenvalues[2]))\n",
    "    c_o_c = eigenvalues[2]/(eigenvalues[0]+eigenvalues[1]+eigenvalues[2])\n",
    "    \n",
    "    \n",
    "   \n",
    "    "
   ]
  },
  {
   "cell_type": "code",
   "execution_count": 7,
   "metadata": {},
   "outputs": [],
   "source": [
    "#Defining a function to extract points from a voxel based on center coordinates. Returns a list of points\n",
    "\n",
    "from sklearn.decomposition import PCA\n",
    "from tqdm.auto import tqdm\n",
    "\n",
    "\n",
    "def extractPointCloudFromVoxel(voxel_center_coordinates, pointCloud, voxel_size):\n",
    "    extractedPointClouds = []\n",
    "    for center in tqdm(voxel_center_coordinates):\n",
    "        minboundx = center[0] - voxel_size/2\n",
    "        minboundy = center[1] - voxel_size/2\n",
    "        minboundz = center[2] - voxel_size/2\n",
    "\n",
    "        maxboundx = center[0] + voxel_size/2\n",
    "        maxboundy = center[1] + voxel_size/2\n",
    "        maxboundz = center[2] + voxel_size/2\n",
    "\n",
    "        pcd = pointCloud.crop(o3d.geometry.AxisAlignedBoundingBox(min_bound=(minboundx, minboundy, minboundz), max_bound=(maxboundx, maxboundy, maxboundz)))\n",
    "        #print(\"Number of points in voxel \", len(voxel_extracted_points.points))\n",
    "        extractedPointClouds.append(pcd)\n",
    "    return extractedPointClouds\n",
    "    \n",
    "    \n",
    "    "
   ]
  },
  {
   "cell_type": "code",
   "execution_count": 21,
   "metadata": {},
   "outputs": [],
   "source": [
    "#Function to calculate features from a list of points clouds (could be one or more), returns lists for each feature\n",
    "def calculatePCAFeatures(listOfPointClouds):\n",
    "    \n",
    "    linearity =[]\n",
    "    planarity = []\n",
    "    scattering = []\n",
    "    omnivariance = []\n",
    "    sum_eigenvalues = []\n",
    "    anisotropy = []\n",
    "    eigentropy = []\n",
    "    change_of_curvature = []\n",
    "    eigenvaluesList = []\n",
    "    eigenvectorsList = []\n",
    "    points_per_voxel = []\n",
    "    \n",
    "    for pcd in tqdm(listOfPointClouds):\n",
    "        points = pcd.points\n",
    "    \n",
    "        if len(points) < 15:\n",
    "            linearity.append(0)\n",
    "            planarity.append(0)\n",
    "            scattering.append(0)\n",
    "            omnivariance.append(0)\n",
    "            sum_eigenvalues.append(0)\n",
    "            anisotropy.append(0)\n",
    "            eigentropy.append(0)\n",
    "            change_of_curvature.append(0)\n",
    "            points_per_voxel.append(points) #Kan her appende 0 istedenfor points?\n",
    "            continue\n",
    "    \n",
    "    \n",
    "        pca = PCA(n_components=3)\n",
    "        pca.fit(points)\n",
    "\n",
    "    # Extract the eigenvalues and eigenvectors\n",
    "        eigenvalues = pca.explained_variance_\n",
    "        eigenvectors = pca.components_\n",
    "    \n",
    "      #Calculating the features\n",
    "        l = (eigenvalues[0] - eigenvalues[1]) / eigenvalues[0] \n",
    "        p = (eigenvalues[1] - eigenvalues[2]) / eigenvalues[0]\n",
    "        s = eigenvalues[2] / eigenvalues[0]\n",
    "        o = (eigenvalues[0]*eigenvalues[1]*eigenvalues[2])**(1/3)\n",
    "        s_e = eigenvalues[0] + eigenvalues[1] + eigenvalues[2]\n",
    "        a = (eigenvalues[0] - eigenvalues[2]) / eigenvalues[0]\n",
    "        e = (-1)*(eigenvalues[0]*np.log(eigenvalues[0]) + eigenvalues[1]*np.log(eigenvalues[1]) + eigenvalues[2]*np.log(eigenvalues[2]))\n",
    "        c_o_c = eigenvalues[2]/(eigenvalues[0]+eigenvalues[1]+eigenvalues[2])\n",
    "\n",
    "        linearity.append(l)\n",
    "        planarity.append(p)\n",
    "        scattering.append(s)\n",
    "        omnivariance.append(o)\n",
    "        sum_eigenvalues.append(s_e)\n",
    "        anisotropy.append(a)\n",
    "        eigentropy.append(e)\n",
    "        change_of_curvature.append(c_o_c)\n",
    "        eigenvaluesList.append(eigenvalues)\n",
    "        eigenvectorsList.append(eigenvectors)\n",
    "        points_per_voxel.append(points)\n",
    "        \n",
    "    return linearity, planarity, scattering, omnivariance, sum_eigenvalues, anisotropy, eigentropy, change_of_curvature, eigenvaluesList, eigenvectorsList, points_per_voxel"
   ]
  },
  {
   "cell_type": "code",
   "execution_count": 24,
   "metadata": {},
   "outputs": [],
   "source": [
    "#Defining a seperate function to calculate z-range for a set of points\n",
    "def calculateZRange(points):\n",
    "    z_range = []\n",
    "    if len(points) < 15:\n",
    "        z_range.append(0)\n",
    "        z = np.max(points[:,2]) - np.min(points[:,2])\n",
    "        z_range.append(z)\n",
    "    return z_range\n",
    "   "
   ]
  },
  {
   "cell_type": "code",
   "execution_count": 8,
   "metadata": {},
   "outputs": [
    {
     "data": {
      "application/vnd.jupyter.widget-view+json": {
       "model_id": "05f7187924d943afb16d95b2158872a0",
       "version_major": 2,
       "version_minor": 0
      },
      "text/plain": [
       "  0%|          | 0/29528 [00:00<?, ?it/s]"
      ]
     },
     "metadata": {},
     "output_type": "display_data"
    }
   ],
   "source": [
    "#Extracting the points from each voxel\n",
    "\n",
    "extractedPointClouds = extractPointCloudFromVoxel(voxel_center_coordinates, initialCloud, voxel_size)"
   ]
  },
  {
   "cell_type": "code",
   "execution_count": 22,
   "metadata": {},
   "outputs": [
    {
     "data": {
      "application/vnd.jupyter.widget-view+json": {
       "model_id": "b1a244a9f247449a9f77d732ed5df833",
       "version_major": 2,
       "version_minor": 0
      },
      "text/plain": [
       "  0%|          | 0/29528 [00:00<?, ?it/s]"
      ]
     },
     "metadata": {},
     "output_type": "display_data"
    }
   ],
   "source": [
    "#Calculating the features for each voxel\n",
    "linearity, planarity, scattering, omnivariance, sum_eigenvalues, anisotropy, eigentropy, change_of_curvature, eigenvalues, eigenvectors, points_per_voxel = calculatePCAFeatures(extractedPointClouds)"
   ]
  },
  {
   "cell_type": "code",
   "execution_count": 25,
   "metadata": {},
   "outputs": [
    {
     "data": {
      "application/vnd.jupyter.widget-view+json": {
       "model_id": "549e416c2fd54b16bcf615d2ac45060a",
       "version_major": 2,
       "version_minor": 0
      },
      "text/plain": [
       "  0%|          | 0/29528 [00:00<?, ?it/s]"
      ]
     },
     "metadata": {},
     "output_type": "display_data"
    }
   ],
   "source": [
    "#Calculating z-range for each voxel\n",
    "\n",
    "z_range = []\n",
    "for pcd in tqdm(extractedPointClouds):\n",
    "    points = np.asarray(pcd.points)\n",
    "    z = calculateZRange(points)\n",
    "    z_range.append(z)\n"
   ]
  },
  {
   "cell_type": "code",
   "execution_count": 118,
   "metadata": {},
   "outputs": [],
   "source": [
    "#Extracting points based on two different parameters\n",
    "\n",
    "\n",
    "\n",
    "\n",
    "            "
   ]
  },
  {
   "cell_type": "code",
   "execution_count": null,
   "metadata": {},
   "outputs": [],
   "source": [
    "\n"
   ]
  },
  {
   "cell_type": "code",
   "execution_count": null,
   "metadata": {},
   "outputs": [],
   "source": [
    "#Creating a function to calculate the features for a given set of points\n",
    "\n",
    "def calculateFeatures(points):\n",
    "    pts = np.asarray(points) \n",
    "    pca = PCA(n_components=3)\n",
    "    pca.fit(pts)\n",
    "    \n",
    "    # Extract the eigenvalues and eigenvectors\n",
    "    eigenvalues = pca.explained_variance_\n",
    "    eigenvectors = pca.components_\n",
    "    \n",
    "    #Calculating the features\n",
    "    l = (eigenvalues[0] - eigenvalues[1]) / eigenvalues[0]\n",
    "    p = (eigenvalues[1] - eigenvalues[2]) / eigenvalues[0]\n",
    "    s = eigenvalues[2] / eigenvalues[0]\n",
    "    o = (eigenvalues[0]*eigenvalues[1]*eigenvalues[2])**(1/3)\n",
    "    s_e = eigenvalues[0] + eigenvalues[1] + eigenvalues[2]\n",
    "    a = (eigenvalues[0] - eigenvalues[2]) / eigenvalues[0]\n",
    "    e = (-1)*(eigenvalues[0]*np.log(eigenvalues[0]) + eigenvalues[1]*np.log(eigenvalues[1]) + eigenvalues[2]*np.log(eigenvalues[2]))\n",
    "    c_o_c = eigenvalues[2]/(eigenvalues[0]+eigenvalues[1]+eigenvalues[2])\n",
    "    \n",
    "    return l, p, s, o, s_e, a, e, c_o_c, eigenvalues, eigenvectors\n",
    "\n"
   ]
  },
  {
   "cell_type": "code",
   "execution_count": null,
   "metadata": {},
   "outputs": [],
   "source": [
    "#Calculating features for 3 houses\n",
    "house =  o3d.io.read_point_cloud(os.path.join(os.getcwd(), \"data\", \"extractedHouse.ply\"))\n",
    "house2 = o3d.io.read_point_cloud(os.path.join(os.getcwd(), \"data\", \"extractedHouse2.ply\"))\n",
    "house3 = o3d.io.read_point_cloud(os.path.join(os.getcwd(), \"data\", \"extractedHouse3.ply\"))\n",
    "\n",
    "housePoints = np.asarray(house.points)\n",
    "housePoints2 = np.asarray(house2.points)\n",
    "housePoints3 = np.asarray(house3.points)\n"
   ]
  },
  {
   "cell_type": "code",
   "execution_count": null,
   "metadata": {},
   "outputs": [],
   "source": [
    "#Calculating features for trees\n",
    "tree =  o3d.io.read_point_cloud(os.path.join(os.getcwd(), \"data\", \"extractedTree.ply\"))\n",
    "tree2 = o3d.io.read_point_cloud(os.path.join(os.getcwd(), \"data\", \"extractedTree2.ply\"))\n",
    "tree3 = o3d.io.read_point_cloud(os.path.join(os.getcwd(), \"data\", \"extractedTree3.ply\"))\n",
    "tree4 = o3d.io.read_point_cloud(os.path.join(os.getcwd(), \"data\", \"extractedTree4.ply\"))\n",
    "tree5 = o3d.io.read_point_cloud(os.path.join(os.getcwd(), \"data\", \"extractedTree5.ply\"))\n",
    "\n",
    "trees = [tree, tree2, tree3, tree4, tree5]\n",
    "treeFeatures=[]\n",
    "\n"
   ]
  },
  {
   "cell_type": "code",
   "execution_count": null,
   "metadata": {},
   "outputs": [],
   "source": [
    "print(calculateFeatures(trees[0].points))"
   ]
  },
  {
   "cell_type": "code",
   "execution_count": null,
   "metadata": {},
   "outputs": [],
   "source": [
    "def calculateAverageFeatures(feature):\n",
    "    average = 0\n",
    "    for i in feature:\n",
    "        average += i\n",
    "    return average/len(feature)"
   ]
  }
 ],
 "metadata": {
  "kernelspec": {
   "display_name": "venv",
   "language": "python",
   "name": "python3"
  },
  "language_info": {
   "codemirror_mode": {
    "name": "ipython",
    "version": 3
   },
   "file_extension": ".py",
   "mimetype": "text/x-python",
   "name": "python",
   "nbconvert_exporter": "python",
   "pygments_lexer": "ipython3",
   "version": "3.10.11"
  }
 },
 "nbformat": 4,
 "nbformat_minor": 2
}
