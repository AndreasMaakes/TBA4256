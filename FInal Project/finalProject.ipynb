{
 "cells": [
  {
   "cell_type": "code",
   "execution_count": 1,
   "metadata": {},
   "outputs": [
    {
     "name": "stdout",
     "output_type": "stream",
     "text": [
      "Jupyter environment detected. Enabling Open3D WebVisualizer.\n",
      "[Open3D INFO] WebRTC GUI backend enabled.\n",
      "[Open3D INFO] WebRTCWindowSystem: HTTP handshake server disabled.\n"
     ]
    }
   ],
   "source": [
    "#First, the point cloud has to be loaded and then read.\n",
    "#Its probably way too big to work with from the start, so I think I will use voxel downsampling\n",
    "#But first, imports\n",
    "\n",
    "import open3d as o3d\n",
    "import numpy as np\n",
    "import matplotlib.pyplot as plt\n",
    "import os   \n",
    "from pyntcloud import PyntCloud\n",
    "\n",
    "#At first im going to try to just load the pointcloud \n",
    "#It runs insanely slow, so I will try to downsample it\n",
    "\n",
    "initialCloud =  o3d.io.read_point_cloud(os.path.join(os.getcwd(), \"data\", \"croppedCloud.ply\"))\n",
    "\n",
    "\n"
   ]
  },
  {
   "cell_type": "code",
   "execution_count": null,
   "metadata": {},
   "outputs": [],
   "source": [
    "Optional step: #Downsampling the cloud first because it takes forever to run\n",
    "\n",
    "#initialCloud = initialCloud.voxel_down_sample(0.3)"
   ]
  },
  {
   "cell_type": "code",
   "execution_count": null,
   "metadata": {},
   "outputs": [],
   "source": [
    "#print(\"Number of points after downsampling \", len(initialCloud.points))"
   ]
  },
  {
   "cell_type": "code",
   "execution_count": 3,
   "metadata": {},
   "outputs": [],
   "source": [
    "#Making a voxelgrid from the point cloud\n",
    "voxel_size = 3\n",
    "voxel_grid = o3d.geometry.VoxelGrid.create_from_point_cloud(initialCloud, voxel_size)\n",
    "\n"
   ]
  },
  {
   "cell_type": "code",
   "execution_count": null,
   "metadata": {},
   "outputs": [],
   "source": [
    "o3d.visualization.draw_geometries([voxel_grid])"
   ]
  },
  {
   "cell_type": "code",
   "execution_count": 14,
   "metadata": {},
   "outputs": [],
   "source": [
    "#Extracting center points so we can calculate PCA for the points within each voxel\n",
    "\n",
    "voxel_center_coordinates= []\n",
    "\n",
    "for i in voxel_grid.get_voxels():\n",
    "    voxel_center_coordinates.append(voxel_grid.get_voxel_center_coordinate(i.grid_index))\n",
    "\n"
   ]
  },
  {
   "cell_type": "code",
   "execution_count": 5,
   "metadata": {},
   "outputs": [
    {
     "name": "stdout",
     "output_type": "stream",
     "text": [
      "29528\n"
     ]
    }
   ],
   "source": [
    "#Now we have to extract the points from the point cloud that are within each voxel\n",
    "#We can do this with the get_voxel_coordinates function\n",
    "\n",
    "print(len(voxel_grid.get_voxels()))\n",
    "    \n",
    "\n"
   ]
  },
  {
   "cell_type": "code",
   "execution_count": null,
   "metadata": {},
   "outputs": [],
   "source": [
    "#Now we have to extract the points from the point cloud that are within each voxel\n",
    "voxel_size = 0.85\n",
    "center = voxel_center_coordinates[56]\n",
    "\n",
    "minboundx = center[0] - voxel_size/2\n",
    "minboundy = center[1] - voxel_size/2\n",
    "minboundz = center[2] - voxel_size/2\n",
    "\n",
    "maxboundx = center[0] + voxel_size/2\n",
    "maxboundy = center[1] + voxel_size/2\n",
    "maxboundz = center[2] + voxel_size/2\n",
    "\n",
    "voxel_extracted_points =initialCloud.crop(o3d.geometry.AxisAlignedBoundingBox(min_bound=(minboundx, minboundy, minboundz), max_bound=(maxboundx, maxboundy, maxboundz)))"
   ]
  },
  {
   "cell_type": "code",
   "execution_count": null,
   "metadata": {},
   "outputs": [],
   "source": [
    "print(np.asarray(voxel_extracted_points.points))\n",
    "\n",
    "o3d.visualization.draw_geometries([voxel_extracted_points])\n"
   ]
  },
  {
   "cell_type": "code",
   "execution_count": null,
   "metadata": {},
   "outputs": [],
   "source": [
    "#Calculating PCA for the points within the extracted voxel\n",
    "from sklearn.decomposition import PCA\n",
    "\n",
    "points = np.asarray(voxel_extracted_points.points)\n",
    "\n",
    "# Assuming 'points' contains the 3D coordinates of your point cloud\n",
    "pca = PCA(n_components=3)\n",
    "pca.fit(points)\n",
    "\n",
    "# Extract the eigenvalues and eigenvectors\n",
    "eigenvalues = pca.explained_variance_\n",
    "eigenvectors = pca.components_\n",
    "\n"
   ]
  },
  {
   "cell_type": "code",
   "execution_count": null,
   "metadata": {},
   "outputs": [],
   "source": [
    "print(eigenvalues)\n",
    "planarity = (eigenvalues[1] - eigenvalues[2]) / eigenvalues[1]\n",
    "\n",
    "print(planarity)"
   ]
  },
  {
   "cell_type": "code",
   "execution_count": 16,
   "metadata": {},
   "outputs": [
    {
     "data": {
      "application/vnd.jupyter.widget-view+json": {
       "model_id": "6ce5766f65b64a19aceebf02c2195202",
       "version_major": 2,
       "version_minor": 0
      },
      "text/plain": [
       "  0%|          | 0/29528 [00:00<?, ?it/s]"
      ]
     },
     "metadata": {},
     "output_type": "display_data"
    }
   ],
   "source": [
    "\n",
    "from sklearn.decomposition import PCA\n",
    "from tqdm.auto import tqdm\n",
    "#Now we have to extract the points from the point cloud that are within each voxel\n",
    "voxel_size = 3\n",
    "\n",
    "\n",
    "linearity =[]\n",
    "planarity = []\n",
    "scattering = []\n",
    "omnivariance = []\n",
    "sum_eigenvalues = []\n",
    "anisotropy = []\n",
    "eigentropy = []\n",
    "change_of_curvature = []\n",
    "\n",
    "#Run this to just run it on the first 100 voxels\n",
    "#voxel_center_coordinates = voxel_center_coordinates[:100]\n",
    "\n",
    "for center in tqdm(voxel_center_coordinates):\n",
    "    minboundx = center[0] - voxel_size/2\n",
    "    minboundy = center[1] - voxel_size/2\n",
    "    minboundz = center[2] - voxel_size/2\n",
    "\n",
    "    maxboundx = center[0] + voxel_size/2\n",
    "    maxboundy = center[1] + voxel_size/2\n",
    "    maxboundz = center[2] + voxel_size/2\n",
    "\n",
    "    voxel_extracted_points =initialCloud.crop(o3d.geometry.AxisAlignedBoundingBox(min_bound=(minboundx, minboundy, minboundz), max_bound=(maxboundx, maxboundy, maxboundz)))\n",
    "    #print(\"Number of points in voxel \", len(voxel_extracted_points.points))\n",
    "    \n",
    "    points = np.asarray(voxel_extracted_points.points)\n",
    "\n",
    "    #Checking if there are enough points in the voxel to calculate PCA\n",
    "    \n",
    "    if len(points) < 15:\n",
    "        linearity.append(0)\n",
    "        planarity.append(0)\n",
    "        scattering.append(0)\n",
    "        omnivariance.append(0)\n",
    "        sum_eigenvalues.append(0)\n",
    "        anisotropy.append(0)\n",
    "        eigentropy.append(0)\n",
    "        change_of_curvature.append(0)\n",
    "        continue\n",
    "    \n",
    "    pca = PCA(n_components=3)\n",
    "    pca.fit(points)\n",
    "\n",
    "    # Extract the eigenvalues and eigenvectors\n",
    "    eigenvalues = pca.explained_variance_\n",
    "    eigenvectors = pca.components_\n",
    "    \n",
    "    #Calculating the features\n",
    "    l = (eigenvalues[0] - eigenvalues[1]) / eigenvalues[0] \n",
    "    p = (eigenvalues[1] - eigenvalues[2]) / eigenvalues[0]\n",
    "    s = eigenvalues[2] / eigenvalues[0]\n",
    "    o = (eigenvalues[0]*eigenvalues[1]*eigenvalues[2])**(1/3)\n",
    "    s_e = eigenvalues[0] + eigenvalues[1] + eigenvalues[2]\n",
    "    a = (eigenvalues[0] - eigenvalues[2]) / eigenvalues[0]\n",
    "    e = (-1)*(eigenvalues[0]*np.log(eigenvalues[0]) + eigenvalues[1]*np.log(eigenvalues[1]) + eigenvalues[2]*np.log(eigenvalues[2]))\n",
    "    c_o_c = eigenvalues[2]/(eigenvalues[0]+eigenvalues[1]+eigenvalues[2])\n",
    "    \n",
    "    linearity.append(l)\n",
    "    planarity.append(p)\n",
    "    scattering.append(s)\n",
    "    omnivariance.append(o)\n",
    "    sum_eigenvalues.append(s_e)\n",
    "    anisotropy.append(a)\n",
    "    eigentropy.append(e)\n",
    "    change_of_curvature.append(c_o_c)\n",
    "   \n",
    "    "
   ]
  },
  {
   "cell_type": "code",
   "execution_count": 13,
   "metadata": {},
   "outputs": [
    {
     "name": "stdout",
     "output_type": "stream",
     "text": [
      "100\n"
     ]
    }
   ],
   "source": [
    "print(len(voxel_center_coordinates))"
   ]
  },
  {
   "cell_type": "code",
   "execution_count": null,
   "metadata": {},
   "outputs": [],
   "source": [
    "print(curvatures)"
   ]
  }
 ],
 "metadata": {
  "kernelspec": {
   "display_name": "venv",
   "language": "python",
   "name": "python3"
  },
  "language_info": {
   "codemirror_mode": {
    "name": "ipython",
    "version": 3
   },
   "file_extension": ".py",
   "mimetype": "text/x-python",
   "name": "python",
   "nbconvert_exporter": "python",
   "pygments_lexer": "ipython3",
   "version": "3.10.11"
  }
 },
 "nbformat": 4,
 "nbformat_minor": 2
}
