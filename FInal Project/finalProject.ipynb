{
 "cells": [
  {
   "cell_type": "code",
   "execution_count": 1,
   "metadata": {},
   "outputs": [
    {
     "name": "stdout",
     "output_type": "stream",
     "text": [
      "Jupyter environment detected. Enabling Open3D WebVisualizer.\n",
      "[Open3D INFO] WebRTC GUI backend enabled.\n",
      "[Open3D INFO] WebRTCWindowSystem: HTTP handshake server disabled.\n"
     ]
    }
   ],
   "source": [
    "#First, the point cloud has to be loaded and then read.\n",
    "#Its probably way too big to work with from the start, so I think I will use voxel downsampling\n",
    "#But first, imports\n",
    "\n",
    "import open3d as o3d\n",
    "import numpy as np\n",
    "import matplotlib.pyplot as plt\n",
    "import os   \n",
    "from pyntcloud import PyntCloud\n",
    "\n",
    "#Loading the point cloud\n",
    "\n",
    "initialCloud =  o3d.io.read_point_cloud(os.path.join(os.getcwd(), \"data\", \"croppedCloud.ply\"))\n",
    "\n",
    "\n"
   ]
  },
  {
   "cell_type": "code",
   "execution_count": 3,
   "metadata": {},
   "outputs": [],
   "source": [
    "#Making a voxelgrid from the point cloud\n",
    "voxel_size = 3\n",
    "voxel_grid = o3d.geometry.VoxelGrid.create_from_point_cloud(initialCloud, voxel_size)\n",
    "\n"
   ]
  },
  {
   "cell_type": "code",
   "execution_count": 14,
   "metadata": {},
   "outputs": [],
   "source": [
    "#Extracting center points so we can calculate PCA for the points within each voxel\n",
    "\n",
    "voxel_center_coordinates= []\n",
    "\n",
    "for i in voxel_grid.get_voxels():\n",
    "    voxel_center_coordinates.append(voxel_grid.get_voxel_center_coordinate(i.grid_index))\n",
    "\n"
   ]
  },
  {
   "cell_type": "code",
   "execution_count": 38,
   "metadata": {},
   "outputs": [
    {
     "data": {
      "application/vnd.jupyter.widget-view+json": {
       "model_id": "d90babc5c58a40f1b060189ddcbdb2a2",
       "version_major": 2,
       "version_minor": 0
      },
      "text/plain": [
       "  0%|          | 0/29528 [00:00<?, ?it/s]"
      ]
     },
     "metadata": {},
     "output_type": "display_data"
    }
   ],
   "source": [
    "\n",
    "from sklearn.decomposition import PCA\n",
    "from tqdm.auto import tqdm\n",
    "\n",
    "#Now we have to extract the points from the point cloud that are within each voxel\n",
    "voxel_size = 3\n",
    "\n",
    "\n",
    "linearity =[]\n",
    "planarity = []\n",
    "scattering = []\n",
    "omnivariance = []\n",
    "sum_eigenvalues = []\n",
    "anisotropy = []\n",
    "eigentropy = []\n",
    "change_of_curvature = []\n",
    "points_per_voxel = []\n",
    "\n",
    "#Run this to just run it on the first 100 voxels\n",
    "#voxel_center_coordinates = voxel_center_coordinates[:100]\n",
    "\n",
    "for center in tqdm(voxel_center_coordinates):\n",
    "    minboundx = center[0] - voxel_size/2\n",
    "    minboundy = center[1] - voxel_size/2\n",
    "    minboundz = center[2] - voxel_size/2\n",
    "\n",
    "    maxboundx = center[0] + voxel_size/2\n",
    "    maxboundy = center[1] + voxel_size/2\n",
    "    maxboundz = center[2] + voxel_size/2\n",
    "\n",
    "    voxel_extracted_points =initialCloud.crop(o3d.geometry.AxisAlignedBoundingBox(min_bound=(minboundx, minboundy, minboundz), max_bound=(maxboundx, maxboundy, maxboundz)))\n",
    "    #print(\"Number of points in voxel \", len(voxel_extracted_points.points))\n",
    "    \n",
    "    points = np.asarray(voxel_extracted_points.points)\n",
    "\n",
    "    #Checking if there are enough points in the voxel to calculate PCA\n",
    "    \n",
    "    if len(points) < 15:\n",
    "        linearity.append(0)\n",
    "        planarity.append(0)\n",
    "        scattering.append(0)\n",
    "        omnivariance.append(0)\n",
    "        sum_eigenvalues.append(0)\n",
    "        anisotropy.append(0)\n",
    "        eigentropy.append(0)\n",
    "        change_of_curvature.append(0)\n",
    "        points_per_voxel.append(points) #Kan her appende 0 istedenfor points?\n",
    "        continue\n",
    "    \n",
    "    pca = PCA(n_components=3)\n",
    "    pca.fit(points)\n",
    "\n",
    "    # Extract the eigenvalues and eigenvectors\n",
    "    eigenvalues = pca.explained_variance_\n",
    "    eigenvectors = pca.components_\n",
    "    \n",
    "    #Calculating the features\n",
    "    l = (eigenvalues[0] - eigenvalues[1]) / eigenvalues[0] \n",
    "    p = (eigenvalues[1] - eigenvalues[2]) / eigenvalues[0]\n",
    "    s = eigenvalues[2] / eigenvalues[0]\n",
    "    o = (eigenvalues[0]*eigenvalues[1]*eigenvalues[2])**(1/3)\n",
    "    s_e = eigenvalues[0] + eigenvalues[1] + eigenvalues[2]\n",
    "    a = (eigenvalues[0] - eigenvalues[2]) / eigenvalues[0]\n",
    "    e = (-1)*(eigenvalues[0]*np.log(eigenvalues[0]) + eigenvalues[1]*np.log(eigenvalues[1]) + eigenvalues[2]*np.log(eigenvalues[2]))\n",
    "    c_o_c = eigenvalues[2]/(eigenvalues[0]+eigenvalues[1]+eigenvalues[2])\n",
    "    \n",
    "    \n",
    "    linearity.append(l)\n",
    "    planarity.append(p)\n",
    "    scattering.append(s)\n",
    "    omnivariance.append(o)\n",
    "    sum_eigenvalues.append(s_e)\n",
    "    anisotropy.append(a)\n",
    "    eigentropy.append(e)\n",
    "    change_of_curvature.append(c_o_c)\n",
    "    points_per_voxel.append(points)\n",
    "   \n",
    "    "
   ]
  },
  {
   "cell_type": "code",
   "execution_count": 39,
   "metadata": {},
   "outputs": [
    {
     "name": "stdout",
     "output_type": "stream",
     "text": [
      "29528\n",
      "29528\n"
     ]
    }
   ],
   "source": [
    "print(len(linearity))\n",
    "print(len(points_per_voxel))"
   ]
  },
  {
   "cell_type": "code",
   "execution_count": 40,
   "metadata": {},
   "outputs": [],
   "source": [
    "#Making a function to extract points based on features and thresholds to test things out\n",
    "\n",
    "def extract_points_based_on_feature(feature, feature_lower_treshold, feature_upper_treshold, points_per_voxel):\n",
    "    points = []\n",
    "    for i in range(len(feature)):\n",
    "        if feature_lower_treshold < feature[i] < feature_upper_treshold:\n",
    "            points.append(points_per_voxel[i])\n",
    "    return points\n",
    "\n"
   ]
  },
  {
   "cell_type": "code",
   "execution_count": 52,
   "metadata": {},
   "outputs": [
    {
     "data": {
      "application/vnd.jupyter.widget-view+json": {
       "model_id": "505322a93793494e9f65f51c8558f5b9",
       "version_major": 2,
       "version_minor": 0
      },
      "text/plain": [
       "  0%|          | 0/4123 [00:00<?, ?it/s]"
      ]
     },
     "metadata": {},
     "output_type": "display_data"
    },
    {
     "name": "stdout",
     "output_type": "stream",
     "text": [
      "[Open3D WARNING] GLFW Error: WGL: Failed to make context current: Ugyldig referanse. \n",
      "[Open3D WARNING] GLFW Error: WGL: Failed to make context current: Ugyldig referanse. \n",
      "[Open3D WARNING] GLFW Error: WGL: Failed to make context current: Forespurt transformeringsoperasjon er ikke støttet. \n"
     ]
    }
   ],
   "source": [
    "#Function to test out the extraction of points based on features\n",
    "\n",
    "extracted_points = extract_points_based_on_feature(eigentropy, 0.75, 1, points_per_voxel)\n",
    "\n",
    "extracted_cloud = o3d.geometry.PointCloud()\n",
    "\n",
    "for i in tqdm(extracted_points):\n",
    "    extracted_cloud.points.extend(i)\n",
    "    \n",
    "o3d.visualization.draw_geometries([extracted_cloud])\n"
   ]
  },
  {
   "cell_type": "code",
   "execution_count": 88,
   "metadata": {},
   "outputs": [],
   "source": [
    "#Creating a function to calculate the features for a given set of points\n",
    "\n",
    "\n",
    "def calculateFeatures(points):\n",
    "    pts = np.asarray(points) \n",
    "    pca = PCA(n_components=3)\n",
    "    pca.fit(pts)\n",
    "    \n",
    "    # Extract the eigenvalues and eigenvectors\n",
    "    eigenvalues = pca.explained_variance_\n",
    "    eigenvectors = pca.components_\n",
    "    \n",
    "    #Calculating the features\n",
    "    l = (eigenvalues[0] - eigenvalues[1]) / eigenvalues[0]\n",
    "    p = (eigenvalues[1] - eigenvalues[2]) / eigenvalues[0]\n",
    "    s = eigenvalues[2] / eigenvalues[0]\n",
    "    o = (eigenvalues[0]*eigenvalues[1]*eigenvalues[2])**(1/3)\n",
    "    s_e = eigenvalues[0] + eigenvalues[1] + eigenvalues[2]\n",
    "    a = (eigenvalues[0] - eigenvalues[2]) / eigenvalues[0]\n",
    "    e = (-1)*(eigenvalues[0]*np.log(eigenvalues[0]) + eigenvalues[1]*np.log(eigenvalues[1]) + eigenvalues[2]*np.log(eigenvalues[2]))\n",
    "    c_o_c = eigenvalues[2]/(eigenvalues[0]+eigenvalues[1]+eigenvalues[2])\n",
    "    \n",
    "    return l, p, s, o, s_e, a, e, c_o_c, eigenvalues, eigenvectors\n",
    "\n"
   ]
  },
  {
   "cell_type": "code",
   "execution_count": 91,
   "metadata": {},
   "outputs": [
    {
     "name": "stdout",
     "output_type": "stream",
     "text": [
      "Linearity : 0.17789106441625202 0.5544561822376141 0.56829661179632\n",
      "Planarity : 0.4369548386017082 0.33552532841917787 0.3752820317081494\n",
      "Scattering : 0.3851540969820398 0.1100184893432081 0.05642135649553062\n",
      "Omnivariance : 31.216447269184073 35.6311781014578 56.593705463876205\n",
      "Sum of eigenvalues : 101.09187869547794 151.44870359283362 290.5345652100888\n",
      "Anisotropy : 0.6148459030179603 0.8899815106567919 0.9435786435044694\n",
      "Eigenentropy : -362.39741418251685 -634.6838816007335 -1429.8709478585688\n",
      "Change of curvature : 0.17449397344109246 0.07072586475042421 0.03791439978167614\n"
     ]
    }
   ],
   "source": [
    "#Calculating features for 3 houses\n",
    "house =  o3d.io.read_point_cloud(os.path.join(os.getcwd(), \"data\", \"extractedHouse.ply\"))\n",
    "house2 = o3d.io.read_point_cloud(os.path.join(os.getcwd(), \"data\", \"extractedHouse2.ply\"))\n",
    "house3 = o3d.io.read_point_cloud(os.path.join(os.getcwd(), \"data\", \"extractedHouse3.ply\"))\n",
    "\n",
    "\n",
    "houseFeatures = calculateFeatures(house.points)\n",
    "houseFeatures2 = calculateFeatures(house2.points)\n",
    "houseFeatures3 = calculateFeatures(house3.points)\n",
    "\n",
    "\n",
    "print(\"Linearity :\" ,houseFeatures[0], houseFeatures2[0], houseFeatures3[0])\n",
    "print(\"Planarity :\" ,houseFeatures[1], houseFeatures2[1], houseFeatures3[1])\n",
    "print(\"Scattering :\" ,houseFeatures[2], houseFeatures2[2], houseFeatures3[2])\n",
    "print(\"Omnivariance :\" ,houseFeatures[3], houseFeatures2[3], houseFeatures3[3])\n",
    "print(\"Sum of eigenvalues :\" ,houseFeatures[4], houseFeatures2[4], houseFeatures3[4])\n",
    "print(\"Anisotropy :\" ,houseFeatures[5], houseFeatures2[5], houseFeatures3[5])\n",
    "print(\"Eigenentropy :\" ,houseFeatures[6], houseFeatures2[6], houseFeatures3[6])\n",
    "print(\"Change of curvature :\" ,houseFeatures[7], houseFeatures2[7], houseFeatures3[7])\n",
    "\n",
    "\n",
    "\n",
    "\n",
    "#Making a scatterplot for each feature\n",
    "\n",
    "\n"
   ]
  },
  {
   "cell_type": "code",
   "execution_count": 92,
   "metadata": {},
   "outputs": [
    {
     "name": "stdout",
     "output_type": "stream",
     "text": [
      "Linearity : 0.42906009838900616 0.2229921316247172 0.260953560855383\n",
      "Planarity : 0.10786984629037658 0.12603996336759488 0.19781701911389216\n",
      "Scattering : 0.4630700553206173 0.650967905007688 0.5412294200307248\n",
      "Omnivariance : 15.137927881908917 24.738396968984496 34.626539094443835\n",
      "Sum of eigenvalues : 47.9741337765976 75.38545701249012 107.16314091022525\n",
      "Anisotropy : 0.5369299446793827 0.3490320949923121 0.45877057996927517\n",
      "Eigenentropy : -135.67360274987504 -244.22734412966065 -386.466190837289\n",
      "Change of curvature : 0.2276636128267424 0.26811136756141307 0.23735260707731196\n"
     ]
    }
   ],
   "source": [
    "#Calculating features for 3 trees\n",
    "tree =  o3d.io.read_point_cloud(os.path.join(os.getcwd(), \"data\", \"extractedTree.ply\"))\n",
    "tree2 = o3d.io.read_point_cloud(os.path.join(os.getcwd(), \"data\", \"extractedTree2.ply\"))\n",
    "tree3 = o3d.io.read_point_cloud(os.path.join(os.getcwd(), \"data\", \"extractedTree3.ply\"))\n",
    "\n",
    "\n",
    "treeFeatures = calculateFeatures(tree.points)\n",
    "treeFeatures2 = calculateFeatures(tree2.points)\n",
    "treeFeatures3 = calculateFeatures(tree3.points)\n",
    "\n",
    "\n",
    "print(\"Linearity :\" ,treeFeatures[0], treeFeatures2[0], treeFeatures3[0])\n",
    "print(\"Planarity :\" ,treeFeatures[1], treeFeatures2[1], treeFeatures3[1])\n",
    "print(\"Scattering :\" ,treeFeatures[2], treeFeatures2[2], treeFeatures3[2])\n",
    "print(\"Omnivariance :\" ,treeFeatures[3], treeFeatures2[3], treeFeatures3[3])\n",
    "print(\"Sum of eigenvalues :\" ,treeFeatures[4], treeFeatures2[4], treeFeatures3[4])\n",
    "print(\"Anisotropy :\" ,treeFeatures[5], treeFeatures2[5], treeFeatures3[5])\n",
    "print(\"Eigenentropy :\" ,treeFeatures[6], treeFeatures2[6], treeFeatures3[6])\n",
    "print(\"Change of curvature :\" ,treeFeatures[7], treeFeatures2[7], treeFeatures3[7])\n",
    "\n"
   ]
  }
 ],
 "metadata": {
  "kernelspec": {
   "display_name": "venv",
   "language": "python",
   "name": "python3"
  },
  "language_info": {
   "codemirror_mode": {
    "name": "ipython",
    "version": 3
   },
   "file_extension": ".py",
   "mimetype": "text/x-python",
   "name": "python",
   "nbconvert_exporter": "python",
   "pygments_lexer": "ipython3",
   "version": "3.10.11"
  }
 },
 "nbformat": 4,
 "nbformat_minor": 2
}
