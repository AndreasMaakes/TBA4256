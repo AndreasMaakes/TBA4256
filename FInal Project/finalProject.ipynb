{
 "cells": [
  {
   "cell_type": "code",
   "execution_count": 2,
   "metadata": {},
   "outputs": [
    {
     "name": "stdout",
     "output_type": "stream",
     "text": [
      "Jupyter environment detected. Enabling Open3D WebVisualizer.\n",
      "[Open3D INFO] WebRTC GUI backend enabled.\n",
      "[Open3D INFO] WebRTCWindowSystem: HTTP handshake server disabled.\n"
     ]
    }
   ],
   "source": [
    "#First, the point cloud has to be loaded and then read.\n",
    "#Its probably way too big to work with from the start, so I think I will use voxel downsampling\n",
    "#But first, imports\n",
    "\n",
    "import open3d as o3d\n",
    "import numpy as np\n",
    "import matplotlib.pyplot as plt\n",
    "import os   \n",
    "import pyntcloud as pycld \n",
    "\n",
    "#At first im going to try to just load the pointcloud \n",
    "#It runs insanely slow, so I will try to downsample it\n",
    "\n",
    "initialCloud = pcd = o3d.io.read_point_cloud(os.path.join(os.getcwd(), \"data\", \"convertedCloud.ply\"))\n",
    "\n",
    "o3d.visualization.draw_geometries([initialCloud])\n",
    "\n"
   ]
  },
  {
   "cell_type": "code",
   "execution_count": 12,
   "metadata": {},
   "outputs": [
    {
     "name": "stdout",
     "output_type": "stream",
     "text": [
      "This reduced the point cloud by :  60.14295870316536 %\n"
     ]
    }
   ],
   "source": [
    "#Downsampling with open3d\n",
    "\n",
    "downsampledCloud = initialCloud.voxel_down_sample(voxel_size=0.3)\n",
    "print(\"This reduced the point cloud by : \" ,  100 - len(downsampledCloud.points) / len(initialCloud.points) * 100 , \"%\")"
   ]
  },
  {
   "cell_type": "code",
   "execution_count": 11,
   "metadata": {},
   "outputs": [],
   "source": [
    "o3d.visualization.draw_geometries([downsampledCloud])"
   ]
  },
  {
   "cell_type": "code",
   "execution_count": null,
   "metadata": {},
   "outputs": [],
   "source": [
    "#For the next part we have to open the point cloud with pyntcloud so we can voxelize it"
   ]
  }
 ],
 "metadata": {
  "kernelspec": {
   "display_name": "venv",
   "language": "python",
   "name": "python3"
  },
  "language_info": {
   "codemirror_mode": {
    "name": "ipython",
    "version": 3
   },
   "file_extension": ".py",
   "mimetype": "text/x-python",
   "name": "python",
   "nbconvert_exporter": "python",
   "pygments_lexer": "ipython3",
   "version": "3.10.11"
  }
 },
 "nbformat": 4,
 "nbformat_minor": 2
}
