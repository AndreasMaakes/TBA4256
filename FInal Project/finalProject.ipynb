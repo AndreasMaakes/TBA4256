{
 "cells": [
  {
   "cell_type": "code",
   "execution_count": 1,
   "metadata": {},
   "outputs": [
    {
     "name": "stdout",
     "output_type": "stream",
     "text": [
      "Jupyter environment detected. Enabling Open3D WebVisualizer.\n",
      "[Open3D INFO] WebRTC GUI backend enabled.\n",
      "[Open3D INFO] WebRTCWindowSystem: HTTP handshake server disabled.\n"
     ]
    }
   ],
   "source": [
    "#First, the point cloud has to be loaded and then read.\n",
    "#Its probably way too big to work with from the start, so I think I will use voxel downsampling\n",
    "#But first, imports\n",
    "\n",
    "import open3d as o3d\n",
    "import numpy as np\n",
    "import matplotlib.pyplot as plt\n",
    "import os   \n",
    "from pyntcloud import PyntCloud\n",
    "\n",
    "#Loading the point cloud\n",
    "\n",
    "initialCloud =  o3d.io.read_point_cloud(os.path.join(os.getcwd(), \"data\", \"croppedCloud.ply\")) \n",
    "\n",
    "\n"
   ]
  },
  {
   "cell_type": "code",
   "execution_count": 2,
   "metadata": {},
   "outputs": [],
   "source": [
    "#Making a voxelgrid from the point cloud\n",
    "voxel_size = 3\n",
    "voxel_grid = o3d.geometry.VoxelGrid.create_from_point_cloud(initialCloud, voxel_size)\n",
    "\n"
   ]
  },
  {
   "cell_type": "code",
   "execution_count": 3,
   "metadata": {},
   "outputs": [],
   "source": [
    "#Extracting center points so we can calculate PCA for the points within each voxel\n",
    "\n",
    "voxel_center_coordinates= []\n",
    "\n",
    "for i in voxel_grid.get_voxels():\n",
    "    voxel_center_coordinates.append(voxel_grid.get_voxel_center_coordinate(i.grid_index))\n",
    "\n"
   ]
  },
  {
   "cell_type": "code",
   "execution_count": null,
   "metadata": {},
   "outputs": [],
   "source": [
    "#This is old code, not if needed anymore\n",
    "from sklearn.decomposition import PCA\n",
    "from tqdm.auto import tqdm\n",
    "\n",
    "#Extracting points from each voxel, calculating features for all of them and storing them in lists\n",
    "voxel_size = 3\n",
    "\n",
    "\n",
    "linearity =[]\n",
    "planarity = []\n",
    "scattering = []\n",
    "omnivariance = []\n",
    "sum_eigenvalues = []\n",
    "anisotropy = []\n",
    "eigentropy = []\n",
    "change_of_curvature = []\n",
    "points_per_voxel = []\n",
    "z_range = []\n",
    " \n",
    "\n",
    "#Calculating Z-range and standard deviation from the plane for each voxel\n",
    "\n",
    "#Z-range\n",
    "\n",
    "#Defining a function to calculate the z range\n",
    "def calculateZRange(points):\n",
    "    if len(points) < 15:\n",
    "        return 0\n",
    "    return(np.max(points[:,2]) - np.min(points[:,2]))\n",
    "   \n",
    "#Run this to just run it on the first 100 voxels\n",
    "#voxel_center_coordinates = voxel_center_coordinates[:100]\n",
    "\n",
    "\n",
    "for center in tqdm(voxel_center_coordinates):\n",
    "    minboundx = center[0] - voxel_size/2\n",
    "    minboundy = center[1] - voxel_size/2\n",
    "    minboundz = center[2] - voxel_size/2\n",
    "\n",
    "    maxboundx = center[0] + voxel_size/2\n",
    "    maxboundy = center[1] + voxel_size/2\n",
    "    maxboundz = center[2] + voxel_size/2\n",
    "\n",
    "    voxel_extracted_points =initialCloud.crop(o3d.geometry.AxisAlignedBoundingBox(min_bound=(minboundx, minboundy, minboundz), max_bound=(maxboundx, maxboundy, maxboundz)))\n",
    "    #print(\"Number of points in voxel \", len(voxel_extracted_points.points))\n",
    "    \n",
    "    points = np.asarray(voxel_extracted_points.points)\n",
    "    \n",
    "    #Checking if there are enough points in the voxel to calculate PCA\n",
    "    \n",
    "    if len(points) < 15:\n",
    "        linearity.append(0)\n",
    "        planarity.append(0)\n",
    "        scattering.append(0)\n",
    "        omnivariance.append(0)\n",
    "        sum_eigenvalues.append(0)\n",
    "        anisotropy.append(0)\n",
    "        eigentropy.append(0)\n",
    "        change_of_curvature.append(0)\n",
    "        points_per_voxel.append(points) #Kan her appende 0 istedenfor points?\n",
    "        continue\n",
    "    \n",
    "    pca = PCA(n_components=3)\n",
    "    pca.fit(points)\n",
    "\n",
    "    # Extract the eigenvalues and eigenvectors\n",
    "    eigenvalues = pca.explained_variance_\n",
    "    eigenvectors = pca.components_\n",
    "    \n",
    "    #Calculating the features\n",
    "    l = (eigenvalues[0] - eigenvalues[1]) / eigenvalues[0] \n",
    "    p = (eigenvalues[1] - eigenvalues[2]) / eigenvalues[0]\n",
    "    s = eigenvalues[2] / eigenvalues[0]\n",
    "    o = (eigenvalues[0]*eigenvalues[1]*eigenvalues[2])**(1/3)\n",
    "    s_e = eigenvalues[0] + eigenvalues[1] + eigenvalues[2]\n",
    "    a = (eigenvalues[0] - eigenvalues[2]) / eigenvalues[0]\n",
    "    e = (-1)*(eigenvalues[0]*np.log(eigenvalues[0]) + eigenvalues[1]*np.log(eigenvalues[1]) + eigenvalues[2]*np.log(eigenvalues[2]))\n",
    "    c_o_c = eigenvalues[2]/(eigenvalues[0]+eigenvalues[1]+eigenvalues[2])\n",
    "    \n",
    "    \n",
    "   \n",
    "    "
   ]
  },
  {
   "cell_type": "code",
   "execution_count": 4,
   "metadata": {},
   "outputs": [],
   "source": [
    "#Defining a function to extract points from a voxel based on center coordinates. Returns a list of points\n",
    "\n",
    "from sklearn.decomposition import PCA\n",
    "from tqdm.auto import tqdm\n",
    "\n",
    "\n",
    "def extractPointCloudFromVoxel(voxel_center_coordinates, pointCloud, voxel_size):\n",
    "    extractedPointClouds = []\n",
    "    for center in tqdm(voxel_center_coordinates):\n",
    "        minboundx = center[0] - voxel_size/2\n",
    "        minboundy = center[1] - voxel_size/2\n",
    "        minboundz = center[2] - voxel_size/2\n",
    "\n",
    "        maxboundx = center[0] + voxel_size/2\n",
    "        maxboundy = center[1] + voxel_size/2\n",
    "        maxboundz = center[2] + voxel_size/2\n",
    "\n",
    "        pcd = pointCloud.crop(o3d.geometry.AxisAlignedBoundingBox(min_bound=(minboundx, minboundy, minboundz), max_bound=(maxboundx, maxboundy, maxboundz)))\n",
    "        #print(\"Number of points in voxel \", len(voxel_extracted_points.points))\n",
    "        extractedPointClouds.append(pcd)\n",
    "    return extractedPointClouds\n",
    "    \n",
    "    \n",
    "    "
   ]
  },
  {
   "cell_type": "code",
   "execution_count": 5,
   "metadata": {},
   "outputs": [],
   "source": [
    "#Function to calculate features from a list of points clouds (could be one or more), returns lists for each feature\n",
    "def calculatePCAFeatures(listOfPointClouds):\n",
    "    \n",
    "    linearity =[]\n",
    "    planarity = []\n",
    "    scattering = []\n",
    "    omnivariance = []\n",
    "    sum_eigenvalues = []\n",
    "    anisotropy = []\n",
    "    eigentropy = []\n",
    "    change_of_curvature = []\n",
    "    eigenvaluesList = []\n",
    "    eigenvectorsList = []\n",
    "    points_per_voxel = []\n",
    "    \n",
    "    for pcd in tqdm(listOfPointClouds):\n",
    "        points = pcd.points\n",
    "    \n",
    "        if len(points) < 15:\n",
    "            linearity.append(0)\n",
    "            planarity.append(0)\n",
    "            scattering.append(0)\n",
    "            omnivariance.append(0)\n",
    "            sum_eigenvalues.append(0)\n",
    "            anisotropy.append(0)\n",
    "            eigentropy.append(0)\n",
    "            change_of_curvature.append(0)\n",
    "            points_per_voxel.append(points) #Kan her appende 0 istedenfor points?\n",
    "            continue\n",
    "    \n",
    "    \n",
    "        pca = PCA(n_components=3)\n",
    "        pca.fit(points)\n",
    "\n",
    "    # Extract the eigenvalues and eigenvectors\n",
    "        eigenvalues = pca.explained_variance_\n",
    "        eigenvectors = pca.components_\n",
    "    \n",
    "      #Calculating the features\n",
    "        l = (eigenvalues[0] - eigenvalues[1]) / eigenvalues[0] \n",
    "        p = (eigenvalues[1] - eigenvalues[2]) / eigenvalues[0]\n",
    "        s = eigenvalues[2] / eigenvalues[0]\n",
    "        o = (eigenvalues[0]*eigenvalues[1]*eigenvalues[2])**(1/3)\n",
    "        s_e = eigenvalues[0] + eigenvalues[1] + eigenvalues[2]\n",
    "        a = (eigenvalues[0] - eigenvalues[2]) / eigenvalues[0]\n",
    "        e = (-1)*(eigenvalues[0]*np.log(eigenvalues[0]) + eigenvalues[1]*np.log(eigenvalues[1]) + eigenvalues[2]*np.log(eigenvalues[2]))\n",
    "        c_o_c = eigenvalues[2]/(eigenvalues[0]+eigenvalues[1]+eigenvalues[2])\n",
    "\n",
    "        linearity.append(l)\n",
    "        planarity.append(p)\n",
    "        scattering.append(s)\n",
    "        omnivariance.append(o)\n",
    "        sum_eigenvalues.append(s_e)\n",
    "        anisotropy.append(a)\n",
    "        eigentropy.append(e)\n",
    "        change_of_curvature.append(c_o_c)\n",
    "        eigenvaluesList.append(eigenvalues)\n",
    "        eigenvectorsList.append(eigenvectors)\n",
    "        points_per_voxel.append(points)\n",
    "        \n",
    "    return linearity, planarity, scattering, omnivariance, sum_eigenvalues, anisotropy, eigentropy, change_of_curvature, eigenvaluesList, eigenvectorsList, points_per_voxel"
   ]
  },
  {
   "cell_type": "code",
   "execution_count": 24,
   "metadata": {},
   "outputs": [],
   "source": [
    "#Defining a seperate function to calculate z-range for a set of points\n",
    "def calculateZRange(points):\n",
    "    z_range = []\n",
    "    if len(points) < 15:\n",
    "        z_range.append(0)\n",
    "        z = np.max(points[:,2]) - np.min(points[:,2])\n",
    "        z_range.append(z)\n",
    "    return z_range\n",
    "   "
   ]
  },
  {
   "cell_type": "code",
   "execution_count": 7,
   "metadata": {},
   "outputs": [
    {
     "data": {
      "application/vnd.jupyter.widget-view+json": {
       "model_id": "6f1987b037aa45da8187c6233f385e93",
       "version_major": 2,
       "version_minor": 0
      },
      "text/plain": [
       "  0%|          | 0/29528 [00:00<?, ?it/s]"
      ]
     },
     "metadata": {},
     "output_type": "display_data"
    }
   ],
   "source": [
    "#Extracting the points from each voxel\n",
    "\n",
    "extractedPointClouds = extractPointCloudFromVoxel(voxel_center_coordinates, initialCloud, voxel_size)"
   ]
  },
  {
   "cell_type": "code",
   "execution_count": 8,
   "metadata": {},
   "outputs": [
    {
     "data": {
      "application/vnd.jupyter.widget-view+json": {
       "model_id": "394d2a8173d24480a59933d5fa4874cc",
       "version_major": 2,
       "version_minor": 0
      },
      "text/plain": [
       "  0%|          | 0/29528 [00:00<?, ?it/s]"
      ]
     },
     "metadata": {},
     "output_type": "display_data"
    }
   ],
   "source": [
    "#Calculating the features for each voxel\n",
    "linearity, planarity, scattering, omnivariance, sum_eigenvalues, anisotropy, eigentropy, change_of_curvature, eigenvalues, eigenvectors, points_per_voxel = calculatePCAFeatures(extractedPointClouds)"
   ]
  },
  {
   "cell_type": "code",
   "execution_count": 25,
   "metadata": {},
   "outputs": [
    {
     "data": {
      "application/vnd.jupyter.widget-view+json": {
       "model_id": "d00fdd14b094451ab65d236940fd0eae",
       "version_major": 2,
       "version_minor": 0
      },
      "text/plain": [
       "  0%|          | 0/29528 [00:00<?, ?it/s]"
      ]
     },
     "metadata": {},
     "output_type": "display_data"
    }
   ],
   "source": [
    "#Calculating z-range for each voxel (var noe galt her, må finne ut senere)\n",
    "\n",
    "z_range = []\n",
    "for pcd in tqdm(extractedPointClouds):\n",
    "    points = np.asarray(pcd.points)\n",
    "    if len(points) < 15:\n",
    "        z_range.append(0)\n",
    "        continue\n",
    "    z = calculateZRange(points)\n",
    "    z_range.append(z)\n"
   ]
  },
  {
   "cell_type": "code",
   "execution_count": 90,
   "metadata": {},
   "outputs": [],
   "source": [
    "#Making a dataframe with all the features and the points for each voxel with an empty label column\n",
    "\n",
    "import pandas as pd\n",
    "\n",
    "# both lists, with columns specified\n",
    "label = [0] * len(linearity) #Placeholder zeroes\n",
    "\n",
    "df = pd.DataFrame(list(zip(points_per_voxel, linearity, planarity, scattering, omnivariance, sum_eigenvalues, anisotropy, eigentropy, change_of_curvature, label)),\n",
    "\t\t\tcolumns =[ 'points', 'linearity', 'planarity', 'scattering', 'omnivariance', 'sum_eigenvalues', 'anisotropy', 'eigentropy', 'change_of_curvature', 'label'])\n",
    "\n"
   ]
  },
  {
   "cell_type": "code",
   "execution_count": 91,
   "metadata": {},
   "outputs": [
    {
     "data": {
      "text/plain": [
       "0        0\n",
       "1        0\n",
       "2        0\n",
       "3        0\n",
       "4        0\n",
       "        ..\n",
       "29523    0\n",
       "29524    0\n",
       "29525    0\n",
       "29526    0\n",
       "29527    0\n",
       "Name: label, Length: 29528, dtype: int64"
      ]
     },
     "execution_count": 91,
     "metadata": {},
     "output_type": "execute_result"
    }
   ],
   "source": []
  },
  {
   "cell_type": "code",
   "execution_count": 32,
   "metadata": {},
   "outputs": [
    {
     "data": {
      "text/html": [
       "<div>\n",
       "<style scoped>\n",
       "    .dataframe tbody tr th:only-of-type {\n",
       "        vertical-align: middle;\n",
       "    }\n",
       "\n",
       "    .dataframe tbody tr th {\n",
       "        vertical-align: top;\n",
       "    }\n",
       "\n",
       "    .dataframe thead th {\n",
       "        text-align: right;\n",
       "    }\n",
       "</style>\n",
       "<table border=\"1\" class=\"dataframe\">\n",
       "  <thead>\n",
       "    <tr style=\"text-align: right;\">\n",
       "      <th></th>\n",
       "      <th>points</th>\n",
       "      <th>linearity</th>\n",
       "      <th>planarity</th>\n",
       "      <th>scattering</th>\n",
       "      <th>omnivariance</th>\n",
       "      <th>sum_eigenvalues</th>\n",
       "      <th>anisotropy</th>\n",
       "      <th>eigentropy</th>\n",
       "      <th>change_of_curvature</th>\n",
       "    </tr>\n",
       "  </thead>\n",
       "  <tbody>\n",
       "    <tr>\n",
       "      <th>0</th>\n",
       "      <td>[[570149.970001, 7034352.429993, 4.96], [57015...</td>\n",
       "      <td>0.439892</td>\n",
       "      <td>0.085995</td>\n",
       "      <td>0.474113</td>\n",
       "      <td>0.581093</td>\n",
       "      <td>1.839046</td>\n",
       "      <td>0.525887</td>\n",
       "      <td>0.798887</td>\n",
       "      <td>0.233069</td>\n",
       "    </tr>\n",
       "    <tr>\n",
       "      <th>1</th>\n",
       "      <td>[[570268.780029, 7034220.920013, 27.32], [5702...</td>\n",
       "      <td>0.429511</td>\n",
       "      <td>0.557233</td>\n",
       "      <td>0.013256</td>\n",
       "      <td>0.167289</td>\n",
       "      <td>1.349800</td>\n",
       "      <td>0.986744</td>\n",
       "      <td>0.537485</td>\n",
       "      <td>0.008370</td>\n",
       "    </tr>\n",
       "    <tr>\n",
       "      <th>2</th>\n",
       "      <td>[[570331.419983, 7034335.01001, 20.65], [57033...</td>\n",
       "      <td>0.164252</td>\n",
       "      <td>0.835163</td>\n",
       "      <td>0.000585</td>\n",
       "      <td>0.064187</td>\n",
       "      <td>1.496035</td>\n",
       "      <td>0.999415</td>\n",
       "      <td>0.432333</td>\n",
       "      <td>0.000319</td>\n",
       "    </tr>\n",
       "    <tr>\n",
       "      <th>3</th>\n",
       "      <td>[[570203.660004, 7034216.220001, 24.42], [5702...</td>\n",
       "      <td>0.705547</td>\n",
       "      <td>0.261180</td>\n",
       "      <td>0.033273</td>\n",
       "      <td>0.208933</td>\n",
       "      <td>1.296424</td>\n",
       "      <td>0.966727</td>\n",
       "      <td>0.493010</td>\n",
       "      <td>0.025060</td>\n",
       "    </tr>\n",
       "    <tr>\n",
       "      <th>4</th>\n",
       "      <td>[[570257.23999, 7034343.890015, 16.940001], [5...</td>\n",
       "      <td>0.501917</td>\n",
       "      <td>0.370362</td>\n",
       "      <td>0.127722</td>\n",
       "      <td>0.107745</td>\n",
       "      <td>0.438810</td>\n",
       "      <td>0.872278</td>\n",
       "      <td>0.739346</td>\n",
       "      <td>0.078559</td>\n",
       "    </tr>\n",
       "    <tr>\n",
       "      <th>...</th>\n",
       "      <td>...</td>\n",
       "      <td>...</td>\n",
       "      <td>...</td>\n",
       "      <td>...</td>\n",
       "      <td>...</td>\n",
       "      <td>...</td>\n",
       "      <td>...</td>\n",
       "      <td>...</td>\n",
       "      <td>...</td>\n",
       "    </tr>\n",
       "    <tr>\n",
       "      <th>29523</th>\n",
       "      <td>[[570216.380005, 7034328.049988, 18.780001]]</td>\n",
       "      <td>0.000000</td>\n",
       "      <td>0.000000</td>\n",
       "      <td>0.000000</td>\n",
       "      <td>0.000000</td>\n",
       "      <td>0.000000</td>\n",
       "      <td>0.000000</td>\n",
       "      <td>0.000000</td>\n",
       "      <td>0.000000</td>\n",
       "    </tr>\n",
       "    <tr>\n",
       "      <th>29524</th>\n",
       "      <td>[[570223.340027, 7034311.540009, 12.65], [5702...</td>\n",
       "      <td>0.000000</td>\n",
       "      <td>0.000000</td>\n",
       "      <td>0.000000</td>\n",
       "      <td>0.000000</td>\n",
       "      <td>0.000000</td>\n",
       "      <td>0.000000</td>\n",
       "      <td>0.000000</td>\n",
       "      <td>0.000000</td>\n",
       "    </tr>\n",
       "    <tr>\n",
       "      <th>29525</th>\n",
       "      <td>[[570203.959991, 7034358.919983, 6.68]]</td>\n",
       "      <td>0.000000</td>\n",
       "      <td>0.000000</td>\n",
       "      <td>0.000000</td>\n",
       "      <td>0.000000</td>\n",
       "      <td>0.000000</td>\n",
       "      <td>0.000000</td>\n",
       "      <td>0.000000</td>\n",
       "      <td>0.000000</td>\n",
       "    </tr>\n",
       "    <tr>\n",
       "      <th>29526</th>\n",
       "      <td>[[570234.849976, 7034343.909973, 17.35], [5702...</td>\n",
       "      <td>0.000000</td>\n",
       "      <td>0.000000</td>\n",
       "      <td>0.000000</td>\n",
       "      <td>0.000000</td>\n",
       "      <td>0.000000</td>\n",
       "      <td>0.000000</td>\n",
       "      <td>0.000000</td>\n",
       "      <td>0.000000</td>\n",
       "    </tr>\n",
       "    <tr>\n",
       "      <th>29527</th>\n",
       "      <td>[[570240.359985, 7034347.150024, 13.49], [5702...</td>\n",
       "      <td>0.000000</td>\n",
       "      <td>0.000000</td>\n",
       "      <td>0.000000</td>\n",
       "      <td>0.000000</td>\n",
       "      <td>0.000000</td>\n",
       "      <td>0.000000</td>\n",
       "      <td>0.000000</td>\n",
       "      <td>0.000000</td>\n",
       "    </tr>\n",
       "  </tbody>\n",
       "</table>\n",
       "<p>29528 rows × 9 columns</p>\n",
       "</div>"
      ],
      "text/plain": [
       "                                                  points  linearity  \\\n",
       "0      [[570149.970001, 7034352.429993, 4.96], [57015...   0.439892   \n",
       "1      [[570268.780029, 7034220.920013, 27.32], [5702...   0.429511   \n",
       "2      [[570331.419983, 7034335.01001, 20.65], [57033...   0.164252   \n",
       "3      [[570203.660004, 7034216.220001, 24.42], [5702...   0.705547   \n",
       "4      [[570257.23999, 7034343.890015, 16.940001], [5...   0.501917   \n",
       "...                                                  ...        ...   \n",
       "29523       [[570216.380005, 7034328.049988, 18.780001]]   0.000000   \n",
       "29524  [[570223.340027, 7034311.540009, 12.65], [5702...   0.000000   \n",
       "29525            [[570203.959991, 7034358.919983, 6.68]]   0.000000   \n",
       "29526  [[570234.849976, 7034343.909973, 17.35], [5702...   0.000000   \n",
       "29527  [[570240.359985, 7034347.150024, 13.49], [5702...   0.000000   \n",
       "\n",
       "       planarity  scattering  omnivariance  sum_eigenvalues  anisotropy  \\\n",
       "0       0.085995    0.474113      0.581093         1.839046    0.525887   \n",
       "1       0.557233    0.013256      0.167289         1.349800    0.986744   \n",
       "2       0.835163    0.000585      0.064187         1.496035    0.999415   \n",
       "3       0.261180    0.033273      0.208933         1.296424    0.966727   \n",
       "4       0.370362    0.127722      0.107745         0.438810    0.872278   \n",
       "...          ...         ...           ...              ...         ...   \n",
       "29523   0.000000    0.000000      0.000000         0.000000    0.000000   \n",
       "29524   0.000000    0.000000      0.000000         0.000000    0.000000   \n",
       "29525   0.000000    0.000000      0.000000         0.000000    0.000000   \n",
       "29526   0.000000    0.000000      0.000000         0.000000    0.000000   \n",
       "29527   0.000000    0.000000      0.000000         0.000000    0.000000   \n",
       "\n",
       "       eigentropy  change_of_curvature  \n",
       "0        0.798887             0.233069  \n",
       "1        0.537485             0.008370  \n",
       "2        0.432333             0.000319  \n",
       "3        0.493010             0.025060  \n",
       "4        0.739346             0.078559  \n",
       "...           ...                  ...  \n",
       "29523    0.000000             0.000000  \n",
       "29524    0.000000             0.000000  \n",
       "29525    0.000000             0.000000  \n",
       "29526    0.000000             0.000000  \n",
       "29527    0.000000             0.000000  \n",
       "\n",
       "[29528 rows x 9 columns]"
      ]
     },
     "execution_count": 32,
     "metadata": {},
     "output_type": "execute_result"
    }
   ],
   "source": [
    "df"
   ]
  },
  {
   "cell_type": "code",
   "execution_count": 36,
   "metadata": {},
   "outputs": [],
   "source": [
    "import os\n",
    "#Read all the houses into a list\n",
    "\n",
    "houses_folder = os.path.join(os.getcwd(), \"data\", \"Houses\")\n",
    "houses_files = os.listdir(houses_folder)\n",
    "\n",
    "houses = []\n",
    "for file in houses_files:\n",
    "    if file.endswith(\".ply\"):\n",
    "        house = o3d.io.read_point_cloud(os.path.join(houses_folder, file))\n",
    "        houses.append(house)\n"
   ]
  },
  {
   "cell_type": "code",
   "execution_count": 37,
   "metadata": {},
   "outputs": [],
   "source": [
    "#Load all the trees into a list\n",
    "\n",
    "trees_folder = os.path.join(os.getcwd(), \"data\", \"Trees\")   \n",
    "trees_files = os.listdir(trees_folder)\n",
    "\n",
    "trees = []\n",
    "for file in trees_files:\n",
    "    if file.endswith(\".ply\"):\n",
    "        tree = o3d.io.read_point_cloud(os.path.join(trees_folder, file))\n",
    "        trees.append(tree)\n"
   ]
  },
  {
   "cell_type": "code",
   "execution_count": 153,
   "metadata": {},
   "outputs": [],
   "source": [
    "#Load all terrain into a list\n",
    "\n",
    "terrain_folder = os.path.join(os.getcwd(), \"data\", \"Terrain\")\n",
    "terrain_files = os.listdir(terrain_folder)\n",
    "\n",
    "terrain = []\n",
    "for file in terrain_files:\n",
    "    if file.endswith(\".ply\"):\n",
    "        terrain_piece = o3d.io.read_point_cloud(os.path.join(terrain_folder, file))\n",
    "        terrain.append(terrain_piece)\n"
   ]
  },
  {
   "cell_type": "code",
   "execution_count": 92,
   "metadata": {},
   "outputs": [
    {
     "data": {
      "application/vnd.jupyter.widget-view+json": {
       "model_id": "4470ded94353483dbbd6e46dac4a98ef",
       "version_major": 2,
       "version_minor": 0
      },
      "text/plain": [
       "  0%|          | 0/2122 [00:00<?, ?it/s]"
      ]
     },
     "metadata": {},
     "output_type": "display_data"
    },
    {
     "data": {
      "application/vnd.jupyter.widget-view+json": {
       "model_id": "223b0c6e82c04c9da3c1ff5b0f0dba9d",
       "version_major": 2,
       "version_minor": 0
      },
      "text/plain": [
       "  0%|          | 0/2122 [00:00<?, ?it/s]"
      ]
     },
     "metadata": {},
     "output_type": "display_data"
    }
   ],
   "source": [
    "#Parameters for houses\n",
    "\n",
    "#First making a point cloud of all houses\n",
    "houseCloud = o3d.geometry.PointCloud()\n",
    "for house in houses:\n",
    "    houseCloud+= house\n",
    "    \n",
    "#Making a voxel grid of the houses\n",
    "houseVoxelGrid = o3d.geometry.VoxelGrid.create_from_point_cloud(houseCloud, voxel_size)\n",
    "\n",
    "#Extracting center points\n",
    "houseVoxelCenterCoordinates= []\n",
    "for i in houseVoxelGrid.get_voxels():\n",
    "    houseVoxelCenterCoordinates.append(houseVoxelGrid.get_voxel_center_coordinate(i.grid_index))\n",
    "    \n",
    "#Extracting points from each voxel\n",
    "houseExtractedPointClouds = extractPointCloudFromVoxel(houseVoxelCenterCoordinates, houseCloud, voxel_size)\n",
    "\n",
    "#Calculating the features for each voxel\n",
    "houseLinearity, housePlanarity, houseScattering, houseOmnivariance, houseSum_eigenvalues, houseAnisotropy, houseEigentropy, houseChange_of_curvature, houseEigenvalues, houseEigenvectors, housePoints_per_voxel = calculatePCAFeatures(houseExtractedPointClouds)\n",
    "\n",
    "#Making an array of labels for the houses\n",
    "\n",
    "houseLabels = np.ones(len(houseLinearity))\n",
    "\n",
    "#Making a dataframe with all the features and the points for each voxel\n",
    "dfHouse = pd.DataFrame(list(zip(housePoints_per_voxel, houseLinearity, housePlanarity, houseScattering, houseOmnivariance, houseSum_eigenvalues, houseAnisotropy, houseEigentropy, houseChange_of_curvature, houseLabels)),\n",
    "                       columns = ['points', 'linearity', 'planarity', 'scattering', 'omnivariance', 'sum_eigenvalues', 'anisotropy', 'eigentropy', 'change_of_curvature', 'label'])"
   ]
  },
  {
   "cell_type": "code",
   "execution_count": 105,
   "metadata": {},
   "outputs": [
    {
     "data": {
      "application/vnd.jupyter.widget-view+json": {
       "model_id": "91dc956351e340a39cb6ea889ee64542",
       "version_major": 2,
       "version_minor": 0
      },
      "text/plain": [
       "  0%|          | 0/3142 [00:00<?, ?it/s]"
      ]
     },
     "metadata": {},
     "output_type": "display_data"
    },
    {
     "data": {
      "application/vnd.jupyter.widget-view+json": {
       "model_id": "e549173729144ea38cf22e3c6f036eb8",
       "version_major": 2,
       "version_minor": 0
      },
      "text/plain": [
       "  0%|          | 0/3142 [00:00<?, ?it/s]"
      ]
     },
     "metadata": {},
     "output_type": "display_data"
    }
   ],
   "source": [
    "#Parameters for trees\n",
    "\n",
    "#First making a point cloud of all trees\n",
    "treeCloud = o3d.geometry.PointCloud()\n",
    "for tree in trees:\n",
    "    treeCloud+= tree\n",
    "    \n",
    "#Making a voxel grid of the trees\n",
    "treeVoxelGrid = o3d.geometry.VoxelGrid.create_from_point_cloud(treeCloud, voxel_size)\n",
    "\n",
    "#Extracting center points\n",
    "treeVoxelCenterCoordinates= []\n",
    "for i in treeVoxelGrid.get_voxels():\n",
    "    treeVoxelCenterCoordinates.append(treeVoxelGrid.get_voxel_center_coordinate(i.grid_index))\n",
    "\n",
    "#Extracting points from each voxel\n",
    "treeExtractedPointClouds = extractPointCloudFromVoxel(treeVoxelCenterCoordinates, treeCloud, voxel_size)\n",
    "\n",
    "#Calculating the features for each voxel\n",
    "treeLinearity, treePlanarity, treeScattering, treeOmnivariance, treeSum_eigenvalues, treeAnisotropy, treeEigentropy, treeChange_of_curvature, treeEigenvalues, treeEigenvectors, treePoints_per_voxel = calculatePCAFeatures(treeExtractedPointClouds)\n",
    "\n",
    "#Making an array of labels for the trees\n",
    "treeLabels = np.zeros(len(treeLinearity))   \n",
    "\n",
    "#Making a dataframe with all the features and the points for each voxel\n",
    "dfTree = pd.DataFrame(list(zip(treePoints_per_voxel, treeLinearity, treePlanarity, treeScattering, treeOmnivariance, treeSum_eigenvalues, treeAnisotropy, treeEigentropy, treeChange_of_curvature, treeLabels)),\n",
    "                       columns = ['points', 'linearity', 'planarity', 'scattering', 'omnivariance', 'sum_eigenvalues', 'anisotropy', 'eigentropy', 'change_of_curvature', 'label'])\n",
    "\n"
   ]
  },
  {
   "cell_type": "code",
   "execution_count": null,
   "metadata": {},
   "outputs": [],
   "source": [
    "#Parameters for terrain\n",
    "\n",
    "#First making a point cloud of all terrain\n",
    "terrainCloud = o3d.geometry.PointCloud()\n",
    "\n",
    "for terrain_piece in terrain:\n",
    "    terrainCloud+= terrain_piece\n",
    "\n",
    "#Making a voxel grid of the terrain\n",
    "terrainVoxelGrid = o3d.geometry.VoxelGrid.create_from_point_cloud(terrainCloud, voxel_size)\n",
    "\n",
    "#Extracting center points\n",
    "terrainVoxelCenterCoordinates= []\n",
    "for i in terrainVoxelGrid.get_voxels():\n",
    "    terrainVoxelCenterCoordinates.append(terrainVoxelGrid.get_voxel_center_coordinate(i.grid_index))\n",
    "\n",
    "#Extracting points from each voxel\n",
    "terrainExtractedPointClouds = extractPointCloudFromVoxel(terrainVoxelCenterCoordinates, terrainCloud, voxel_size)\n",
    "\n",
    "#Calculating the features for each voxel\n",
    "terrainLinearity, terrainPlanarity, terrainScattering, terrainOmnivariance, terrainSum_eigenvalues, terrainAnisotropy, terrainEigentropy, terrainChange_of_curvature, terrainEigenvalues, terrainEigenvectors, terrainPoints_per_voxel = calculatePCAFeatures(terrainExtractedPointClouds)\n",
    "\n",
    "#Making an array of labels for the terrain with number 2\n",
    "terrainLabels = np.full(len(terrainLinearity), 2)\n",
    "\n",
    "#Making a dataframe with all the features and the points for each voxel\n",
    "dfTerrain = pd.DataFrame(list(zip(terrainPoints_per_voxel, terrainLinearity, terrainPlanarity, terrainScattering, terrainOmnivariance, terrainSum_eigenvalues, terrainAnisotropy, terrainEigentropy, terrainChange_of_curvature, terrainLabels)),\n",
    "                       columns = ['points', 'linearity', 'planarity', 'scattering', 'omnivariance', 'sum_eigenvalues', 'anisotropy', 'eigentropy', 'change_of_curvature', 'label'])\n",
    "\n",
    "\n"
   ]
  },
  {
   "cell_type": "code",
   "execution_count": 106,
   "metadata": {},
   "outputs": [],
   "source": [
    "#Now its time for the machine learning part\n",
    "\n",
    "#First, we need to split the data into training and testing data\n",
    "\n",
    "from sklearn.model_selection import train_test_split\n",
    "\n",
    "#Combining the dataframes for houses and trees\n",
    "dfCombined = pd.concat([dfHouse, dfTree])\n",
    "\n",
    "#Placing all the features alone in one dataframe\n",
    "X = dfCombined.drop(['points', 'label'], axis=1)\n",
    "\n",
    "#Placing the labels in a dataframe\n",
    "y = dfCombined['label']\n",
    "\n",
    "#Splitting the data into training and testing data\n",
    "X_train, X_test, y_train, y_test = train_test_split(dfCombined.drop(['points', 'label'], axis=1), dfCombined['label'], test_size=0.33, random_state=42)\n",
    "\n",
    "\n"
   ]
  },
  {
   "cell_type": "code",
   "execution_count": 117,
   "metadata": {},
   "outputs": [],
   "source": [
    "#Training a decisxiom tree classifier\n",
    "\n",
    "from sklearn.tree import DecisionTreeClassifier\n",
    "\n",
    "#Creating the classifier\n",
    "clf = DecisionTreeClassifier(random_state=0)\n",
    "\n",
    "#Training the classifier\n",
    "clf.fit(X_train, y_train)\n",
    "\n",
    "#Testing it\n",
    "y_pred = clf.predict(X_test)\n"
   ]
  },
  {
   "cell_type": "code",
   "execution_count": 118,
   "metadata": {},
   "outputs": [],
   "source": [
    "#Now actually testing it on the point cloud\n",
    "\n",
    "#We already have the dataframe for the entire point cloud, so we can just use that\n",
    "#We need to drop the points column and the label column\n",
    "X_cloud = df.drop(['points', 'label'], axis=1)\n",
    "\n",
    "#Predicting the labels for the point cloud\n",
    "y_cloud_pred = clf.predict(X_cloud)"
   ]
  },
  {
   "cell_type": "code",
   "execution_count": 119,
   "metadata": {},
   "outputs": [],
   "source": [
    "#Adding the labels to the dataframe\n",
    "df['label'] = y_cloud_pred\n",
    "\n"
   ]
  },
  {
   "cell_type": "code",
   "execution_count": 151,
   "metadata": {},
   "outputs": [],
   "source": [
    "#Now we need to extract the points from the trees and houses\n",
    "\n",
    "#Making a dataframe for trees and houses\n",
    "dfTrees = df[df['label'] == 0]\n",
    "dfHouses = df[df['label'] == 1]\n",
    "\n",
    "#Extracting the point-clusters from the trees\n",
    "treeClusters= dfTrees['points']\n",
    "houseClusters = dfHouses['points']\n",
    "\n",
    "classifiedTreeCloud = o3d.geometry.PointCloud()\n",
    "classifiedHouseCloud = o3d.geometry.PointCloud()\n",
    "\n",
    "#Making a point cloud of the tree clusters\n",
    "for cluster in treeClusters:\n",
    "    cld = o3d.geometry.PointCloud(cluster)\n",
    "    cld.paint_uniform_color([0, 1, 0])  \n",
    "    treeCloud += cld\n",
    "\n",
    "\n",
    "for cluster in houseClusters:\n",
    "    cld = o3d.geometry.PointCloud(cluster)\n",
    "    cld.paint_uniform_color([1, 0, 0])  \n",
    "    houseCloud += cld\n",
    "    \n",
    "    "
   ]
  },
  {
   "cell_type": "code",
   "execution_count": 152,
   "metadata": {},
   "outputs": [],
   "source": [
    "o3d.visualization.draw_geometries([treeCloud, houseCloud])"
   ]
  }
 ],
 "metadata": {
  "kernelspec": {
   "display_name": "venv",
   "language": "python",
   "name": "python3"
  },
  "language_info": {
   "codemirror_mode": {
    "name": "ipython",
    "version": 3
   },
   "file_extension": ".py",
   "mimetype": "text/x-python",
   "name": "python",
   "nbconvert_exporter": "python",
   "pygments_lexer": "ipython3",
   "version": "3.10.11"
  }
 },
 "nbformat": 4,
 "nbformat_minor": 2
}
