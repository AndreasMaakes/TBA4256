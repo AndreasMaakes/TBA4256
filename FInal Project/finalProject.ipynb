{
 "cells": [
  {
   "cell_type": "code",
   "execution_count": 38,
   "metadata": {},
   "outputs": [],
   "source": [
    "#First, the point cloud has to be loaded and then read.\n",
    "#Its probably way too big to work with from the start, so I think I will use voxel downsampling\n",
    "#But first, imports\n",
    "\n",
    "import open3d as o3d\n",
    "import numpy as np\n",
    "import matplotlib.pyplot as plt\n",
    "import os   \n",
    "\n",
    "\n",
    "#Loading the point cloud\n",
    "\n",
    "initialCloud =  o3d.io.read_point_cloud(os.path.join(os.getcwd(), \"data\", \"croppedRawData.ply\")) \n",
    "\n",
    "\n"
   ]
  },
  {
   "cell_type": "code",
   "execution_count": 40,
   "metadata": {},
   "outputs": [],
   "source": [
    "#Making a voxelgrid from the point cloud\n",
    "voxel_size = 1\n",
    "voxel_grid = o3d.geometry.VoxelGrid.create_from_point_cloud(initialCloud, voxel_size)\n",
    "\n"
   ]
  },
  {
   "cell_type": "code",
   "execution_count": 41,
   "metadata": {},
   "outputs": [],
   "source": [
    "o3d.visualization.draw_geometries([voxel_grid])"
   ]
  },
  {
   "cell_type": "code",
   "execution_count": 42,
   "metadata": {},
   "outputs": [],
   "source": [
    "#Extracting center points so we can calculate PCA for the points within each voxel\n",
    "\n",
    "voxel_center_coordinates= []\n",
    "\n",
    "for i in voxel_grid.get_voxels():\n",
    "    voxel_center_coordinates.append(voxel_grid.get_voxel_center_coordinate(i.grid_index))\n",
    "\n"
   ]
  },
  {
   "cell_type": "code",
   "execution_count": 43,
   "metadata": {},
   "outputs": [],
   "source": [
    "#Defining a function to extract points from a voxel based on center coordinates. Returns a list of points\n",
    "\n",
    "from sklearn.decomposition import PCA\n",
    "from tqdm.auto import tqdm\n",
    "\n",
    "\n",
    "def extractPointCloudFromVoxel(voxel_center_coordinates, pointCloud, voxel_size):\n",
    "    extractedPointClouds = []\n",
    "    for center in tqdm(voxel_center_coordinates):\n",
    "        minboundx = center[0] - voxel_size/2\n",
    "        minboundy = center[1] - voxel_size/2\n",
    "        minboundz = center[2] - voxel_size/2\n",
    "\n",
    "        maxboundx = center[0] + voxel_size/2\n",
    "        maxboundy = center[1] + voxel_size/2\n",
    "        maxboundz = center[2] + voxel_size/2\n",
    "\n",
    "        pcd = pointCloud.crop(o3d.geometry.AxisAlignedBoundingBox(min_bound=(minboundx, minboundy, minboundz), max_bound=(maxboundx, maxboundy, maxboundz)))\n",
    "        # Voxels with less than 10 points are ignored and not appended\n",
    "        \n",
    "        if len(pcd.points) > 10:\n",
    "            extractedPointClouds.append(pcd)\n",
    "    return extractedPointClouds\n",
    "    \n",
    "    \n",
    "    "
   ]
  },
  {
   "cell_type": "code",
   "execution_count": 44,
   "metadata": {},
   "outputs": [],
   "source": [
    "#Function to calculate features from a list of points clouds (could be one or more), returns lists for each feature\n",
    "def calculatePCAFeatures(listOfPointClouds):\n",
    "    \n",
    "    linearity =[]\n",
    "    planarity = []\n",
    "    scattering = []\n",
    "    omnivariance = []\n",
    "    sum_eigenvalues = []\n",
    "    anisotropy = []\n",
    "    eigentropy = []\n",
    "    change_of_curvature = []\n",
    "    eigenvaluesList = []\n",
    "    eigenvectorsList = []\n",
    "    points_per_voxel = []\n",
    "    \n",
    "    for pcd in tqdm(listOfPointClouds):\n",
    "        points = pcd.points\n",
    "    \n",
    "        '''\n",
    "        if len(points) < 15:\n",
    "            linearity.append(0)\n",
    "            planarity.append(0)\n",
    "            scattering.append(0)\n",
    "            omnivariance.append(0)\n",
    "            sum_eigenvalues.append(0)\n",
    "            anisotropy.append(0)\n",
    "            eigentropy.append(0)\n",
    "            change_of_curvature.append(0)\n",
    "            points_per_voxel.append(points) #Kan her appende 0 istedenfor points?\n",
    "            continue\n",
    "            ''' #Denne sjekken blir gjort i extractPointCloudFromVoxel, slik at man slipper å gjøre det her\n",
    "    \n",
    "        pca = PCA(n_components=3)\n",
    "        pca.fit(points)\n",
    "\n",
    "    # Extract the eigenvalues and eigenvectors\n",
    "        eigenvalues = pca.explained_variance_\n",
    "        eigenvectors = pca.components_\n",
    "    \n",
    "      #Calculating the features\n",
    "        l = (eigenvalues[0] - eigenvalues[1]) / eigenvalues[0] \n",
    "        p = (eigenvalues[1] - eigenvalues[2]) / eigenvalues[0]\n",
    "        s = eigenvalues[2] / eigenvalues[0]\n",
    "        o = (eigenvalues[0]*eigenvalues[1]*eigenvalues[2])**(1/3)\n",
    "        s_e = eigenvalues[0] + eigenvalues[1] + eigenvalues[2]\n",
    "        a = (eigenvalues[0] - eigenvalues[2]) / eigenvalues[0]\n",
    "        e = (-1)*(eigenvalues[0]*np.log(eigenvalues[0]) + eigenvalues[1]*np.log(eigenvalues[1]) + eigenvalues[2]*np.log(eigenvalues[2]))\n",
    "        c_o_c = eigenvalues[2]/(eigenvalues[0]+eigenvalues[1]+eigenvalues[2])\n",
    "\n",
    "        linearity.append(l)\n",
    "        planarity.append(p)\n",
    "        scattering.append(s)\n",
    "        omnivariance.append(o)\n",
    "        sum_eigenvalues.append(s_e)\n",
    "        anisotropy.append(a)\n",
    "        eigentropy.append(e)\n",
    "        change_of_curvature.append(c_o_c)\n",
    "        eigenvaluesList.append(eigenvalues)\n",
    "        eigenvectorsList.append(eigenvectors)\n",
    "        points_per_voxel.append(points)\n",
    "        \n",
    "    return linearity, planarity, scattering, omnivariance, sum_eigenvalues, anisotropy, eigentropy, change_of_curvature, eigenvaluesList, eigenvectorsList, points_per_voxel"
   ]
  },
  {
   "cell_type": "code",
   "execution_count": 46,
   "metadata": {},
   "outputs": [],
   "source": [
    "#Defining a seperate function to calculate z-range for a set of points\n",
    "def calculateZRange(pointClouds):\n",
    "    z_range = []\n",
    "    for pcd in tqdm(pointClouds):\n",
    "        points = np.asarray(pcd.points)\n",
    "        '''\n",
    "        if len(points) < 15:\n",
    "            z_range.append(0)\n",
    "            continue\n",
    "            ''' #Denne sjekken blir gjort i extractPointCloudFromVoxel\n",
    "        z = np.max(points[:,2]) - np.min(points[:,2])\n",
    "        z_range.append(z)\n",
    "    return z_range\n",
    "   "
   ]
  },
  {
   "cell_type": "code",
   "execution_count": 47,
   "metadata": {},
   "outputs": [
    {
     "data": {
      "application/vnd.jupyter.widget-view+json": {
       "model_id": "ea7b8a20f12245aa947bab1f653b3f9b",
       "version_major": 2,
       "version_minor": 0
      },
      "text/plain": [
       "  0%|          | 0/450800 [00:00<?, ?it/s]"
      ]
     },
     "metadata": {},
     "output_type": "display_data"
    }
   ],
   "source": [
    "#Extracting the points from each voxel\n",
    "\n",
    "extractedPointClouds = extractPointCloudFromVoxel(voxel_center_coordinates, initialCloud, voxel_size)"
   ]
  },
  {
   "cell_type": "code",
   "execution_count": 48,
   "metadata": {},
   "outputs": [
    {
     "data": {
      "application/vnd.jupyter.widget-view+json": {
       "model_id": "65c5a98fcd254dd6adb02030e18cb51a",
       "version_major": 2,
       "version_minor": 0
      },
      "text/plain": [
       "  0%|          | 0/242778 [00:00<?, ?it/s]"
      ]
     },
     "metadata": {},
     "output_type": "display_data"
    }
   ],
   "source": [
    "#Calculating the features for each voxel\n",
    "linearity, planarity, scattering, omnivariance, sum_eigenvalues, anisotropy, eigentropy, change_of_curvature, eigenvalues, eigenvectors, points_per_voxel = calculatePCAFeatures(extractedPointClouds)"
   ]
  },
  {
   "cell_type": "code",
   "execution_count": 49,
   "metadata": {},
   "outputs": [
    {
     "data": {
      "application/vnd.jupyter.widget-view+json": {
       "model_id": "7a4bde1df4f948bcbac60632f4a2e346",
       "version_major": 2,
       "version_minor": 0
      },
      "text/plain": [
       "  0%|          | 0/242778 [00:00<?, ?it/s]"
      ]
     },
     "metadata": {},
     "output_type": "display_data"
    }
   ],
   "source": [
    "#Calculating z-range for each voxel IT WORKS\n",
    "\n",
    "z_range = calculateZRange(extractedPointClouds)\n"
   ]
  },
  {
   "cell_type": "code",
   "execution_count": 159,
   "metadata": {},
   "outputs": [],
   "source": [
    "#Making a dataframe with all the features and the points for each voxel with an empty label column\n",
    "\n",
    "import pandas as pd\n",
    "\n",
    "# both lists, with columns specified\n",
    "# label = [0] * len(linearity) #Placeholder zeroes\n",
    "\n",
    "df = pd.DataFrame(list(zip(points_per_voxel, linearity, planarity, scattering, omnivariance, sum_eigenvalues, anisotropy, eigentropy, change_of_curvature, z_range, )),\n",
    "\t\t\tcolumns =[ 'points', 'linearity', 'planarity', 'scattering', 'omnivariance', 'sum_eigenvalues', 'anisotropy', 'eigentropy', 'change_of_curvature', 'z_range', ])\n",
    "\n"
   ]
  },
  {
   "cell_type": "code",
   "execution_count": 160,
   "metadata": {},
   "outputs": [
    {
     "data": {
      "text/html": [
       "<div>\n",
       "<style scoped>\n",
       "    .dataframe tbody tr th:only-of-type {\n",
       "        vertical-align: middle;\n",
       "    }\n",
       "\n",
       "    .dataframe tbody tr th {\n",
       "        vertical-align: top;\n",
       "    }\n",
       "\n",
       "    .dataframe thead th {\n",
       "        text-align: right;\n",
       "    }\n",
       "</style>\n",
       "<table border=\"1\" class=\"dataframe\">\n",
       "  <thead>\n",
       "    <tr style=\"text-align: right;\">\n",
       "      <th></th>\n",
       "      <th>points</th>\n",
       "      <th>linearity</th>\n",
       "      <th>planarity</th>\n",
       "      <th>scattering</th>\n",
       "      <th>omnivariance</th>\n",
       "      <th>sum_eigenvalues</th>\n",
       "      <th>anisotropy</th>\n",
       "      <th>eigentropy</th>\n",
       "      <th>change_of_curvature</th>\n",
       "      <th>z_range</th>\n",
       "    </tr>\n",
       "  </thead>\n",
       "  <tbody>\n",
       "    <tr>\n",
       "      <th>0</th>\n",
       "      <td>[[569901.039978, 7034055.560059, 22.26], [5699...</td>\n",
       "      <td>0.504846</td>\n",
       "      <td>0.395950</td>\n",
       "      <td>0.099204</td>\n",
       "      <td>0.030882</td>\n",
       "      <td>0.134440</td>\n",
       "      <td>0.900796</td>\n",
       "      <td>0.381160</td>\n",
       "      <td>0.062222</td>\n",
       "      <td>0.690000</td>\n",
       "    </tr>\n",
       "    <tr>\n",
       "      <th>1</th>\n",
       "      <td>[[570046.660034, 7034121.640015, 8.44], [57004...</td>\n",
       "      <td>0.286875</td>\n",
       "      <td>0.711114</td>\n",
       "      <td>0.002011</td>\n",
       "      <td>0.013096</td>\n",
       "      <td>0.199191</td>\n",
       "      <td>0.997989</td>\n",
       "      <td>0.458306</td>\n",
       "      <td>0.001172</td>\n",
       "      <td>0.060000</td>\n",
       "    </tr>\n",
       "    <tr>\n",
       "      <th>2</th>\n",
       "      <td>[[569918.659973, 7034220.420044, 28.35], [5699...</td>\n",
       "      <td>0.400117</td>\n",
       "      <td>0.498582</td>\n",
       "      <td>0.101301</td>\n",
       "      <td>0.028418</td>\n",
       "      <td>0.122968</td>\n",
       "      <td>0.898699</td>\n",
       "      <td>0.361980</td>\n",
       "      <td>0.059547</td>\n",
       "      <td>0.440000</td>\n",
       "    </tr>\n",
       "    <tr>\n",
       "      <th>3</th>\n",
       "      <td>[[569998.049988, 7034287.170044, 3.73], [56999...</td>\n",
       "      <td>0.950197</td>\n",
       "      <td>0.023885</td>\n",
       "      <td>0.025918</td>\n",
       "      <td>0.008723</td>\n",
       "      <td>0.086185</td>\n",
       "      <td>0.974082</td>\n",
       "      <td>0.237107</td>\n",
       "      <td>0.024093</td>\n",
       "      <td>0.210000</td>\n",
       "    </tr>\n",
       "    <tr>\n",
       "      <th>4</th>\n",
       "      <td>[[569957.640015, 7034200.109985, 18.48], [5699...</td>\n",
       "      <td>0.288012</td>\n",
       "      <td>0.708027</td>\n",
       "      <td>0.003960</td>\n",
       "      <td>0.016018</td>\n",
       "      <td>0.194557</td>\n",
       "      <td>0.996040</td>\n",
       "      <td>0.453456</td>\n",
       "      <td>0.002308</td>\n",
       "      <td>0.489999</td>\n",
       "    </tr>\n",
       "    <tr>\n",
       "      <th>...</th>\n",
       "      <td>...</td>\n",
       "      <td>...</td>\n",
       "      <td>...</td>\n",
       "      <td>...</td>\n",
       "      <td>...</td>\n",
       "      <td>...</td>\n",
       "      <td>...</td>\n",
       "      <td>...</td>\n",
       "      <td>...</td>\n",
       "      <td>...</td>\n",
       "    </tr>\n",
       "    <tr>\n",
       "      <th>242773</th>\n",
       "      <td>[[570142.150024, 7034182.359985, 26.65], [5701...</td>\n",
       "      <td>0.646421</td>\n",
       "      <td>0.351680</td>\n",
       "      <td>0.001899</td>\n",
       "      <td>0.008801</td>\n",
       "      <td>0.136231</td>\n",
       "      <td>0.998101</td>\n",
       "      <td>0.351140</td>\n",
       "      <td>0.001401</td>\n",
       "      <td>0.119999</td>\n",
       "    </tr>\n",
       "    <tr>\n",
       "      <th>242774</th>\n",
       "      <td>[[570170.660034, 7034180.209961, 25.559999], [...</td>\n",
       "      <td>0.457261</td>\n",
       "      <td>0.537273</td>\n",
       "      <td>0.005467</td>\n",
       "      <td>0.013555</td>\n",
       "      <td>0.146043</td>\n",
       "      <td>0.994533</td>\n",
       "      <td>0.378774</td>\n",
       "      <td>0.003531</td>\n",
       "      <td>0.160000</td>\n",
       "    </tr>\n",
       "    <tr>\n",
       "      <th>242775</th>\n",
       "      <td>[[570084.650024, 7034302.060059, 2.98], [57008...</td>\n",
       "      <td>0.504146</td>\n",
       "      <td>0.495516</td>\n",
       "      <td>0.000338</td>\n",
       "      <td>0.006641</td>\n",
       "      <td>0.180316</td>\n",
       "      <td>0.999662</td>\n",
       "      <td>0.423787</td>\n",
       "      <td>0.000226</td>\n",
       "      <td>0.020000</td>\n",
       "    </tr>\n",
       "    <tr>\n",
       "      <th>242776</th>\n",
       "      <td>[[570177.699951, 7034300.01001, 7.61], [570177...</td>\n",
       "      <td>0.159510</td>\n",
       "      <td>0.839737</td>\n",
       "      <td>0.000753</td>\n",
       "      <td>0.008556</td>\n",
       "      <td>0.183453</td>\n",
       "      <td>0.999247</td>\n",
       "      <td>0.438179</td>\n",
       "      <td>0.000409</td>\n",
       "      <td>0.080000</td>\n",
       "    </tr>\n",
       "    <tr>\n",
       "      <th>242777</th>\n",
       "      <td>[[570176.650024, 7034301.140015, 7.53], [57017...</td>\n",
       "      <td>0.499827</td>\n",
       "      <td>0.492778</td>\n",
       "      <td>0.007395</td>\n",
       "      <td>0.017564</td>\n",
       "      <td>0.171214</td>\n",
       "      <td>0.992605</td>\n",
       "      <td>0.415924</td>\n",
       "      <td>0.004906</td>\n",
       "      <td>0.140000</td>\n",
       "    </tr>\n",
       "  </tbody>\n",
       "</table>\n",
       "<p>242778 rows × 10 columns</p>\n",
       "</div>"
      ],
      "text/plain": [
       "                                                   points  linearity  \\\n",
       "0       [[569901.039978, 7034055.560059, 22.26], [5699...   0.504846   \n",
       "1       [[570046.660034, 7034121.640015, 8.44], [57004...   0.286875   \n",
       "2       [[569918.659973, 7034220.420044, 28.35], [5699...   0.400117   \n",
       "3       [[569998.049988, 7034287.170044, 3.73], [56999...   0.950197   \n",
       "4       [[569957.640015, 7034200.109985, 18.48], [5699...   0.288012   \n",
       "...                                                   ...        ...   \n",
       "242773  [[570142.150024, 7034182.359985, 26.65], [5701...   0.646421   \n",
       "242774  [[570170.660034, 7034180.209961, 25.559999], [...   0.457261   \n",
       "242775  [[570084.650024, 7034302.060059, 2.98], [57008...   0.504146   \n",
       "242776  [[570177.699951, 7034300.01001, 7.61], [570177...   0.159510   \n",
       "242777  [[570176.650024, 7034301.140015, 7.53], [57017...   0.499827   \n",
       "\n",
       "        planarity  scattering  omnivariance  sum_eigenvalues  anisotropy  \\\n",
       "0        0.395950    0.099204      0.030882         0.134440    0.900796   \n",
       "1        0.711114    0.002011      0.013096         0.199191    0.997989   \n",
       "2        0.498582    0.101301      0.028418         0.122968    0.898699   \n",
       "3        0.023885    0.025918      0.008723         0.086185    0.974082   \n",
       "4        0.708027    0.003960      0.016018         0.194557    0.996040   \n",
       "...           ...         ...           ...              ...         ...   \n",
       "242773   0.351680    0.001899      0.008801         0.136231    0.998101   \n",
       "242774   0.537273    0.005467      0.013555         0.146043    0.994533   \n",
       "242775   0.495516    0.000338      0.006641         0.180316    0.999662   \n",
       "242776   0.839737    0.000753      0.008556         0.183453    0.999247   \n",
       "242777   0.492778    0.007395      0.017564         0.171214    0.992605   \n",
       "\n",
       "        eigentropy  change_of_curvature   z_range  \n",
       "0         0.381160             0.062222  0.690000  \n",
       "1         0.458306             0.001172  0.060000  \n",
       "2         0.361980             0.059547  0.440000  \n",
       "3         0.237107             0.024093  0.210000  \n",
       "4         0.453456             0.002308  0.489999  \n",
       "...            ...                  ...       ...  \n",
       "242773    0.351140             0.001401  0.119999  \n",
       "242774    0.378774             0.003531  0.160000  \n",
       "242775    0.423787             0.000226  0.020000  \n",
       "242776    0.438179             0.000409  0.080000  \n",
       "242777    0.415924             0.004906  0.140000  \n",
       "\n",
       "[242778 rows x 10 columns]"
      ]
     },
     "execution_count": 160,
     "metadata": {},
     "output_type": "execute_result"
    }
   ],
   "source": [
    "df"
   ]
  },
  {
   "cell_type": "code",
   "execution_count": 52,
   "metadata": {},
   "outputs": [],
   "source": [
    "df.to_csv(os.path.join(os.getcwd(), \"data\", \"calculatedFeaturesRawData.csv\")) #Saving the dataframe to a csv file"
   ]
  },
  {
   "cell_type": "code",
   "execution_count": 14,
   "metadata": {},
   "outputs": [],
   "source": [
    "import os\n",
    "#Read all the houses into a list\n",
    "\n",
    "houses_folder = os.path.join(os.getcwd(), \"data\", \"Houses\")\n",
    "houses_files = os.listdir(houses_folder)\n",
    "\n",
    "houses = []\n",
    "for file in houses_files:\n",
    "    if file.endswith(\".ply\"):\n",
    "        house = o3d.io.read_point_cloud(os.path.join(houses_folder, file))\n",
    "        houses.append(house)\n"
   ]
  },
  {
   "cell_type": "code",
   "execution_count": 15,
   "metadata": {},
   "outputs": [],
   "source": [
    "#Load all the trees into a list\n",
    "\n",
    "trees_folder = os.path.join(os.getcwd(), \"data\", \"Trees\")   \n",
    "trees_files = os.listdir(trees_folder)\n",
    "\n",
    "trees = []\n",
    "for file in trees_files:\n",
    "    if file.endswith(\".ply\"):\n",
    "        tree = o3d.io.read_point_cloud(os.path.join(trees_folder, file))\n",
    "        trees.append(tree)\n"
   ]
  },
  {
   "cell_type": "code",
   "execution_count": 16,
   "metadata": {},
   "outputs": [],
   "source": [
    "#Load all terrain into a list\n",
    "\n",
    "terrain_folder = os.path.join(os.getcwd(), \"data\", \"Terrain\")\n",
    "terrain_files = os.listdir(terrain_folder)\n",
    "\n",
    "terrain = []\n",
    "for file in terrain_files:\n",
    "    if file.endswith(\".ply\"):\n",
    "        terrain_piece = o3d.io.read_point_cloud(os.path.join(terrain_folder, file))\n",
    "        terrain.append(terrain_piece)\n"
   ]
  },
  {
   "cell_type": "code",
   "execution_count": 152,
   "metadata": {},
   "outputs": [
    {
     "data": {
      "application/vnd.jupyter.widget-view+json": {
       "model_id": "a67d2cc04f1d46638110f261a4ff79cb",
       "version_major": 2,
       "version_minor": 0
      },
      "text/plain": [
       "  0%|          | 0/78004 [00:00<?, ?it/s]"
      ]
     },
     "metadata": {},
     "output_type": "display_data"
    },
    {
     "data": {
      "application/vnd.jupyter.widget-view+json": {
       "model_id": "7a0bf31c12904c35a78a67ab1634984d",
       "version_major": 2,
       "version_minor": 0
      },
      "text/plain": [
       "  0%|          | 0/39784 [00:00<?, ?it/s]"
      ]
     },
     "metadata": {},
     "output_type": "display_data"
    },
    {
     "data": {
      "application/vnd.jupyter.widget-view+json": {
       "model_id": "51bac78278ea4214b1281fa6e8d58a9f",
       "version_major": 2,
       "version_minor": 0
      },
      "text/plain": [
       "  0%|          | 0/39784 [00:00<?, ?it/s]"
      ]
     },
     "metadata": {},
     "output_type": "display_data"
    }
   ],
   "source": [
    "#Parameters for houses\n",
    "\n",
    "#First making a point cloud of all houses\n",
    "houseCloud = o3d.io.read_point_cloud(os.path.join(os.getcwd(), \"data\", \"Cropped\", \"buildings.ply\")) \n",
    "\n",
    "#for house in houses:\n",
    "    #houseCloud+= house\n",
    "    \n",
    "#Making a voxel grid of the houses\n",
    "houseVoxelGrid = o3d.geometry.VoxelGrid.create_from_point_cloud(houseCloud, voxel_size)\n",
    "\n",
    "#Extracting center points\n",
    "houseVoxelCenterCoordinates= []\n",
    "for i in houseVoxelGrid.get_voxels():\n",
    "    houseVoxelCenterCoordinates.append(houseVoxelGrid.get_voxel_center_coordinate(i.grid_index))\n",
    "    \n",
    "#Extracting points from each voxel\n",
    "houseExtractedPointClouds = extractPointCloudFromVoxel(houseVoxelCenterCoordinates, houseCloud, voxel_size)\n",
    "\n",
    "#Calculating the PCA features for each voxel\n",
    "houseLinearity, housePlanarity, houseScattering, houseOmnivariance, houseSum_eigenvalues, houseAnisotropy, houseEigentropy, houseChange_of_curvature, houseEigenvalues, houseEigenvectors, housePoints_per_voxel = calculatePCAFeatures(houseExtractedPointClouds)\n",
    "\n",
    "#Calculating other features\n",
    "houseZ_range = calculateZRange(houseExtractedPointClouds)\n",
    "\n",
    "#Making an array of labels for the houses\n",
    "\n",
    "houseLabels = np.ones(len(houseLinearity))\n",
    "\n",
    "#Making a dataframe with all the features and the points for each voxel\n",
    "dfHouse = pd.DataFrame(list(zip(housePoints_per_voxel, houseLinearity, housePlanarity, houseScattering, houseOmnivariance, houseSum_eigenvalues, houseAnisotropy, houseEigentropy, houseChange_of_curvature, houseZ_range, houseLabels)),\n",
    "                       columns = ['points', 'linearity', 'planarity', 'scattering', 'omnivariance', 'sum_eigenvalues', 'anisotropy', 'eigentropy', 'change_of_curvature', 'z_range', 'label'])"
   ]
  },
  {
   "cell_type": "code",
   "execution_count": 153,
   "metadata": {},
   "outputs": [
    {
     "data": {
      "application/vnd.jupyter.widget-view+json": {
       "model_id": "7fdec8768a2a4ceda815ba1ba69c3862",
       "version_major": 2,
       "version_minor": 0
      },
      "text/plain": [
       "  0%|          | 0/55415 [00:00<?, ?it/s]"
      ]
     },
     "metadata": {},
     "output_type": "display_data"
    },
    {
     "data": {
      "application/vnd.jupyter.widget-view+json": {
       "model_id": "d22297042a0a4a6285b3913469c446f1",
       "version_major": 2,
       "version_minor": 0
      },
      "text/plain": [
       "  0%|          | 0/23285 [00:00<?, ?it/s]"
      ]
     },
     "metadata": {},
     "output_type": "display_data"
    },
    {
     "data": {
      "application/vnd.jupyter.widget-view+json": {
       "model_id": "a31c867c6c144d128deb15c4ac22c8cc",
       "version_major": 2,
       "version_minor": 0
      },
      "text/plain": [
       "  0%|          | 0/23285 [00:00<?, ?it/s]"
      ]
     },
     "metadata": {},
     "output_type": "display_data"
    }
   ],
   "source": [
    "#Parameters for trees\n",
    "\n",
    "#First making a point cloud of all trees\n",
    "treeCloud = o3d.io.read_point_cloud(os.path.join(os.getcwd(), \"data\", \"Cropped\", \"trees.ply\")) \n",
    " \n",
    "#Making a voxel grid of the trees\n",
    "treeVoxelGrid = o3d.geometry.VoxelGrid.create_from_point_cloud(treeCloud, voxel_size)\n",
    "\n",
    "#Extracting center points\n",
    "treeVoxelCenterCoordinates= []\n",
    "for i in treeVoxelGrid.get_voxels():\n",
    "    treeVoxelCenterCoordinates.append(treeVoxelGrid.get_voxel_center_coordinate(i.grid_index))\n",
    "\n",
    "#Extracting points from each voxel\n",
    "treeExtractedPointClouds = extractPointCloudFromVoxel(treeVoxelCenterCoordinates, treeCloud, voxel_size)\n",
    "\n",
    "#Calculating the PCA features for each voxel\n",
    "treeLinearity, treePlanarity, treeScattering, treeOmnivariance, treeSum_eigenvalues, treeAnisotropy, treeEigentropy, treeChange_of_curvature, treeEigenvalues, treeEigenvectors, treePoints_per_voxel = calculatePCAFeatures(treeExtractedPointClouds)\n",
    "\n",
    "#Calculating other features\n",
    "treeZ_range = calculateZRange(treeExtractedPointClouds)\n",
    "\n",
    "#Making an array of labels for the trees\n",
    "treeLabels = np.zeros(len(treeLinearity))   \n",
    "\n",
    "#Making a dataframe with all the features and the points for each voxel\n",
    "dfTree = pd.DataFrame(list(zip(treePoints_per_voxel, treeLinearity, treePlanarity, treeScattering, treeOmnivariance, treeSum_eigenvalues, treeAnisotropy, treeEigentropy, treeChange_of_curvature, treeZ_range, treeLabels)),\n",
    "                       columns = ['points', 'linearity', 'planarity', 'scattering', 'omnivariance', 'sum_eigenvalues', 'anisotropy', 'eigentropy', 'change_of_curvature', 'z_range', 'label'])\n",
    "\n"
   ]
  },
  {
   "cell_type": "code",
   "execution_count": 154,
   "metadata": {},
   "outputs": [
    {
     "data": {
      "application/vnd.jupyter.widget-view+json": {
       "model_id": "4b2cc242aab84d7991740f6e433e87a5",
       "version_major": 2,
       "version_minor": 0
      },
      "text/plain": [
       "  0%|          | 0/80804 [00:00<?, ?it/s]"
      ]
     },
     "metadata": {},
     "output_type": "display_data"
    },
    {
     "data": {
      "application/vnd.jupyter.widget-view+json": {
       "model_id": "a960730d855d4748a5a06e0eefc5efeb",
       "version_major": 2,
       "version_minor": 0
      },
      "text/plain": [
       "  0%|          | 0/63428 [00:00<?, ?it/s]"
      ]
     },
     "metadata": {},
     "output_type": "display_data"
    },
    {
     "data": {
      "application/vnd.jupyter.widget-view+json": {
       "model_id": "c9f0b0349a8b46e08856123b7558d542",
       "version_major": 2,
       "version_minor": 0
      },
      "text/plain": [
       "  0%|          | 0/63428 [00:00<?, ?it/s]"
      ]
     },
     "metadata": {},
     "output_type": "display_data"
    }
   ],
   "source": [
    "#Parameters for terrain\n",
    "\n",
    "#First making a point cloud of all terrain\n",
    "terrainCloud = o3d.io.read_point_cloud(os.path.join(os.getcwd(), \"data\", \"Cropped\", \"terrain.ply\")) \n",
    "\n",
    "for terrain_piece in terrain:\n",
    "    terrainCloud+= terrain_piece\n",
    "\n",
    "#Making a voxel grid of the terrain\n",
    "terrainVoxelGrid = o3d.geometry.VoxelGrid.create_from_point_cloud(terrainCloud, voxel_size)\n",
    "\n",
    "#Extracting center points\n",
    "terrainVoxelCenterCoordinates= []\n",
    "for i in terrainVoxelGrid.get_voxels():\n",
    "    terrainVoxelCenterCoordinates.append(terrainVoxelGrid.get_voxel_center_coordinate(i.grid_index))\n",
    "\n",
    "#Extracting points from each voxel\n",
    "terrainExtractedPointClouds = extractPointCloudFromVoxel(terrainVoxelCenterCoordinates, terrainCloud, voxel_size)\n",
    "\n",
    "#Calculating the PCA features for each voxel\n",
    "terrainLinearity, terrainPlanarity, terrainScattering, terrainOmnivariance, terrainSum_eigenvalues, terrainAnisotropy, terrainEigentropy, terrainChange_of_curvature, terrainEigenvalues, terrainEigenvectors, terrainPoints_per_voxel = calculatePCAFeatures(terrainExtractedPointClouds)\n",
    "\n",
    "#Calculating other features\n",
    "terrainZ_range = calculateZRange(terrainExtractedPointClouds)\n",
    "\n",
    "#Making an array of labels for the terrain with number 2\n",
    "terrainLabels = np.full(len(terrainLinearity), 2)\n",
    "\n",
    "#Making a dataframe with all the features and the points for each voxel\n",
    "dfTerrain = pd.DataFrame(list(zip(terrainPoints_per_voxel, terrainLinearity, terrainPlanarity, terrainScattering, terrainOmnivariance, terrainSum_eigenvalues, terrainAnisotropy, terrainEigentropy, terrainChange_of_curvature, terrainZ_range, terrainLabels)),\n",
    "                       columns = ['points', 'linearity', 'planarity', 'scattering', 'omnivariance', 'sum_eigenvalues', 'anisotropy', 'eigentropy', 'change_of_curvature', 'z_range', 'label'])\n",
    "\n",
    "\n"
   ]
  },
  {
   "cell_type": "code",
   "execution_count": 156,
   "metadata": {},
   "outputs": [
    {
     "data": {
      "application/vnd.jupyter.widget-view+json": {
       "model_id": "4d1b0b613a8348bbb090eb6aa3d6eed8",
       "version_major": 2,
       "version_minor": 0
      },
      "text/plain": [
       "  0%|          | 0/19082 [00:00<?, ?it/s]"
      ]
     },
     "metadata": {},
     "output_type": "display_data"
    },
    {
     "data": {
      "application/vnd.jupyter.widget-view+json": {
       "model_id": "552933e87b3b4fd0a150f7fea8540ded",
       "version_major": 2,
       "version_minor": 0
      },
      "text/plain": [
       "  0%|          | 0/6911 [00:00<?, ?it/s]"
      ]
     },
     "metadata": {},
     "output_type": "display_data"
    },
    {
     "data": {
      "application/vnd.jupyter.widget-view+json": {
       "model_id": "d60cf0c3f30148528bbf1dc843afe8b6",
       "version_major": 2,
       "version_minor": 0
      },
      "text/plain": [
       "  0%|          | 0/6911 [00:00<?, ?it/s]"
      ]
     },
     "metadata": {},
     "output_type": "display_data"
    }
   ],
   "source": [
    "#Parameters for rivers\n",
    "\n",
    "riverCloud = o3d.io.read_point_cloud(os.path.join(os.getcwd(), \"data\", \"Cropped\", \"river.ply\"))\n",
    "\n",
    "#Making a voxel grid of the rivers\n",
    "riverVoxelGrid = o3d.geometry.VoxelGrid.create_from_point_cloud(riverCloud, voxel_size)\n",
    "\n",
    "#Extracting center points\n",
    "riverVoxelCenterCoordinates= []\n",
    "\n",
    "for i in riverVoxelGrid.get_voxels():\n",
    "    riverVoxelCenterCoordinates.append(riverVoxelGrid.get_voxel_center_coordinate(i.grid_index))\n",
    "\n",
    "#Extracting points from each voxel\n",
    "riverExtractedPointClouds = extractPointCloudFromVoxel(riverVoxelCenterCoordinates, riverCloud, voxel_size)\n",
    "\n",
    "#Calculating the PCA features for each voxel\n",
    "riverLinearity, riverPlanarity, riverScattering, riverOmnivariance, riverSum_eigenvalues, riverAnisotropy, riverEigentropy, riverChange_of_curvature, riverEigenvalues, riverEigenvectors, riverPoints_per_voxel = calculatePCAFeatures(riverExtractedPointClouds)\n",
    "\n",
    "#Calculating other features\n",
    "riverZ_range = calculateZRange(riverExtractedPointClouds)\n",
    "\n",
    "#Making an array of labels for the rivers with number 3\n",
    "riverLabels = np.full(len(riverLinearity), 3)\n",
    "\n",
    "#Making a dataframe with all the features and the points for each voxel\n",
    "dfRiver = pd.DataFrame(list(zip(riverPoints_per_voxel, riverLinearity, riverPlanarity, riverScattering, riverOmnivariance, riverSum_eigenvalues, riverAnisotropy, riverEigentropy, riverChange_of_curvature, riverZ_range, riverLabels)),\n",
    "                       columns = ['points', 'linearity', 'planarity', 'scattering', 'omnivariance', 'sum_eigenvalues', 'anisotropy', 'eigentropy', 'change_of_curvature', 'z_range', 'label'])\n",
    "\n",
    "\n"
   ]
  },
  {
   "cell_type": "code",
   "execution_count": 157,
   "metadata": {},
   "outputs": [],
   "source": [
    "#Combining the datasets into one dataframe\n",
    "dfCombined = pd.concat([dfHouse, dfTree, dfTerrain, dfRiver], ignore_index=True)"
   ]
  },
  {
   "cell_type": "code",
   "execution_count": 158,
   "metadata": {},
   "outputs": [],
   "source": [
    "#Saving the training data to a new file\n",
    "\n",
    "dfCombined.to_csv(os.path.join(os.getcwd(), \"data\", \"calculatedFeaturesTrainingData.csv\"))"
   ]
  },
  {
   "cell_type": "code",
   "execution_count": null,
   "metadata": {},
   "outputs": [],
   "source": []
  },
  {
   "cell_type": "code",
   "execution_count": null,
   "metadata": {},
   "outputs": [],
   "source": [
    "#Now its time for the machine learning part\n",
    "\n",
    "#First, we need to split the data into training and testing data, and also try to drop some features to see if it improves the accuracy\n",
    "\n",
    "from sklearn.model_selection import train_test_split\n",
    "\n",
    "\n",
    "#Placing the labels in a dataframe\n",
    "y_train = dfCombined['label']\n",
    "\n",
    "#Splitting the data into training and testing data\n",
    "X_train, X_test, y_train, y_test = train_test_split(dfCombined.drop(['points', 'label',], axis=1), dfCombined['label'], test_size=0.20, random_state=42)\n",
    "\n",
    "\n"
   ]
  },
  {
   "cell_type": "code",
   "execution_count": 143,
   "metadata": {},
   "outputs": [],
   "source": [
    "#Reading the training data from the csv file\n",
    "\n",
    "dfTraining = pd.read_csv(os.path.join(os.getcwd(), \"data\", \"voxelFeatures.csv\"))"
   ]
  },
  {
   "cell_type": "code",
   "execution_count": 144,
   "metadata": {},
   "outputs": [],
   "source": [
    "dfTraining.drop(['Unnamed: 0'], axis=1, inplace=True)"
   ]
  },
  {
   "cell_type": "code",
   "execution_count": 145,
   "metadata": {},
   "outputs": [],
   "source": [
    "#Placing the labels in a dataframe\n",
    "y_train = dfTraining['label']\n",
    "\n",
    "#Splitting the data into training and testing data\n",
    "X_train, X_test, y_train, y_test = train_test_split(dfTraining.drop(['points', 'label',], axis=1), dfTraining['label'], test_size=0.20, random_state=42)"
   ]
  },
  {
   "cell_type": "code",
   "execution_count": 127,
   "metadata": {},
   "outputs": [],
   "source": [
    "#Training a decision tree classifier\n",
    "\n",
    "from sklearn.tree import DecisionTreeClassifier\n",
    "\n",
    "\n",
    "#Creating the classifier\n",
    "clf = DecisionTreeClassifier(random_state=0)\n",
    "\n",
    "#Training the classifier\n",
    "clf.fit(X_train, y_train)\n",
    "\n",
    "#Testing it\n",
    "y_pred = clf.predict(X_test)\n",
    "\n"
   ]
  },
  {
   "cell_type": "code",
   "execution_count": 162,
   "metadata": {},
   "outputs": [
    {
     "name": "stdout",
     "output_type": "stream",
     "text": [
      "0:\tlearn: 1.2349949\ttotal: 30.5ms\tremaining: 3.02s\n",
      "1:\tlearn: 1.1247663\ttotal: 54.4ms\tremaining: 2.67s\n",
      "2:\tlearn: 1.0398605\ttotal: 79.4ms\tremaining: 2.57s\n",
      "3:\tlearn: 0.9729775\ttotal: 112ms\tremaining: 2.68s\n",
      "4:\tlearn: 0.9172307\ttotal: 140ms\tremaining: 2.67s\n",
      "5:\tlearn: 0.8716337\ttotal: 167ms\tremaining: 2.62s\n",
      "6:\tlearn: 0.8319418\ttotal: 194ms\tremaining: 2.58s\n",
      "7:\tlearn: 0.7991783\ttotal: 218ms\tremaining: 2.5s\n",
      "8:\tlearn: 0.7702330\ttotal: 242ms\tremaining: 2.44s\n",
      "9:\tlearn: 0.7466721\ttotal: 265ms\tremaining: 2.39s\n",
      "10:\tlearn: 0.7254581\ttotal: 288ms\tremaining: 2.33s\n",
      "11:\tlearn: 0.7061094\ttotal: 310ms\tremaining: 2.27s\n",
      "12:\tlearn: 0.6900327\ttotal: 335ms\tremaining: 2.24s\n",
      "13:\tlearn: 0.6759488\ttotal: 357ms\tremaining: 2.19s\n",
      "14:\tlearn: 0.6626815\ttotal: 385ms\tremaining: 2.18s\n",
      "15:\tlearn: 0.6522080\ttotal: 411ms\tremaining: 2.16s\n",
      "16:\tlearn: 0.6416418\ttotal: 439ms\tremaining: 2.15s\n",
      "17:\tlearn: 0.6333791\ttotal: 461ms\tremaining: 2.1s\n",
      "18:\tlearn: 0.6258627\ttotal: 484ms\tremaining: 2.06s\n",
      "19:\tlearn: 0.6192239\ttotal: 507ms\tremaining: 2.03s\n",
      "20:\tlearn: 0.6127478\ttotal: 529ms\tremaining: 1.99s\n",
      "21:\tlearn: 0.6069588\ttotal: 550ms\tremaining: 1.95s\n",
      "22:\tlearn: 0.6015555\ttotal: 574ms\tremaining: 1.92s\n",
      "23:\tlearn: 0.5972935\ttotal: 595ms\tremaining: 1.88s\n",
      "24:\tlearn: 0.5932843\ttotal: 616ms\tremaining: 1.85s\n",
      "25:\tlearn: 0.5886218\ttotal: 639ms\tremaining: 1.82s\n",
      "26:\tlearn: 0.5847444\ttotal: 661ms\tremaining: 1.79s\n",
      "27:\tlearn: 0.5818060\ttotal: 683ms\tremaining: 1.75s\n",
      "28:\tlearn: 0.5786211\ttotal: 707ms\tremaining: 1.73s\n",
      "29:\tlearn: 0.5760556\ttotal: 727ms\tremaining: 1.7s\n",
      "30:\tlearn: 0.5734980\ttotal: 747ms\tremaining: 1.66s\n",
      "31:\tlearn: 0.5710076\ttotal: 771ms\tremaining: 1.64s\n",
      "32:\tlearn: 0.5694771\ttotal: 792ms\tremaining: 1.61s\n",
      "33:\tlearn: 0.5673305\ttotal: 813ms\tremaining: 1.58s\n",
      "34:\tlearn: 0.5650055\ttotal: 836ms\tremaining: 1.55s\n",
      "35:\tlearn: 0.5632094\ttotal: 856ms\tremaining: 1.52s\n",
      "36:\tlearn: 0.5616681\ttotal: 878ms\tremaining: 1.5s\n",
      "37:\tlearn: 0.5601626\ttotal: 901ms\tremaining: 1.47s\n",
      "38:\tlearn: 0.5590918\ttotal: 922ms\tremaining: 1.44s\n",
      "39:\tlearn: 0.5576624\ttotal: 944ms\tremaining: 1.42s\n",
      "40:\tlearn: 0.5565158\ttotal: 965ms\tremaining: 1.39s\n",
      "41:\tlearn: 0.5554651\ttotal: 987ms\tremaining: 1.36s\n",
      "42:\tlearn: 0.5542497\ttotal: 1.01s\tremaining: 1.34s\n",
      "43:\tlearn: 0.5530005\ttotal: 1.03s\tremaining: 1.31s\n",
      "44:\tlearn: 0.5521189\ttotal: 1.05s\tremaining: 1.29s\n",
      "45:\tlearn: 0.5510398\ttotal: 1.07s\tremaining: 1.26s\n",
      "46:\tlearn: 0.5499531\ttotal: 1.1s\tremaining: 1.24s\n",
      "47:\tlearn: 0.5492832\ttotal: 1.12s\tremaining: 1.21s\n",
      "48:\tlearn: 0.5488030\ttotal: 1.14s\tremaining: 1.19s\n",
      "49:\tlearn: 0.5482014\ttotal: 1.16s\tremaining: 1.16s\n",
      "50:\tlearn: 0.5477122\ttotal: 1.18s\tremaining: 1.14s\n",
      "51:\tlearn: 0.5469032\ttotal: 1.2s\tremaining: 1.11s\n",
      "52:\tlearn: 0.5461901\ttotal: 1.22s\tremaining: 1.08s\n",
      "53:\tlearn: 0.5454221\ttotal: 1.25s\tremaining: 1.06s\n",
      "54:\tlearn: 0.5447634\ttotal: 1.27s\tremaining: 1.04s\n",
      "55:\tlearn: 0.5440903\ttotal: 1.29s\tremaining: 1.01s\n",
      "56:\tlearn: 0.5437297\ttotal: 1.31s\tremaining: 990ms\n",
      "57:\tlearn: 0.5433572\ttotal: 1.33s\tremaining: 965ms\n",
      "58:\tlearn: 0.5428718\ttotal: 1.36s\tremaining: 943ms\n",
      "59:\tlearn: 0.5423933\ttotal: 1.38s\tremaining: 922ms\n",
      "60:\tlearn: 0.5419268\ttotal: 1.41s\tremaining: 902ms\n",
      "61:\tlearn: 0.5414155\ttotal: 1.44s\tremaining: 881ms\n",
      "62:\tlearn: 0.5412060\ttotal: 1.46s\tremaining: 857ms\n",
      "63:\tlearn: 0.5405858\ttotal: 1.49s\tremaining: 836ms\n",
      "64:\tlearn: 0.5401928\ttotal: 1.51s\tremaining: 813ms\n",
      "65:\tlearn: 0.5391267\ttotal: 1.53s\tremaining: 790ms\n",
      "66:\tlearn: 0.5385266\ttotal: 1.55s\tremaining: 766ms\n",
      "67:\tlearn: 0.5381389\ttotal: 1.58s\tremaining: 743ms\n",
      "68:\tlearn: 0.5375906\ttotal: 1.6s\tremaining: 721ms\n",
      "69:\tlearn: 0.5371947\ttotal: 1.63s\tremaining: 698ms\n",
      "70:\tlearn: 0.5368205\ttotal: 1.65s\tremaining: 674ms\n",
      "71:\tlearn: 0.5364333\ttotal: 1.67s\tremaining: 651ms\n",
      "72:\tlearn: 0.5360365\ttotal: 1.7s\tremaining: 629ms\n",
      "73:\tlearn: 0.5356768\ttotal: 1.73s\tremaining: 606ms\n",
      "74:\tlearn: 0.5354086\ttotal: 1.75s\tremaining: 584ms\n",
      "75:\tlearn: 0.5352737\ttotal: 1.78s\tremaining: 561ms\n",
      "76:\tlearn: 0.5348643\ttotal: 1.81s\tremaining: 540ms\n",
      "77:\tlearn: 0.5345123\ttotal: 1.83s\tremaining: 516ms\n",
      "78:\tlearn: 0.5340502\ttotal: 1.85s\tremaining: 493ms\n",
      "79:\tlearn: 0.5338177\ttotal: 1.88s\tremaining: 469ms\n",
      "80:\tlearn: 0.5335135\ttotal: 1.9s\tremaining: 445ms\n",
      "81:\tlearn: 0.5331794\ttotal: 1.92s\tremaining: 422ms\n",
      "82:\tlearn: 0.5329694\ttotal: 1.94s\tremaining: 398ms\n",
      "83:\tlearn: 0.5328464\ttotal: 1.96s\tremaining: 374ms\n",
      "84:\tlearn: 0.5325911\ttotal: 1.98s\tremaining: 350ms\n",
      "85:\tlearn: 0.5322689\ttotal: 2.01s\tremaining: 327ms\n",
      "86:\tlearn: 0.5321385\ttotal: 2.03s\tremaining: 304ms\n",
      "87:\tlearn: 0.5319340\ttotal: 2.05s\tremaining: 280ms\n",
      "88:\tlearn: 0.5316536\ttotal: 2.08s\tremaining: 257ms\n",
      "89:\tlearn: 0.5313910\ttotal: 2.1s\tremaining: 233ms\n",
      "90:\tlearn: 0.5310998\ttotal: 2.12s\tremaining: 210ms\n",
      "91:\tlearn: 0.5309244\ttotal: 2.14s\tremaining: 186ms\n",
      "92:\tlearn: 0.5307371\ttotal: 2.16s\tremaining: 163ms\n",
      "93:\tlearn: 0.5304016\ttotal: 2.18s\tremaining: 139ms\n",
      "94:\tlearn: 0.5301625\ttotal: 2.21s\tremaining: 116ms\n",
      "95:\tlearn: 0.5299589\ttotal: 2.23s\tremaining: 92.8ms\n",
      "96:\tlearn: 0.5298176\ttotal: 2.25s\tremaining: 69.6ms\n",
      "97:\tlearn: 0.5293865\ttotal: 2.27s\tremaining: 46.4ms\n",
      "98:\tlearn: 0.5292130\ttotal: 2.29s\tremaining: 23.2ms\n",
      "99:\tlearn: 0.5290247\ttotal: 2.31s\tremaining: 0us\n",
      "Accuracy: 0.8024136121730006\n"
     ]
    }
   ],
   "source": [
    "# Initialize a CatBoost model with Decision Tree as the base learner\n",
    "from catboost import CatBoostClassifier\n",
    "from sklearn.metrics import accuracy_score\n",
    "\n",
    "#Placing the labels in a dataframe\n",
    "y_train = dfCombined['label']\n",
    "\n",
    "#Splitting the data into training and testing data\n",
    "X_train, X_test, y_train, y_test = train_test_split(dfCombined.drop(['points', 'label',], axis=1), dfCombined['label'], test_size=0.20, random_state=42)\n",
    "\n",
    "catboost_model = CatBoostClassifier(\n",
    "    iterations=100,  # Adjust as needed\n",
    "    depth=6,          # Adjust as needed\n",
    "    learning_rate=0.1,\n",
    "    custom_metric=['Accuracy'],\n",
    "    loss_function='MultiClass',\n",
    "    random_seed=42\n",
    ")\n",
    "\n",
    "# Fit the model on the training data\n",
    "catboost_model.fit(X_train, y_train)\n",
    "\n",
    "# Make predictions on the test set\n",
    "y_pred = catboost_model.predict(X_test)\n",
    "\n",
    "# Calculate accuracy\n",
    "accuracy = accuracy_score(y_test, y_pred)\n",
    "print(f\"Accuracy: {accuracy}\")\n"
   ]
  },
  {
   "cell_type": "code",
   "execution_count": null,
   "metadata": {},
   "outputs": [],
   "source": []
  },
  {
   "cell_type": "code",
   "execution_count": null,
   "metadata": {},
   "outputs": [],
   "source": [
    "#Testing the accuracy of the classifier\n",
    "\n",
    "from sklearn.metrics import accuracy_score\n",
    "print(accuracy_score(y_test, y_pred))\n",
    "\n",
    "feature_importances = clf.feature_importances_\n",
    "print(feature_importances)\n",
    "\n"
   ]
  },
  {
   "cell_type": "code",
   "execution_count": 163,
   "metadata": {},
   "outputs": [],
   "source": [
    "#Now actually testing it on the point cloud\n",
    "\n",
    "#We already have the dataframe for the entire point cloud, so we can just use that\n",
    "\n",
    "X_cloud = df.drop(['points'], axis=1)\n",
    "\n",
    "#Predicting the labels for the point cloud\n",
    "y_cloud_pred = catboost_model.predict(X_cloud)\n",
    "\n",
    "#Adding the labels to the dataframe\n",
    "df['label'] = y_cloud_pred"
   ]
  },
  {
   "cell_type": "code",
   "execution_count": 164,
   "metadata": {},
   "outputs": [
    {
     "data": {
      "text/html": [
       "<div>\n",
       "<style scoped>\n",
       "    .dataframe tbody tr th:only-of-type {\n",
       "        vertical-align: middle;\n",
       "    }\n",
       "\n",
       "    .dataframe tbody tr th {\n",
       "        vertical-align: top;\n",
       "    }\n",
       "\n",
       "    .dataframe thead th {\n",
       "        text-align: right;\n",
       "    }\n",
       "</style>\n",
       "<table border=\"1\" class=\"dataframe\">\n",
       "  <thead>\n",
       "    <tr style=\"text-align: right;\">\n",
       "      <th></th>\n",
       "      <th>points</th>\n",
       "      <th>linearity</th>\n",
       "      <th>planarity</th>\n",
       "      <th>scattering</th>\n",
       "      <th>omnivariance</th>\n",
       "      <th>sum_eigenvalues</th>\n",
       "      <th>anisotropy</th>\n",
       "      <th>eigentropy</th>\n",
       "      <th>change_of_curvature</th>\n",
       "      <th>z_range</th>\n",
       "      <th>label</th>\n",
       "    </tr>\n",
       "  </thead>\n",
       "  <tbody>\n",
       "    <tr>\n",
       "      <th>0</th>\n",
       "      <td>[[569901.039978, 7034055.560059, 22.26], [5699...</td>\n",
       "      <td>0.504846</td>\n",
       "      <td>0.395950</td>\n",
       "      <td>0.099204</td>\n",
       "      <td>0.030882</td>\n",
       "      <td>0.134440</td>\n",
       "      <td>0.900796</td>\n",
       "      <td>0.381160</td>\n",
       "      <td>0.062222</td>\n",
       "      <td>0.690000</td>\n",
       "      <td>0.0</td>\n",
       "    </tr>\n",
       "    <tr>\n",
       "      <th>1</th>\n",
       "      <td>[[570046.660034, 7034121.640015, 8.44], [57004...</td>\n",
       "      <td>0.286875</td>\n",
       "      <td>0.711114</td>\n",
       "      <td>0.002011</td>\n",
       "      <td>0.013096</td>\n",
       "      <td>0.199191</td>\n",
       "      <td>0.997989</td>\n",
       "      <td>0.458306</td>\n",
       "      <td>0.001172</td>\n",
       "      <td>0.060000</td>\n",
       "      <td>2.0</td>\n",
       "    </tr>\n",
       "    <tr>\n",
       "      <th>2</th>\n",
       "      <td>[[569918.659973, 7034220.420044, 28.35], [5699...</td>\n",
       "      <td>0.400117</td>\n",
       "      <td>0.498582</td>\n",
       "      <td>0.101301</td>\n",
       "      <td>0.028418</td>\n",
       "      <td>0.122968</td>\n",
       "      <td>0.898699</td>\n",
       "      <td>0.361980</td>\n",
       "      <td>0.059547</td>\n",
       "      <td>0.440000</td>\n",
       "      <td>0.0</td>\n",
       "    </tr>\n",
       "    <tr>\n",
       "      <th>3</th>\n",
       "      <td>[[569998.049988, 7034287.170044, 3.73], [56999...</td>\n",
       "      <td>0.950197</td>\n",
       "      <td>0.023885</td>\n",
       "      <td>0.025918</td>\n",
       "      <td>0.008723</td>\n",
       "      <td>0.086185</td>\n",
       "      <td>0.974082</td>\n",
       "      <td>0.237107</td>\n",
       "      <td>0.024093</td>\n",
       "      <td>0.210000</td>\n",
       "      <td>1.0</td>\n",
       "    </tr>\n",
       "    <tr>\n",
       "      <th>4</th>\n",
       "      <td>[[569957.640015, 7034200.109985, 18.48], [5699...</td>\n",
       "      <td>0.288012</td>\n",
       "      <td>0.708027</td>\n",
       "      <td>0.003960</td>\n",
       "      <td>0.016018</td>\n",
       "      <td>0.194557</td>\n",
       "      <td>0.996040</td>\n",
       "      <td>0.453456</td>\n",
       "      <td>0.002308</td>\n",
       "      <td>0.489999</td>\n",
       "      <td>1.0</td>\n",
       "    </tr>\n",
       "    <tr>\n",
       "      <th>...</th>\n",
       "      <td>...</td>\n",
       "      <td>...</td>\n",
       "      <td>...</td>\n",
       "      <td>...</td>\n",
       "      <td>...</td>\n",
       "      <td>...</td>\n",
       "      <td>...</td>\n",
       "      <td>...</td>\n",
       "      <td>...</td>\n",
       "      <td>...</td>\n",
       "      <td>...</td>\n",
       "    </tr>\n",
       "    <tr>\n",
       "      <th>242773</th>\n",
       "      <td>[[570142.150024, 7034182.359985, 26.65], [5701...</td>\n",
       "      <td>0.646421</td>\n",
       "      <td>0.351680</td>\n",
       "      <td>0.001899</td>\n",
       "      <td>0.008801</td>\n",
       "      <td>0.136231</td>\n",
       "      <td>0.998101</td>\n",
       "      <td>0.351140</td>\n",
       "      <td>0.001401</td>\n",
       "      <td>0.119999</td>\n",
       "      <td>2.0</td>\n",
       "    </tr>\n",
       "    <tr>\n",
       "      <th>242774</th>\n",
       "      <td>[[570170.660034, 7034180.209961, 25.559999], [...</td>\n",
       "      <td>0.457261</td>\n",
       "      <td>0.537273</td>\n",
       "      <td>0.005467</td>\n",
       "      <td>0.013555</td>\n",
       "      <td>0.146043</td>\n",
       "      <td>0.994533</td>\n",
       "      <td>0.378774</td>\n",
       "      <td>0.003531</td>\n",
       "      <td>0.160000</td>\n",
       "      <td>2.0</td>\n",
       "    </tr>\n",
       "    <tr>\n",
       "      <th>242775</th>\n",
       "      <td>[[570084.650024, 7034302.060059, 2.98], [57008...</td>\n",
       "      <td>0.504146</td>\n",
       "      <td>0.495516</td>\n",
       "      <td>0.000338</td>\n",
       "      <td>0.006641</td>\n",
       "      <td>0.180316</td>\n",
       "      <td>0.999662</td>\n",
       "      <td>0.423787</td>\n",
       "      <td>0.000226</td>\n",
       "      <td>0.020000</td>\n",
       "      <td>2.0</td>\n",
       "    </tr>\n",
       "    <tr>\n",
       "      <th>242776</th>\n",
       "      <td>[[570177.699951, 7034300.01001, 7.61], [570177...</td>\n",
       "      <td>0.159510</td>\n",
       "      <td>0.839737</td>\n",
       "      <td>0.000753</td>\n",
       "      <td>0.008556</td>\n",
       "      <td>0.183453</td>\n",
       "      <td>0.999247</td>\n",
       "      <td>0.438179</td>\n",
       "      <td>0.000409</td>\n",
       "      <td>0.080000</td>\n",
       "      <td>2.0</td>\n",
       "    </tr>\n",
       "    <tr>\n",
       "      <th>242777</th>\n",
       "      <td>[[570176.650024, 7034301.140015, 7.53], [57017...</td>\n",
       "      <td>0.499827</td>\n",
       "      <td>0.492778</td>\n",
       "      <td>0.007395</td>\n",
       "      <td>0.017564</td>\n",
       "      <td>0.171214</td>\n",
       "      <td>0.992605</td>\n",
       "      <td>0.415924</td>\n",
       "      <td>0.004906</td>\n",
       "      <td>0.140000</td>\n",
       "      <td>3.0</td>\n",
       "    </tr>\n",
       "  </tbody>\n",
       "</table>\n",
       "<p>242778 rows × 11 columns</p>\n",
       "</div>"
      ],
      "text/plain": [
       "                                                   points  linearity  \\\n",
       "0       [[569901.039978, 7034055.560059, 22.26], [5699...   0.504846   \n",
       "1       [[570046.660034, 7034121.640015, 8.44], [57004...   0.286875   \n",
       "2       [[569918.659973, 7034220.420044, 28.35], [5699...   0.400117   \n",
       "3       [[569998.049988, 7034287.170044, 3.73], [56999...   0.950197   \n",
       "4       [[569957.640015, 7034200.109985, 18.48], [5699...   0.288012   \n",
       "...                                                   ...        ...   \n",
       "242773  [[570142.150024, 7034182.359985, 26.65], [5701...   0.646421   \n",
       "242774  [[570170.660034, 7034180.209961, 25.559999], [...   0.457261   \n",
       "242775  [[570084.650024, 7034302.060059, 2.98], [57008...   0.504146   \n",
       "242776  [[570177.699951, 7034300.01001, 7.61], [570177...   0.159510   \n",
       "242777  [[570176.650024, 7034301.140015, 7.53], [57017...   0.499827   \n",
       "\n",
       "        planarity  scattering  omnivariance  sum_eigenvalues  anisotropy  \\\n",
       "0        0.395950    0.099204      0.030882         0.134440    0.900796   \n",
       "1        0.711114    0.002011      0.013096         0.199191    0.997989   \n",
       "2        0.498582    0.101301      0.028418         0.122968    0.898699   \n",
       "3        0.023885    0.025918      0.008723         0.086185    0.974082   \n",
       "4        0.708027    0.003960      0.016018         0.194557    0.996040   \n",
       "...           ...         ...           ...              ...         ...   \n",
       "242773   0.351680    0.001899      0.008801         0.136231    0.998101   \n",
       "242774   0.537273    0.005467      0.013555         0.146043    0.994533   \n",
       "242775   0.495516    0.000338      0.006641         0.180316    0.999662   \n",
       "242776   0.839737    0.000753      0.008556         0.183453    0.999247   \n",
       "242777   0.492778    0.007395      0.017564         0.171214    0.992605   \n",
       "\n",
       "        eigentropy  change_of_curvature   z_range  label  \n",
       "0         0.381160             0.062222  0.690000    0.0  \n",
       "1         0.458306             0.001172  0.060000    2.0  \n",
       "2         0.361980             0.059547  0.440000    0.0  \n",
       "3         0.237107             0.024093  0.210000    1.0  \n",
       "4         0.453456             0.002308  0.489999    1.0  \n",
       "...            ...                  ...       ...    ...  \n",
       "242773    0.351140             0.001401  0.119999    2.0  \n",
       "242774    0.378774             0.003531  0.160000    2.0  \n",
       "242775    0.423787             0.000226  0.020000    2.0  \n",
       "242776    0.438179             0.000409  0.080000    2.0  \n",
       "242777    0.415924             0.004906  0.140000    3.0  \n",
       "\n",
       "[242778 rows x 11 columns]"
      ]
     },
     "execution_count": 164,
     "metadata": {},
     "output_type": "execute_result"
    }
   ],
   "source": [
    "df"
   ]
  },
  {
   "cell_type": "code",
   "execution_count": 181,
   "metadata": {},
   "outputs": [],
   "source": [
    "#Now we need to extract the points from the trees and houses\n",
    "\n",
    "#Making a dataframe for trees and houses\n",
    "dfTrees = df[df['label'] == 0]\n",
    "dfHouses = df[df['label'] == 1]\n",
    "dfTerrain = df[df['label'] == 2]\n",
    "dfRiver = df[df['label'] == 3]\n",
    "\n",
    "#Extracting the point-clusters from the trees\n",
    "treeClusters= dfTrees['points']\n",
    "houseClusters = dfHouses['points']\n",
    "terrainClusters = dfTerrain['points']\n",
    "riverClusters = dfRiver['points']\n",
    "\n",
    "classifiedTreeCloud = o3d.geometry.PointCloud()\n",
    "classifiedHouseCloud = o3d.geometry.PointCloud()\n",
    "classifiedTerrainCloud = o3d.geometry.PointCloud()\n",
    "classifiedRiverCloud = o3d.geometry.PointCloud()\n",
    "\n",
    "#Painting them\n",
    "\n",
    "#Trees get green\n",
    "for cluster in treeClusters:\n",
    "    cld = o3d.geometry.PointCloud(cluster)\n",
    "    cld.paint_uniform_color([0.07, 0.18, 0.06])  \n",
    "    classifiedTreeCloud += cld\n",
    "\n",
    "#Houses get red\n",
    "for cluster in houseClusters:\n",
    "    cld = o3d.geometry.PointCloud(cluster)\n",
    "    cld.paint_uniform_color([0.54, 0.22, 0.18])  \n",
    "    classifiedHouseCloud += cld\n",
    "    \n",
    "#Terrain gets gray\n",
    "for cluster in terrainClusters:\n",
    "    cld = o3d.geometry.PointCloud(cluster)\n",
    "    cld.paint_uniform_color([0.54, 0.52, 0.53])\n",
    "    classifiedTerrainCloud += cld\n",
    "\n",
    "#Water gets blue\n",
    "for cluster in riverClusters:\n",
    "    cld = o3d.geometry.PointCloud(cluster)\n",
    "    cld.paint_uniform_color([0, 0, 1])\n",
    "    classifiedRiverCloud += cld"
   ]
  },
  {
   "cell_type": "code",
   "execution_count": 182,
   "metadata": {},
   "outputs": [],
   "source": [
    "o3d.visualization.draw_geometries([classifiedTreeCloud, classifiedHouseCloud, classifiedTerrainCloud, classifiedRiverCloud])"
   ]
  },
  {
   "cell_type": "code",
   "execution_count": 184,
   "metadata": {},
   "outputs": [
    {
     "name": "stdout",
     "output_type": "stream",
     "text": [
      "[Open3D WARNING] [ViewControl] SetViewPoint() failed because window height and width are not set.\n"
     ]
    }
   ],
   "source": [
    "#Checking to see what happens if we voxelgrid the clouds\n",
    "\n",
    "#Making a voxelgrid of the classified clouds\n",
    "voxel_size = 1\n",
    "treeVoxelGrid = o3d.geometry.VoxelGrid.create_from_point_cloud(classifiedTreeCloud, voxel_size)\n",
    "houseVoxelGrid = o3d.geometry.VoxelGrid.create_from_point_cloud(classifiedHouseCloud, voxel_size)\n",
    "terrainVoxelGrid = o3d.geometry.VoxelGrid.create_from_point_cloud(classifiedTerrainCloud, voxel_size)\n",
    "riverVoxelGrid = o3d.geometry.VoxelGrid.create_from_point_cloud(classifiedRiverCloud, voxel_size)\n",
    "\n",
    "#Visualizing it\n",
    "\n",
    "o3d.visualization.draw_geometries([treeVoxelGrid, houseVoxelGrid, terrainVoxelGrid, riverVoxelGrid])"
   ]
  },
  {
   "cell_type": "code",
   "execution_count": 186,
   "metadata": {},
   "outputs": [],
   "source": [
    "o3d.visualization.draw_geometries([treeVoxelGrid])\n",
    "o3d.visualization.draw_geometries([houseVoxelGrid])\n",
    "o3d.visualization.draw_geometries([terrainVoxelGrid])\n",
    "o3d.visualization.draw_geometries([riverVoxelGrid])\n"
   ]
  }
 ],
 "metadata": {
  "kernelspec": {
   "display_name": "venv",
   "language": "python",
   "name": "python3"
  },
  "language_info": {
   "codemirror_mode": {
    "name": "ipython",
    "version": 3
   },
   "file_extension": ".py",
   "mimetype": "text/x-python",
   "name": "python",
   "nbconvert_exporter": "python",
   "pygments_lexer": "ipython3",
   "version": "3.10.11"
  }
 },
 "nbformat": 4,
 "nbformat_minor": 2
}
