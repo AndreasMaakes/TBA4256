{
 "cells": [
  {
   "cell_type": "code",
   "execution_count": 1,
   "metadata": {},
   "outputs": [
    {
     "name": "stdout",
     "output_type": "stream",
     "text": [
      "Jupyter environment detected. Enabling Open3D WebVisualizer.\n",
      "[Open3D INFO] WebRTC GUI backend enabled.\n",
      "[Open3D INFO] WebRTCWindowSystem: HTTP handshake server disabled.\n"
     ]
    }
   ],
   "source": [
    "#First, the point cloud has to be loaded and then read.\n",
    "#Its probably way too big to work with from the start, so I think I will use voxel downsampling\n",
    "#But first, imports\n",
    "\n",
    "import open3d as o3d\n",
    "import numpy as np\n",
    "import matplotlib.pyplot as plt\n",
    "import os   \n",
    "from pyntcloud import PyntCloud\n",
    "\n",
    "#Loading the point cloud\n",
    "\n",
    "initialCloud =  o3d.io.read_point_cloud(os.path.join(os.getcwd(), \"data\", \"croppedCloud.ply\")) \n",
    "\n",
    "\n"
   ]
  },
  {
   "cell_type": "code",
   "execution_count": 2,
   "metadata": {},
   "outputs": [],
   "source": [
    "#Making a voxelgrid from the point cloud\n",
    "voxel_size = 3\n",
    "voxel_grid = o3d.geometry.VoxelGrid.create_from_point_cloud(initialCloud, voxel_size)\n",
    "\n"
   ]
  },
  {
   "cell_type": "code",
   "execution_count": 3,
   "metadata": {},
   "outputs": [],
   "source": [
    "#Extracting center points so we can calculate PCA for the points within each voxel\n",
    "\n",
    "voxel_center_coordinates= []\n",
    "\n",
    "for i in voxel_grid.get_voxels():\n",
    "    voxel_center_coordinates.append(voxel_grid.get_voxel_center_coordinate(i.grid_index))\n",
    "\n"
   ]
  },
  {
   "cell_type": "code",
   "execution_count": null,
   "metadata": {},
   "outputs": [],
   "source": [
    "#This is old code, not if needed anymore\n",
    "from sklearn.decomposition import PCA\n",
    "from tqdm.auto import tqdm\n",
    "\n",
    "#Extracting points from each voxel, calculating features for all of them and storing them in lists\n",
    "voxel_size = 3\n",
    "\n",
    "\n",
    "linearity =[]\n",
    "planarity = []\n",
    "scattering = []\n",
    "omnivariance = []\n",
    "sum_eigenvalues = []\n",
    "anisotropy = []\n",
    "eigentropy = []\n",
    "change_of_curvature = []\n",
    "points_per_voxel = []\n",
    "z_range = []\n",
    " \n",
    "\n",
    "#Calculating Z-range and standard deviation from the plane for each voxel\n",
    "\n",
    "#Z-range\n",
    "\n",
    "#Defining a function to calculate the z range\n",
    "def calculateZRange(points):\n",
    "    if len(points) < 15:\n",
    "        return 0\n",
    "    return(np.max(points[:,2]) - np.min(points[:,2]))\n",
    "   \n",
    "#Run this to just run it on the first 100 voxels\n",
    "#voxel_center_coordinates = voxel_center_coordinates[:100]\n",
    "\n",
    "\n",
    "for center in tqdm(voxel_center_coordinates):\n",
    "    minboundx = center[0] - voxel_size/2\n",
    "    minboundy = center[1] - voxel_size/2\n",
    "    minboundz = center[2] - voxel_size/2\n",
    "\n",
    "    maxboundx = center[0] + voxel_size/2\n",
    "    maxboundy = center[1] + voxel_size/2\n",
    "    maxboundz = center[2] + voxel_size/2\n",
    "\n",
    "    voxel_extracted_points =initialCloud.crop(o3d.geometry.AxisAlignedBoundingBox(min_bound=(minboundx, minboundy, minboundz), max_bound=(maxboundx, maxboundy, maxboundz)))\n",
    "    #print(\"Number of points in voxel \", len(voxel_extracted_points.points))\n",
    "    \n",
    "    points = np.asarray(voxel_extracted_points.points)\n",
    "    \n",
    "    #Checking if there are enough points in the voxel to calculate PCA\n",
    "    \n",
    "    if len(points) < 15:\n",
    "        linearity.append(0)\n",
    "        planarity.append(0)\n",
    "        scattering.append(0)\n",
    "        omnivariance.append(0)\n",
    "        sum_eigenvalues.append(0)\n",
    "        anisotropy.append(0)\n",
    "        eigentropy.append(0)\n",
    "        change_of_curvature.append(0)\n",
    "        points_per_voxel.append(points) #Kan her appende 0 istedenfor points?\n",
    "        continue\n",
    "    \n",
    "    pca = PCA(n_components=3)\n",
    "    pca.fit(points)\n",
    "\n",
    "    # Extract the eigenvalues and eigenvectors\n",
    "    eigenvalues = pca.explained_variance_\n",
    "    eigenvectors = pca.components_\n",
    "    \n",
    "    #Calculating the features\n",
    "    l = (eigenvalues[0] - eigenvalues[1]) / eigenvalues[0] \n",
    "    p = (eigenvalues[1] - eigenvalues[2]) / eigenvalues[0]\n",
    "    s = eigenvalues[2] / eigenvalues[0]\n",
    "    o = (eigenvalues[0]*eigenvalues[1]*eigenvalues[2])**(1/3)\n",
    "    s_e = eigenvalues[0] + eigenvalues[1] + eigenvalues[2]\n",
    "    a = (eigenvalues[0] - eigenvalues[2]) / eigenvalues[0]\n",
    "    e = (-1)*(eigenvalues[0]*np.log(eigenvalues[0]) + eigenvalues[1]*np.log(eigenvalues[1]) + eigenvalues[2]*np.log(eigenvalues[2]))\n",
    "    c_o_c = eigenvalues[2]/(eigenvalues[0]+eigenvalues[1]+eigenvalues[2])\n",
    "    \n",
    "    \n",
    "   \n",
    "    "
   ]
  },
  {
   "cell_type": "code",
   "execution_count": 4,
   "metadata": {},
   "outputs": [],
   "source": [
    "#Defining a function to extract points from a voxel based on center coordinates. Returns a list of points\n",
    "\n",
    "from sklearn.decomposition import PCA\n",
    "from tqdm.auto import tqdm\n",
    "\n",
    "\n",
    "def extractPointCloudFromVoxel(voxel_center_coordinates, pointCloud, voxel_size):\n",
    "    extractedPointClouds = []\n",
    "    for center in tqdm(voxel_center_coordinates):\n",
    "        minboundx = center[0] - voxel_size/2\n",
    "        minboundy = center[1] - voxel_size/2\n",
    "        minboundz = center[2] - voxel_size/2\n",
    "\n",
    "        maxboundx = center[0] + voxel_size/2\n",
    "        maxboundy = center[1] + voxel_size/2\n",
    "        maxboundz = center[2] + voxel_size/2\n",
    "\n",
    "        pcd = pointCloud.crop(o3d.geometry.AxisAlignedBoundingBox(min_bound=(minboundx, minboundy, minboundz), max_bound=(maxboundx, maxboundy, maxboundz)))\n",
    "        #print(\"Number of points in voxel \", len(voxel_extracted_points.points))\n",
    "        extractedPointClouds.append(pcd)\n",
    "    return extractedPointClouds\n",
    "    \n",
    "    \n",
    "    "
   ]
  },
  {
   "cell_type": "code",
   "execution_count": 5,
   "metadata": {},
   "outputs": [],
   "source": [
    "#Function to calculate features from a list of points clouds (could be one or more), returns lists for each feature\n",
    "def calculatePCAFeatures(listOfPointClouds):\n",
    "    \n",
    "    linearity =[]\n",
    "    planarity = []\n",
    "    scattering = []\n",
    "    omnivariance = []\n",
    "    sum_eigenvalues = []\n",
    "    anisotropy = []\n",
    "    eigentropy = []\n",
    "    change_of_curvature = []\n",
    "    eigenvaluesList = []\n",
    "    eigenvectorsList = []\n",
    "    points_per_voxel = []\n",
    "    \n",
    "    for pcd in tqdm(listOfPointClouds):\n",
    "        points = pcd.points\n",
    "    \n",
    "        if len(points) < 15:\n",
    "            linearity.append(0)\n",
    "            planarity.append(0)\n",
    "            scattering.append(0)\n",
    "            omnivariance.append(0)\n",
    "            sum_eigenvalues.append(0)\n",
    "            anisotropy.append(0)\n",
    "            eigentropy.append(0)\n",
    "            change_of_curvature.append(0)\n",
    "            points_per_voxel.append(points) #Kan her appende 0 istedenfor points?\n",
    "            continue\n",
    "    \n",
    "    \n",
    "        pca = PCA(n_components=3)\n",
    "        pca.fit(points)\n",
    "\n",
    "    # Extract the eigenvalues and eigenvectors\n",
    "        eigenvalues = pca.explained_variance_\n",
    "        eigenvectors = pca.components_\n",
    "    \n",
    "      #Calculating the features\n",
    "        l = (eigenvalues[0] - eigenvalues[1]) / eigenvalues[0] \n",
    "        p = (eigenvalues[1] - eigenvalues[2]) / eigenvalues[0]\n",
    "        s = eigenvalues[2] / eigenvalues[0]\n",
    "        o = (eigenvalues[0]*eigenvalues[1]*eigenvalues[2])**(1/3)\n",
    "        s_e = eigenvalues[0] + eigenvalues[1] + eigenvalues[2]\n",
    "        a = (eigenvalues[0] - eigenvalues[2]) / eigenvalues[0]\n",
    "        e = (-1)*(eigenvalues[0]*np.log(eigenvalues[0]) + eigenvalues[1]*np.log(eigenvalues[1]) + eigenvalues[2]*np.log(eigenvalues[2]))\n",
    "        c_o_c = eigenvalues[2]/(eigenvalues[0]+eigenvalues[1]+eigenvalues[2])\n",
    "\n",
    "        linearity.append(l)\n",
    "        planarity.append(p)\n",
    "        scattering.append(s)\n",
    "        omnivariance.append(o)\n",
    "        sum_eigenvalues.append(s_e)\n",
    "        anisotropy.append(a)\n",
    "        eigentropy.append(e)\n",
    "        change_of_curvature.append(c_o_c)\n",
    "        eigenvaluesList.append(eigenvalues)\n",
    "        eigenvectorsList.append(eigenvectors)\n",
    "        points_per_voxel.append(points)\n",
    "        \n",
    "    return linearity, planarity, scattering, omnivariance, sum_eigenvalues, anisotropy, eigentropy, change_of_curvature, eigenvaluesList, eigenvectorsList, points_per_voxel"
   ]
  },
  {
   "cell_type": "code",
   "execution_count": 134,
   "metadata": {},
   "outputs": [],
   "source": [
    "#Defining a seperate function to calculate z-range for a set of points\n",
    "def calculateZRange(pointClouds):\n",
    "    z_range = []\n",
    "    for pcd in tqdm(pointClouds):\n",
    "        points = np.asarray(pcd.points)\n",
    "        if len(points) < 15:\n",
    "            z_range.append(0)\n",
    "            continue\n",
    "        z = np.max(points[:,2]) - np.min(points[:,2])\n",
    "        z_range.append(z)\n",
    "    return z_range\n",
    "   "
   ]
  },
  {
   "cell_type": "code",
   "execution_count": 7,
   "metadata": {},
   "outputs": [
    {
     "data": {
      "application/vnd.jupyter.widget-view+json": {
       "model_id": "8572cf0265814a08b30ca13845f70dde",
       "version_major": 2,
       "version_minor": 0
      },
      "text/plain": [
       "  0%|          | 0/29528 [00:00<?, ?it/s]"
      ]
     },
     "metadata": {},
     "output_type": "display_data"
    }
   ],
   "source": [
    "#Extracting the points from each voxel\n",
    "\n",
    "extractedPointClouds = extractPointCloudFromVoxel(voxel_center_coordinates, initialCloud, voxel_size)"
   ]
  },
  {
   "cell_type": "code",
   "execution_count": 8,
   "metadata": {},
   "outputs": [
    {
     "data": {
      "application/vnd.jupyter.widget-view+json": {
       "model_id": "ca27d0fdbc5c46fe843a92ce29de672d",
       "version_major": 2,
       "version_minor": 0
      },
      "text/plain": [
       "  0%|          | 0/29528 [00:00<?, ?it/s]"
      ]
     },
     "metadata": {},
     "output_type": "display_data"
    }
   ],
   "source": [
    "#Calculating the features for each voxel\n",
    "linearity, planarity, scattering, omnivariance, sum_eigenvalues, anisotropy, eigentropy, change_of_curvature, eigenvalues, eigenvectors, points_per_voxel = calculatePCAFeatures(extractedPointClouds)"
   ]
  },
  {
   "cell_type": "code",
   "execution_count": 136,
   "metadata": {},
   "outputs": [
    {
     "data": {
      "application/vnd.jupyter.widget-view+json": {
       "model_id": "60b60da335e445daaa8fb07427149521",
       "version_major": 2,
       "version_minor": 0
      },
      "text/plain": [
       "  0%|          | 0/29528 [00:00<?, ?it/s]"
      ]
     },
     "metadata": {},
     "output_type": "display_data"
    }
   ],
   "source": [
    "#Calculating z-range for each voxel IT WORKS\n",
    "\n",
    "z_range = calculateZRange(extractedPointClouds)\n"
   ]
  },
  {
   "cell_type": "code",
   "execution_count": 142,
   "metadata": {},
   "outputs": [],
   "source": [
    "#Making a dataframe with all the features and the points for each voxel with an empty label column\n",
    "\n",
    "import pandas as pd\n",
    "\n",
    "# both lists, with columns specified\n",
    "label = [0] * len(linearity) #Placeholder zeroes\n",
    "\n",
    "df = pd.DataFrame(list(zip(points_per_voxel, linearity, planarity, scattering, omnivariance, sum_eigenvalues, anisotropy, eigentropy, change_of_curvature, z_range, label, )),\n",
    "\t\t\tcolumns =[ 'points', 'linearity', 'planarity', 'scattering', 'omnivariance', 'sum_eigenvalues', 'anisotropy', 'eigentropy', 'change_of_curvature', 'z_range', 'label', ])\n",
    "\n"
   ]
  },
  {
   "cell_type": "code",
   "execution_count": 44,
   "metadata": {},
   "outputs": [],
   "source": [
    "import os\n",
    "#Read all the houses into a list\n",
    "\n",
    "houses_folder = os.path.join(os.getcwd(), \"data\", \"Houses\")\n",
    "houses_files = os.listdir(houses_folder)\n",
    "\n",
    "houses = []\n",
    "for file in houses_files:\n",
    "    if file.endswith(\".ply\"):\n",
    "        house = o3d.io.read_point_cloud(os.path.join(houses_folder, file))\n",
    "        houses.append(house)\n"
   ]
  },
  {
   "cell_type": "code",
   "execution_count": 45,
   "metadata": {},
   "outputs": [],
   "source": [
    "#Load all the trees into a list\n",
    "\n",
    "trees_folder = os.path.join(os.getcwd(), \"data\", \"Trees\")   \n",
    "trees_files = os.listdir(trees_folder)\n",
    "\n",
    "trees = []\n",
    "for file in trees_files:\n",
    "    if file.endswith(\".ply\"):\n",
    "        tree = o3d.io.read_point_cloud(os.path.join(trees_folder, file))\n",
    "        trees.append(tree)\n"
   ]
  },
  {
   "cell_type": "code",
   "execution_count": 46,
   "metadata": {},
   "outputs": [],
   "source": [
    "#Load all terrain into a list\n",
    "\n",
    "terrain_folder = os.path.join(os.getcwd(), \"data\", \"Terrain\")\n",
    "terrain_files = os.listdir(terrain_folder)\n",
    "\n",
    "terrain = []\n",
    "for file in terrain_files:\n",
    "    if file.endswith(\".ply\"):\n",
    "        terrain_piece = o3d.io.read_point_cloud(os.path.join(terrain_folder, file))\n",
    "        terrain.append(terrain_piece)\n"
   ]
  },
  {
   "cell_type": "code",
   "execution_count": 143,
   "metadata": {},
   "outputs": [
    {
     "data": {
      "application/vnd.jupyter.widget-view+json": {
       "model_id": "0df6df945a514b03a7974bcaf7549ec5",
       "version_major": 2,
       "version_minor": 0
      },
      "text/plain": [
       "  0%|          | 0/2991 [00:00<?, ?it/s]"
      ]
     },
     "metadata": {},
     "output_type": "display_data"
    },
    {
     "data": {
      "application/vnd.jupyter.widget-view+json": {
       "model_id": "4667956324e9440e9515566455b3af83",
       "version_major": 2,
       "version_minor": 0
      },
      "text/plain": [
       "  0%|          | 0/2991 [00:00<?, ?it/s]"
      ]
     },
     "metadata": {},
     "output_type": "display_data"
    },
    {
     "data": {
      "application/vnd.jupyter.widget-view+json": {
       "model_id": "c682bbc897ab417fbd8ee64f48e4f827",
       "version_major": 2,
       "version_minor": 0
      },
      "text/plain": [
       "  0%|          | 0/2991 [00:00<?, ?it/s]"
      ]
     },
     "metadata": {},
     "output_type": "display_data"
    }
   ],
   "source": [
    "#Parameters for houses\n",
    "\n",
    "#First making a point cloud of all houses\n",
    "houseCloud = o3d.geometry.PointCloud()\n",
    "for house in houses:\n",
    "    houseCloud+= house\n",
    "    \n",
    "#Making a voxel grid of the houses\n",
    "houseVoxelGrid = o3d.geometry.VoxelGrid.create_from_point_cloud(houseCloud, voxel_size)\n",
    "\n",
    "#Extracting center points\n",
    "houseVoxelCenterCoordinates= []\n",
    "for i in houseVoxelGrid.get_voxels():\n",
    "    houseVoxelCenterCoordinates.append(houseVoxelGrid.get_voxel_center_coordinate(i.grid_index))\n",
    "    \n",
    "#Extracting points from each voxel\n",
    "houseExtractedPointClouds = extractPointCloudFromVoxel(houseVoxelCenterCoordinates, houseCloud, voxel_size)\n",
    "\n",
    "#Calculating the PCA features for each voxel\n",
    "houseLinearity, housePlanarity, houseScattering, houseOmnivariance, houseSum_eigenvalues, houseAnisotropy, houseEigentropy, houseChange_of_curvature, houseEigenvalues, houseEigenvectors, housePoints_per_voxel = calculatePCAFeatures(houseExtractedPointClouds)\n",
    "\n",
    "#Calculating other features\n",
    "houseZ_range = calculateZRange(houseExtractedPointClouds)\n",
    "\n",
    "#Making an array of labels for the houses\n",
    "\n",
    "houseLabels = np.ones(len(houseLinearity))\n",
    "\n",
    "#Making a dataframe with all the features and the points for each voxel\n",
    "dfHouse = pd.DataFrame(list(zip(housePoints_per_voxel, houseLinearity, housePlanarity, houseScattering, houseOmnivariance, houseSum_eigenvalues, houseAnisotropy, houseEigentropy, houseChange_of_curvature, houseZ_range, houseLabels)),\n",
    "                       columns = ['points', 'linearity', 'planarity', 'scattering', 'omnivariance', 'sum_eigenvalues', 'anisotropy', 'eigentropy', 'change_of_curvature', 'z_range', 'label'])"
   ]
  },
  {
   "cell_type": "code",
   "execution_count": 146,
   "metadata": {},
   "outputs": [
    {
     "data": {
      "application/vnd.jupyter.widget-view+json": {
       "model_id": "e77441bced16456eb62286c5aa1640b4",
       "version_major": 2,
       "version_minor": 0
      },
      "text/plain": [
       "  0%|          | 0/4342 [00:00<?, ?it/s]"
      ]
     },
     "metadata": {},
     "output_type": "display_data"
    },
    {
     "data": {
      "application/vnd.jupyter.widget-view+json": {
       "model_id": "d8d222bebdfc402dadd21cb8396c921c",
       "version_major": 2,
       "version_minor": 0
      },
      "text/plain": [
       "  0%|          | 0/4342 [00:00<?, ?it/s]"
      ]
     },
     "metadata": {},
     "output_type": "display_data"
    },
    {
     "data": {
      "application/vnd.jupyter.widget-view+json": {
       "model_id": "ba3441b5ec2a4660a017d45b3de4e1b7",
       "version_major": 2,
       "version_minor": 0
      },
      "text/plain": [
       "  0%|          | 0/4342 [00:00<?, ?it/s]"
      ]
     },
     "metadata": {},
     "output_type": "display_data"
    }
   ],
   "source": [
    "#Parameters for trees\n",
    "\n",
    "#First making a point cloud of all trees\n",
    "treeCloud = o3d.geometry.PointCloud()\n",
    "for tree in trees:\n",
    "    treeCloud+= tree\n",
    "    \n",
    "#Making a voxel grid of the trees\n",
    "treeVoxelGrid = o3d.geometry.VoxelGrid.create_from_point_cloud(treeCloud, voxel_size)\n",
    "\n",
    "#Extracting center points\n",
    "treeVoxelCenterCoordinates= []\n",
    "for i in treeVoxelGrid.get_voxels():\n",
    "    treeVoxelCenterCoordinates.append(treeVoxelGrid.get_voxel_center_coordinate(i.grid_index))\n",
    "\n",
    "#Extracting points from each voxel\n",
    "treeExtractedPointClouds = extractPointCloudFromVoxel(treeVoxelCenterCoordinates, treeCloud, voxel_size)\n",
    "\n",
    "#Calculating the PCA features for each voxel\n",
    "treeLinearity, treePlanarity, treeScattering, treeOmnivariance, treeSum_eigenvalues, treeAnisotropy, treeEigentropy, treeChange_of_curvature, treeEigenvalues, treeEigenvectors, treePoints_per_voxel = calculatePCAFeatures(treeExtractedPointClouds)\n",
    "\n",
    "#Calculating other features\n",
    "treeZ_range = calculateZRange(treeExtractedPointClouds)\n",
    "\n",
    "#Making an array of labels for the trees\n",
    "treeLabels = np.zeros(len(treeLinearity))   \n",
    "\n",
    "#Making a dataframe with all the features and the points for each voxel\n",
    "dfTree = pd.DataFrame(list(zip(treePoints_per_voxel, treeLinearity, treePlanarity, treeScattering, treeOmnivariance, treeSum_eigenvalues, treeAnisotropy, treeEigentropy, treeChange_of_curvature, treeZ_range, treeLabels)),\n",
    "                       columns = ['points', 'linearity', 'planarity', 'scattering', 'omnivariance', 'sum_eigenvalues', 'anisotropy', 'eigentropy', 'change_of_curvature', 'z_range', 'label'])\n",
    "\n"
   ]
  },
  {
   "cell_type": "code",
   "execution_count": 147,
   "metadata": {},
   "outputs": [
    {
     "data": {
      "application/vnd.jupyter.widget-view+json": {
       "model_id": "05892428274f454fa49558d4c6ad1b83",
       "version_major": 2,
       "version_minor": 0
      },
      "text/plain": [
       "  0%|          | 0/1971 [00:00<?, ?it/s]"
      ]
     },
     "metadata": {},
     "output_type": "display_data"
    },
    {
     "data": {
      "application/vnd.jupyter.widget-view+json": {
       "model_id": "44222f9279554b33be8a282d8dc4e725",
       "version_major": 2,
       "version_minor": 0
      },
      "text/plain": [
       "  0%|          | 0/1971 [00:00<?, ?it/s]"
      ]
     },
     "metadata": {},
     "output_type": "display_data"
    },
    {
     "data": {
      "application/vnd.jupyter.widget-view+json": {
       "model_id": "f1e00368dfe942c6a18a76a306112918",
       "version_major": 2,
       "version_minor": 0
      },
      "text/plain": [
       "  0%|          | 0/1971 [00:00<?, ?it/s]"
      ]
     },
     "metadata": {},
     "output_type": "display_data"
    }
   ],
   "source": [
    "#Parameters for terrain\n",
    "\n",
    "#First making a point cloud of all terrain\n",
    "terrainCloud = o3d.geometry.PointCloud()\n",
    "\n",
    "for terrain_piece in terrain:\n",
    "    terrainCloud+= terrain_piece\n",
    "\n",
    "#Making a voxel grid of the terrain\n",
    "terrainVoxelGrid = o3d.geometry.VoxelGrid.create_from_point_cloud(terrainCloud, voxel_size)\n",
    "\n",
    "#Extracting center points\n",
    "terrainVoxelCenterCoordinates= []\n",
    "for i in terrainVoxelGrid.get_voxels():\n",
    "    terrainVoxelCenterCoordinates.append(terrainVoxelGrid.get_voxel_center_coordinate(i.grid_index))\n",
    "\n",
    "#Extracting points from each voxel\n",
    "terrainExtractedPointClouds = extractPointCloudFromVoxel(terrainVoxelCenterCoordinates, terrainCloud, voxel_size)\n",
    "\n",
    "#Calculating the PCA features for each voxel\n",
    "terrainLinearity, terrainPlanarity, terrainScattering, terrainOmnivariance, terrainSum_eigenvalues, terrainAnisotropy, terrainEigentropy, terrainChange_of_curvature, terrainEigenvalues, terrainEigenvectors, terrainPoints_per_voxel = calculatePCAFeatures(terrainExtractedPointClouds)\n",
    "\n",
    "#Calculating other features\n",
    "terrainZ_range = calculateZRange(terrainExtractedPointClouds)\n",
    "\n",
    "#Making an array of labels for the terrain with number 2\n",
    "terrainLabels = np.full(len(terrainLinearity), 2)\n",
    "\n",
    "#Making a dataframe with all the features and the points for each voxel\n",
    "dfTerrain = pd.DataFrame(list(zip(terrainPoints_per_voxel, terrainLinearity, terrainPlanarity, terrainScattering, terrainOmnivariance, terrainSum_eigenvalues, terrainAnisotropy, terrainEigentropy, terrainChange_of_curvature, terrainZ_range, terrainLabels)),\n",
    "                       columns = ['points', 'linearity', 'planarity', 'scattering', 'omnivariance', 'sum_eigenvalues', 'anisotropy', 'eigentropy', 'change_of_curvature', 'z_range', 'label'])\n",
    "\n",
    "\n"
   ]
  },
  {
   "cell_type": "code",
   "execution_count": 183,
   "metadata": {},
   "outputs": [],
   "source": [
    "#Now its time for the machine learning part\n",
    "\n",
    "#First, we need to split the data into training and testing data, and also try to drop some features to see if it improves the accuracy\n",
    "\n",
    "from sklearn.model_selection import train_test_split\n",
    "\n",
    "#Combining the datasets into one dataframe\n",
    "dfCombined = pd.concat([dfHouse, dfTree, dfTerrain], ignore_index=True)\n",
    "\n",
    "\n",
    "#Placing the labels in a dataframe\n",
    "y_train = dfCombined['label']\n",
    "\n",
    "#Splitting the data into training and testing data\n",
    "X_train, X_test, y_train, y_test = train_test_split(dfCombined.drop(['points', 'label',], axis=1), dfCombined['label'], test_size=0.33, random_state=42)\n",
    "\n",
    "\n"
   ]
  },
  {
   "cell_type": "code",
   "execution_count": 170,
   "metadata": {},
   "outputs": [],
   "source": [
    "#Training a decision tree classifier\n",
    "\n",
    "from sklearn.tree import DecisionTreeClassifier\n",
    "\n",
    "#Creating the classifier\n",
    "clf = DecisionTreeClassifier(random_state=0)\n",
    "\n",
    "#Training the classifier\n",
    "clf.fit(X_train, y_train)\n",
    "\n",
    "\n",
    "#Testing it\n",
    "y_pred = clf.predict(X_test)\n",
    "\n"
   ]
  },
  {
   "cell_type": "code",
   "execution_count": 192,
   "metadata": {},
   "outputs": [
    {
     "name": "stdout",
     "output_type": "stream",
     "text": [
      "Checking whether there is an H2O instance running at http://localhost:54321. connected.\n"
     ]
    },
    {
     "data": {
      "text/html": [
       "\n",
       "<style>\n",
       "\n",
       "#h2o-table-4.h2o-container {\n",
       "  overflow-x: auto;\n",
       "}\n",
       "#h2o-table-4 .h2o-table {\n",
       "  /* width: 100%; */\n",
       "  margin-top: 1em;\n",
       "  margin-bottom: 1em;\n",
       "}\n",
       "#h2o-table-4 .h2o-table caption {\n",
       "  white-space: nowrap;\n",
       "  caption-side: top;\n",
       "  text-align: left;\n",
       "  /* margin-left: 1em; */\n",
       "  margin: 0;\n",
       "  font-size: larger;\n",
       "}\n",
       "#h2o-table-4 .h2o-table thead {\n",
       "  white-space: nowrap; \n",
       "  position: sticky;\n",
       "  top: 0;\n",
       "  box-shadow: 0 -1px inset;\n",
       "}\n",
       "#h2o-table-4 .h2o-table tbody {\n",
       "  overflow: auto;\n",
       "}\n",
       "#h2o-table-4 .h2o-table th,\n",
       "#h2o-table-4 .h2o-table td {\n",
       "  text-align: right;\n",
       "  /* border: 1px solid; */\n",
       "}\n",
       "#h2o-table-4 .h2o-table tr:nth-child(even) {\n",
       "  /* background: #F5F5F5 */\n",
       "}\n",
       "\n",
       "</style>      \n",
       "<div id=\"h2o-table-4\" class=\"h2o-container\">\n",
       "  <table class=\"h2o-table\">\n",
       "    <caption></caption>\n",
       "    <thead></thead>\n",
       "    <tbody><tr><td>H2O_cluster_uptime:</td>\n",
       "<td>5 mins 56 secs</td></tr>\n",
       "<tr><td>H2O_cluster_timezone:</td>\n",
       "<td>Europe/Oslo</td></tr>\n",
       "<tr><td>H2O_data_parsing_timezone:</td>\n",
       "<td>UTC</td></tr>\n",
       "<tr><td>H2O_cluster_version:</td>\n",
       "<td>3.44.0.1</td></tr>\n",
       "<tr><td>H2O_cluster_version_age:</td>\n",
       "<td>21 days, 9 hours and 49 minutes</td></tr>\n",
       "<tr><td>H2O_cluster_name:</td>\n",
       "<td>H2O_from_python_Desas_kpwvn6</td></tr>\n",
       "<tr><td>H2O_cluster_total_nodes:</td>\n",
       "<td>1</td></tr>\n",
       "<tr><td>H2O_cluster_free_memory:</td>\n",
       "<td>7.971 Gb</td></tr>\n",
       "<tr><td>H2O_cluster_total_cores:</td>\n",
       "<td>8</td></tr>\n",
       "<tr><td>H2O_cluster_allowed_cores:</td>\n",
       "<td>8</td></tr>\n",
       "<tr><td>H2O_cluster_status:</td>\n",
       "<td>locked, healthy</td></tr>\n",
       "<tr><td>H2O_connection_url:</td>\n",
       "<td>http://localhost:54321</td></tr>\n",
       "<tr><td>H2O_connection_proxy:</td>\n",
       "<td>{\"http\": null, \"https\": null}</td></tr>\n",
       "<tr><td>H2O_internal_security:</td>\n",
       "<td>False</td></tr>\n",
       "<tr><td>Python_version:</td>\n",
       "<td>3.10.11 final</td></tr></tbody>\n",
       "  </table>\n",
       "</div>\n"
      ],
      "text/plain": [
       "--------------------------  -------------------------------\n",
       "H2O_cluster_uptime:         5 mins 56 secs\n",
       "H2O_cluster_timezone:       Europe/Oslo\n",
       "H2O_data_parsing_timezone:  UTC\n",
       "H2O_cluster_version:        3.44.0.1\n",
       "H2O_cluster_version_age:    21 days, 9 hours and 49 minutes\n",
       "H2O_cluster_name:           H2O_from_python_Desas_kpwvn6\n",
       "H2O_cluster_total_nodes:    1\n",
       "H2O_cluster_free_memory:    7.971 Gb\n",
       "H2O_cluster_total_cores:    8\n",
       "H2O_cluster_allowed_cores:  8\n",
       "H2O_cluster_status:         locked, healthy\n",
       "H2O_connection_url:         http://localhost:54321\n",
       "H2O_connection_proxy:       {\"http\": null, \"https\": null}\n",
       "H2O_internal_security:      False\n",
       "Python_version:             3.10.11 final\n",
       "--------------------------  -------------------------------"
      ]
     },
     "metadata": {},
     "output_type": "display_data"
    },
    {
     "name": "stdout",
     "output_type": "stream",
     "text": [
      "Parse progress: |████████████████████████████████████████████████████████████████| (done) 100%\n"
     ]
    },
    {
     "ename": "H2OTypeError",
     "evalue": "Argument `y` should be an integer | string, got Series 4385     0.0\n10152    2.0\n7988     2.0\n11999    2.0\n13249    2.0\n        ... \n5191     0.0\n13418    2.0\n5390     0.0\n860      1.0\n7270     0.0\nName: label, Length: 9294, dtype: float64",
     "output_type": "error",
     "traceback": [
      "\u001b[1;31m---------------------------------------------------------------------------\u001b[0m",
      "\u001b[1;31mH2OTypeError\u001b[0m                              Traceback (most recent call last)",
      "\u001b[1;32mc:\\Users\\Desas\\Documents\\Prosjekter\\3DM\\TBA4256\\FInal Project\\finalProject.ipynb Cell 20\u001b[0m line \u001b[0;36m1\n\u001b[0;32m     <a href='vscode-notebook-cell:/c%3A/Users/Desas/Documents/Prosjekter/3DM/TBA4256/FInal%20Project/finalProject.ipynb#Y131sZmlsZQ%3D%3D?line=12'>13</a>\u001b[0m \u001b[39m# Initialize and run AutoML\u001b[39;00m\n\u001b[0;32m     <a href='vscode-notebook-cell:/c%3A/Users/Desas/Documents/Prosjekter/3DM/TBA4256/FInal%20Project/finalProject.ipynb#Y131sZmlsZQ%3D%3D?line=13'>14</a>\u001b[0m aml \u001b[39m=\u001b[39m H2OAutoML(max_models\u001b[39m=\u001b[39m\u001b[39m10\u001b[39m, seed\u001b[39m=\u001b[39m\u001b[39m1\u001b[39m)  \u001b[39m# Adjust parameters as needed\u001b[39;00m\n\u001b[1;32m---> <a href='vscode-notebook-cell:/c%3A/Users/Desas/Documents/Prosjekter/3DM/TBA4256/FInal%20Project/finalProject.ipynb#Y131sZmlsZQ%3D%3D?line=14'>15</a>\u001b[0m aml\u001b[39m.\u001b[39;49mtrain(x\u001b[39m=\u001b[39;49mx, y\u001b[39m=\u001b[39;49my, training_frame\u001b[39m=\u001b[39;49mdata_h2o)\n",
      "File \u001b[1;32mc:\\Users\\Desas\\Documents\\Prosjekter\\3DM\\TBA4256\\venv\\lib\\site-packages\\h2o\\automl\\_estimator.py:624\u001b[0m, in \u001b[0;36mH2OAutoML.train\u001b[1;34m(self, x, y, training_frame, fold_column, weights_column, validation_frame, leaderboard_frame, blending_frame)\u001b[0m\n\u001b[0;32m    622\u001b[0m     \u001b[39mraise\u001b[39;00m H2OValueError(\u001b[39m'\u001b[39m\u001b[39mThe response column (y) is not set; please set it to the name of the column that you are trying to predict in your data.\u001b[39m\u001b[39m'\u001b[39m)\n\u001b[0;32m    623\u001b[0m \u001b[39melif\u001b[39;00m y \u001b[39mis\u001b[39;00m \u001b[39mnot\u001b[39;00m \u001b[39mNone\u001b[39;00m:\n\u001b[1;32m--> 624\u001b[0m     assert_is_type(y, \u001b[39mint\u001b[39;49m, \u001b[39mstr\u001b[39;49m)\n\u001b[0;32m    625\u001b[0m     \u001b[39mif\u001b[39;00m is_type(y, \u001b[39mint\u001b[39m):\n\u001b[0;32m    626\u001b[0m         \u001b[39mif\u001b[39;00m \u001b[39mnot\u001b[39;00m (\u001b[39m-\u001b[39mncols \u001b[39m<\u001b[39m\u001b[39m=\u001b[39m y \u001b[39m<\u001b[39m ncols):\n",
      "File \u001b[1;32mc:\\Users\\Desas\\Documents\\Prosjekter\\3DM\\TBA4256\\venv\\lib\\site-packages\\h2o\\utils\\typechecks.py:444\u001b[0m, in \u001b[0;36massert_is_type\u001b[1;34m(var, *types, **kwargs)\u001b[0m\n\u001b[0;32m    442\u001b[0m etn \u001b[39m=\u001b[39m _get_type_name(expected_type, dump\u001b[39m=\u001b[39m\u001b[39m\"\u001b[39m\u001b[39m, \u001b[39m\u001b[39m\"\u001b[39m\u001b[39m.\u001b[39mjoin(args[\u001b[39m1\u001b[39m:]))\n\u001b[0;32m    443\u001b[0m vtn \u001b[39m=\u001b[39m _get_type_name(\u001b[39mtype\u001b[39m(var))\n\u001b[1;32m--> 444\u001b[0m \u001b[39mraise\u001b[39;00m H2OTypeError(var_name\u001b[39m=\u001b[39mvname, var_value\u001b[39m=\u001b[39mvar, var_type_name\u001b[39m=\u001b[39mvtn, exp_type_name\u001b[39m=\u001b[39metn, message\u001b[39m=\u001b[39mmessage,\n\u001b[0;32m    445\u001b[0m                    skip_frames\u001b[39m=\u001b[39mskip_frames)\n",
      "\u001b[1;31mH2OTypeError\u001b[0m: Argument `y` should be an integer | string, got Series 4385     0.0\n10152    2.0\n7988     2.0\n11999    2.0\n13249    2.0\n        ... \n5191     0.0\n13418    2.0\n5390     0.0\n860      1.0\n7270     0.0\nName: label, Length: 9294, dtype: float64"
     ]
    }
   ],
   "source": [
    "#Going to try autoML to see if it can find a better model\n",
    "\n",
    "\n"
   ]
  },
  {
   "cell_type": "code",
   "execution_count": 173,
   "metadata": {},
   "outputs": [
    {
     "name": "stdout",
     "output_type": "stream",
     "text": [
      "0.7088779956427015\n",
      "[0.04876524 0.12110519 0.05127057 0.07311599 0.07423414 0.29995318\n",
      " 0.06801709 0.09280551 0.17073309]\n"
     ]
    }
   ],
   "source": [
    "#Testing the accuracy of the classifier\n",
    "\n",
    "from sklearn.metrics import accuracy_score\n",
    "print(accuracy_score(y_test, y_pred))\n",
    "\n",
    "feature_importances = clf.feature_importances_\n",
    "print(feature_importances)\n",
    "\n"
   ]
  },
  {
   "cell_type": "code",
   "execution_count": 174,
   "metadata": {},
   "outputs": [],
   "source": [
    "#Now actually testing it on the point cloud\n",
    "\n",
    "#We already have the dataframe for the entire point cloud, so we can just use that\n",
    "#We need to drop the points column and the label column\n",
    "X_cloud = df.drop(['points', 'label'], axis=1)\n",
    "\n",
    "#Predicting the labels for the point cloud\n",
    "y_cloud_pred = clf.predict(X_cloud)\n",
    "\n",
    "#Adding the labels to the dataframe\n",
    "df['label'] = y_cloud_pred"
   ]
  },
  {
   "cell_type": "code",
   "execution_count": 175,
   "metadata": {},
   "outputs": [
    {
     "data": {
      "text/html": [
       "<div>\n",
       "<style scoped>\n",
       "    .dataframe tbody tr th:only-of-type {\n",
       "        vertical-align: middle;\n",
       "    }\n",
       "\n",
       "    .dataframe tbody tr th {\n",
       "        vertical-align: top;\n",
       "    }\n",
       "\n",
       "    .dataframe thead th {\n",
       "        text-align: right;\n",
       "    }\n",
       "</style>\n",
       "<table border=\"1\" class=\"dataframe\">\n",
       "  <thead>\n",
       "    <tr style=\"text-align: right;\">\n",
       "      <th></th>\n",
       "      <th>points</th>\n",
       "      <th>linearity</th>\n",
       "      <th>planarity</th>\n",
       "      <th>scattering</th>\n",
       "      <th>omnivariance</th>\n",
       "      <th>sum_eigenvalues</th>\n",
       "      <th>anisotropy</th>\n",
       "      <th>eigentropy</th>\n",
       "      <th>change_of_curvature</th>\n",
       "      <th>z_range</th>\n",
       "      <th>label</th>\n",
       "    </tr>\n",
       "  </thead>\n",
       "  <tbody>\n",
       "    <tr>\n",
       "      <th>0</th>\n",
       "      <td>[[570149.970001, 7034352.429993, 4.96], [57015...</td>\n",
       "      <td>0.439892</td>\n",
       "      <td>0.085995</td>\n",
       "      <td>0.474113</td>\n",
       "      <td>0.581093</td>\n",
       "      <td>1.839046</td>\n",
       "      <td>0.525887</td>\n",
       "      <td>0.798887</td>\n",
       "      <td>0.233069</td>\n",
       "      <td>2.760000</td>\n",
       "      <td>0.0</td>\n",
       "    </tr>\n",
       "    <tr>\n",
       "      <th>1</th>\n",
       "      <td>[[570268.780029, 7034220.920013, 27.32], [5702...</td>\n",
       "      <td>0.429511</td>\n",
       "      <td>0.557233</td>\n",
       "      <td>0.013256</td>\n",
       "      <td>0.167289</td>\n",
       "      <td>1.349800</td>\n",
       "      <td>0.986744</td>\n",
       "      <td>0.537485</td>\n",
       "      <td>0.008370</td>\n",
       "      <td>0.490000</td>\n",
       "      <td>2.0</td>\n",
       "    </tr>\n",
       "    <tr>\n",
       "      <th>2</th>\n",
       "      <td>[[570331.419983, 7034335.01001, 20.65], [57033...</td>\n",
       "      <td>0.164252</td>\n",
       "      <td>0.835163</td>\n",
       "      <td>0.000585</td>\n",
       "      <td>0.064187</td>\n",
       "      <td>1.496035</td>\n",
       "      <td>0.999415</td>\n",
       "      <td>0.432333</td>\n",
       "      <td>0.000319</td>\n",
       "      <td>0.530001</td>\n",
       "      <td>2.0</td>\n",
       "    </tr>\n",
       "    <tr>\n",
       "      <th>3</th>\n",
       "      <td>[[570203.660004, 7034216.220001, 24.42], [5702...</td>\n",
       "      <td>0.705547</td>\n",
       "      <td>0.261180</td>\n",
       "      <td>0.033273</td>\n",
       "      <td>0.208933</td>\n",
       "      <td>1.296424</td>\n",
       "      <td>0.966727</td>\n",
       "      <td>0.493010</td>\n",
       "      <td>0.025060</td>\n",
       "      <td>1.090000</td>\n",
       "      <td>0.0</td>\n",
       "    </tr>\n",
       "    <tr>\n",
       "      <th>4</th>\n",
       "      <td>[[570257.23999, 7034343.890015, 16.940001], [5...</td>\n",
       "      <td>0.501917</td>\n",
       "      <td>0.370362</td>\n",
       "      <td>0.127722</td>\n",
       "      <td>0.107745</td>\n",
       "      <td>0.438810</td>\n",
       "      <td>0.872278</td>\n",
       "      <td>0.739346</td>\n",
       "      <td>0.078559</td>\n",
       "      <td>1.390000</td>\n",
       "      <td>0.0</td>\n",
       "    </tr>\n",
       "    <tr>\n",
       "      <th>...</th>\n",
       "      <td>...</td>\n",
       "      <td>...</td>\n",
       "      <td>...</td>\n",
       "      <td>...</td>\n",
       "      <td>...</td>\n",
       "      <td>...</td>\n",
       "      <td>...</td>\n",
       "      <td>...</td>\n",
       "      <td>...</td>\n",
       "      <td>...</td>\n",
       "      <td>...</td>\n",
       "    </tr>\n",
       "    <tr>\n",
       "      <th>29523</th>\n",
       "      <td>[[570216.380005, 7034328.049988, 18.780001]]</td>\n",
       "      <td>0.000000</td>\n",
       "      <td>0.000000</td>\n",
       "      <td>0.000000</td>\n",
       "      <td>0.000000</td>\n",
       "      <td>0.000000</td>\n",
       "      <td>0.000000</td>\n",
       "      <td>0.000000</td>\n",
       "      <td>0.000000</td>\n",
       "      <td>0.000000</td>\n",
       "      <td>0.0</td>\n",
       "    </tr>\n",
       "    <tr>\n",
       "      <th>29524</th>\n",
       "      <td>[[570223.340027, 7034311.540009, 12.65], [5702...</td>\n",
       "      <td>0.000000</td>\n",
       "      <td>0.000000</td>\n",
       "      <td>0.000000</td>\n",
       "      <td>0.000000</td>\n",
       "      <td>0.000000</td>\n",
       "      <td>0.000000</td>\n",
       "      <td>0.000000</td>\n",
       "      <td>0.000000</td>\n",
       "      <td>0.000000</td>\n",
       "      <td>0.0</td>\n",
       "    </tr>\n",
       "    <tr>\n",
       "      <th>29525</th>\n",
       "      <td>[[570203.959991, 7034358.919983, 6.68]]</td>\n",
       "      <td>0.000000</td>\n",
       "      <td>0.000000</td>\n",
       "      <td>0.000000</td>\n",
       "      <td>0.000000</td>\n",
       "      <td>0.000000</td>\n",
       "      <td>0.000000</td>\n",
       "      <td>0.000000</td>\n",
       "      <td>0.000000</td>\n",
       "      <td>0.000000</td>\n",
       "      <td>0.0</td>\n",
       "    </tr>\n",
       "    <tr>\n",
       "      <th>29526</th>\n",
       "      <td>[[570234.849976, 7034343.909973, 17.35], [5702...</td>\n",
       "      <td>0.000000</td>\n",
       "      <td>0.000000</td>\n",
       "      <td>0.000000</td>\n",
       "      <td>0.000000</td>\n",
       "      <td>0.000000</td>\n",
       "      <td>0.000000</td>\n",
       "      <td>0.000000</td>\n",
       "      <td>0.000000</td>\n",
       "      <td>0.000000</td>\n",
       "      <td>0.0</td>\n",
       "    </tr>\n",
       "    <tr>\n",
       "      <th>29527</th>\n",
       "      <td>[[570240.359985, 7034347.150024, 13.49], [5702...</td>\n",
       "      <td>0.000000</td>\n",
       "      <td>0.000000</td>\n",
       "      <td>0.000000</td>\n",
       "      <td>0.000000</td>\n",
       "      <td>0.000000</td>\n",
       "      <td>0.000000</td>\n",
       "      <td>0.000000</td>\n",
       "      <td>0.000000</td>\n",
       "      <td>0.000000</td>\n",
       "      <td>0.0</td>\n",
       "    </tr>\n",
       "  </tbody>\n",
       "</table>\n",
       "<p>29528 rows × 11 columns</p>\n",
       "</div>"
      ],
      "text/plain": [
       "                                                  points  linearity  \\\n",
       "0      [[570149.970001, 7034352.429993, 4.96], [57015...   0.439892   \n",
       "1      [[570268.780029, 7034220.920013, 27.32], [5702...   0.429511   \n",
       "2      [[570331.419983, 7034335.01001, 20.65], [57033...   0.164252   \n",
       "3      [[570203.660004, 7034216.220001, 24.42], [5702...   0.705547   \n",
       "4      [[570257.23999, 7034343.890015, 16.940001], [5...   0.501917   \n",
       "...                                                  ...        ...   \n",
       "29523       [[570216.380005, 7034328.049988, 18.780001]]   0.000000   \n",
       "29524  [[570223.340027, 7034311.540009, 12.65], [5702...   0.000000   \n",
       "29525            [[570203.959991, 7034358.919983, 6.68]]   0.000000   \n",
       "29526  [[570234.849976, 7034343.909973, 17.35], [5702...   0.000000   \n",
       "29527  [[570240.359985, 7034347.150024, 13.49], [5702...   0.000000   \n",
       "\n",
       "       planarity  scattering  omnivariance  sum_eigenvalues  anisotropy  \\\n",
       "0       0.085995    0.474113      0.581093         1.839046    0.525887   \n",
       "1       0.557233    0.013256      0.167289         1.349800    0.986744   \n",
       "2       0.835163    0.000585      0.064187         1.496035    0.999415   \n",
       "3       0.261180    0.033273      0.208933         1.296424    0.966727   \n",
       "4       0.370362    0.127722      0.107745         0.438810    0.872278   \n",
       "...          ...         ...           ...              ...         ...   \n",
       "29523   0.000000    0.000000      0.000000         0.000000    0.000000   \n",
       "29524   0.000000    0.000000      0.000000         0.000000    0.000000   \n",
       "29525   0.000000    0.000000      0.000000         0.000000    0.000000   \n",
       "29526   0.000000    0.000000      0.000000         0.000000    0.000000   \n",
       "29527   0.000000    0.000000      0.000000         0.000000    0.000000   \n",
       "\n",
       "       eigentropy  change_of_curvature   z_range  label  \n",
       "0        0.798887             0.233069  2.760000    0.0  \n",
       "1        0.537485             0.008370  0.490000    2.0  \n",
       "2        0.432333             0.000319  0.530001    2.0  \n",
       "3        0.493010             0.025060  1.090000    0.0  \n",
       "4        0.739346             0.078559  1.390000    0.0  \n",
       "...           ...                  ...       ...    ...  \n",
       "29523    0.000000             0.000000  0.000000    0.0  \n",
       "29524    0.000000             0.000000  0.000000    0.0  \n",
       "29525    0.000000             0.000000  0.000000    0.0  \n",
       "29526    0.000000             0.000000  0.000000    0.0  \n",
       "29527    0.000000             0.000000  0.000000    0.0  \n",
       "\n",
       "[29528 rows x 11 columns]"
      ]
     },
     "execution_count": 175,
     "metadata": {},
     "output_type": "execute_result"
    }
   ],
   "source": [
    "df"
   ]
  },
  {
   "cell_type": "code",
   "execution_count": 176,
   "metadata": {},
   "outputs": [],
   "source": [
    "#Now we need to extract the points from the trees and houses\n",
    "\n",
    "#Making a dataframe for trees and houses\n",
    "dfTrees = df[df['label'] == 0]\n",
    "dfHouses = df[df['label'] == 1]\n",
    "dfTerrain = df[df['label'] == 2]\n",
    "\n",
    "#Extracting the point-clusters from the trees\n",
    "treeClusters= dfTrees['points']\n",
    "houseClusters = dfHouses['points']\n",
    "terrainClusters = dfTerrain['points']\n",
    "\n",
    "classifiedTreeCloud = o3d.geometry.PointCloud()\n",
    "classifiedHouseCloud = o3d.geometry.PointCloud()\n",
    "classifiedTerrainCloud = o3d.geometry.PointCloud()\n",
    "\n",
    "#Painting them\n",
    "\n",
    "#Trees get green\n",
    "for cluster in treeClusters:\n",
    "    cld = o3d.geometry.PointCloud(cluster)\n",
    "    cld.paint_uniform_color([0, 1, 0])  \n",
    "    classifiedTreeCloud += cld\n",
    "\n",
    "#Houses get red\n",
    "for cluster in houseClusters:\n",
    "    cld = o3d.geometry.PointCloud(cluster)\n",
    "    cld.paint_uniform_color([1, 0, 0])  \n",
    "    classifiedHouseCloud += cld\n",
    "    \n",
    "#Terrain gets yellow\n",
    "for cluster in terrainClusters:\n",
    "    cld = o3d.geometry.PointCloud(cluster)\n",
    "    cld.paint_uniform_color([1, 1, 0])\n",
    "    classifiedTerrainCloud += cld\n"
   ]
  },
  {
   "cell_type": "code",
   "execution_count": 178,
   "metadata": {},
   "outputs": [],
   "source": [
    "o3d.visualization.draw_geometries([classifiedHouseCloud, classifiedTreeCloud, classifiedTerrainCloud])"
   ]
  }
 ],
 "metadata": {
  "kernelspec": {
   "display_name": "venv",
   "language": "python",
   "name": "python3"
  },
  "language_info": {
   "codemirror_mode": {
    "name": "ipython",
    "version": 3
   },
   "file_extension": ".py",
   "mimetype": "text/x-python",
   "name": "python",
   "nbconvert_exporter": "python",
   "pygments_lexer": "ipython3",
   "version": "3.10.11"
  }
 },
 "nbformat": 4,
 "nbformat_minor": 2
}
