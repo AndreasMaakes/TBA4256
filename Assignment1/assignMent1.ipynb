{
 "cells": [
  {
   "cell_type": "code",
   "execution_count": 155,
   "metadata": {},
   "outputs": [
    {
     "name": "stdout",
     "output_type": "stream",
     "text": [
      "Number of points before downsampling:  2016548\n"
     ]
    }
   ],
   "source": [
    "#imports and reading the point cloud\n",
    "\n",
    "import laspy as las \n",
    "import open3d as o3d\n",
    "import numpy as np\n",
    "import matplotlib.pyplot as plt\n",
    "import os\n",
    "\n",
    "pcd = o3d.io.read_point_cloud(os.path.join(os.getcwd(), \"data\", \"pcd.ply\"))\n",
    "num = len(pcd.points)\n",
    "print(\"Number of points before downsampling: \", num)\n",
    "o3d.visualization.draw_geometries([pcd])\n",
    "\n",
    "\n",
    "\n",
    "\n",
    "\n"
   ]
  },
  {
   "cell_type": "code",
   "execution_count": 327,
   "metadata": {},
   "outputs": [
    {
     "name": "stdout",
     "output_type": "stream",
     "text": [
      "Number of points after downsampling:  367663\n",
      "-116249.0506329114 % less points\n"
     ]
    }
   ],
   "source": [
    "#downsample cloud\n",
    "\n",
    "downpcd = pcd.voxel_down_sample(voxel_size=0.5) #voxel size 0.5 (0.15 also works)\n",
    "num2 = len(downpcd.points)\n",
    "print(\"Number of points after downsampling: \", num2)\n",
    "print(100-(num2/num * 100),\"% less points\")\n",
    "o3d.visualization.draw_geometries([downpcd])"
   ]
  },
  {
   "cell_type": "code",
   "execution_count": 328,
   "metadata": {},
   "outputs": [
    {
     "name": "stdout",
     "output_type": "stream",
     "text": [
      "Number of points removed:  7179\n",
      "1.9526033351193917 % less points\n",
      "Number of points left:  360484\n"
     ]
    }
   ],
   "source": [
    "#statistical outlier removal\n",
    "\n",
    "finalCloud, ind = downpcd.remove_statistical_outlier(nb_neighbors=20, std_ratio=2)\n",
    "\n",
    "num3 = len(finalCloud.points)\n",
    "print(\"Number of points removed: \", num2-num3)\n",
    "print(100-(num3/num2 * 100),\"% less points\")\n",
    "print(\"Number of points left: \", num3) \n",
    "\n",
    "o3d.visualization.draw_geometries([finalCloud])"
   ]
  },
  {
   "cell_type": "code",
   "execution_count": 329,
   "metadata": {},
   "outputs": [
    {
     "name": "stdout",
     "output_type": "stream",
     "text": [
      "[Open3D DEBUG] Precompute neighbors.\n",
      "[Open3D DEBUG] Done Precompute neighbors.\n",
      "[Open3D DEBUG] Compute Clusters\n",
      "[Open3D DEBUG] Done Compute Clusters: 756\n",
      "point cloud has 756 clusters\n"
     ]
    }
   ],
   "source": [
    "#clustering\n",
    "\n",
    "with o3d.utility.VerbosityContextManager(o3d.utility.VerbosityLevel.Debug) as cm:\n",
    "    labels = np.array(finalCloud.cluster_dbscan(eps=1.3, min_points=20, print_progress=True)) #eps = 1.5, min_points = 20 worked best\n",
    "\n",
    "max_label = labels.max()\n",
    "print(f\"point cloud has {max_label + 1} clusters\")\n",
    "\n",
    "#colors = plt.get_cmap(\"tab20\")(labels / (max_label if max_label > 0 else 1))\n",
    "#colors[labels < 0] = 0\n",
    "#finalCloud.colors = o3d.utility.Vector3dVector(colors[:, :3]) #Paint point cloud with cluster colors\n",
    "\n",
    "o3d.visualization.draw_geometries([finalCloud])"
   ]
  },
  {
   "cell_type": "code",
   "execution_count": 324,
   "metadata": {},
   "outputs": [
    {
     "name": "stdout",
     "output_type": "stream",
     "text": [
      "[Open3D WARNING] GLFW Error: WGL: Failed to make context current: Ugyldig referanse. \n",
      "[Open3D WARNING] GLFW Error: WGL: Failed to make context current: Forespurt transformeringsoperasjon er ikke støttet. \n"
     ]
    }
   ],
   "source": [
    "o3d.visualization.draw_geometries([finalCloud])"
   ]
  },
  {
   "cell_type": "code",
   "execution_count": 279,
   "metadata": {},
   "outputs": [],
   "source": [
    "#After the clusters are made, you can use this code to get the individual point clouds into a seperate array\n",
    "individual_point_clouds = []\n",
    "\n",
    "for cluster_label in range(max_label + 1):\n",
    "    \n",
    "    cluster_indices = np.where(labels == cluster_label)[0]\n",
    "\n",
    "    cluster_points = finalCloud.select_by_index(cluster_indices)\n",
    "\n",
    "    individual_point_clouds.append(cluster_points)\n",
    "\n",
    "    del(cluster_points)\n",
    "    del(cluster_indices)"
   ]
  },
  {
   "cell_type": "code",
   "execution_count": 275,
   "metadata": {},
   "outputs": [
    {
     "name": "stdout",
     "output_type": "stream",
     "text": [
      "PointCloud with 56 points.\n"
     ]
    }
   ],
   "source": [
    "#This bit of code takes the first (index 0) point cloud from the array and displays it (If you want)\n",
    "\n",
    "num = np.random.randint(689)\n",
    "\n",
    "firstCld = individual_point_clouds[num]\n",
    "\n",
    "firstCld = o3d.geometry.PointCloud(firstCld) #This actually creates the point cloud from the data in the array\n",
    "o3d.visualization.draw_geometries([firstCld])\n",
    "\n",
    "print(firstCld)\n"
   ]
  },
  {
   "cell_type": "code",
   "execution_count": 335,
   "metadata": {},
   "outputs": [],
   "source": [
    "#Plane estimation using RANSAC on each element in the list of point clouds (The one that works)\n",
    "\n",
    "roof_cloud = o3d.geometry.PointCloud() #Creating an empty point cloud to store all the inliers (roofs)\n",
    "leftover_cloud = o3d.geometry.PointCloud() \n",
    "counter = 0\n",
    "\n",
    "\n",
    "for i in individual_point_clouds:\n",
    "    num_points = len(np.asarray(i.points))\n",
    "\n",
    "    if num_points < 500: #Choosing an arbitrary number of points to filter out small clusters\n",
    "        continue\n",
    "\n",
    "    counter += 1\n",
    "\n",
    "    plane_model, inliers = i.segment_plane(distance_threshold=0.1, ransac_n=3, num_iterations=2000)\n",
    "    roofs.append(inliers)\n",
    "    [a,b,c,d] = plane_model\n",
    "    inlier_cloud = i.select_by_index(inliers)\n",
    "    \n",
    "    \n",
    "    inlier_cloud.paint_uniform_color([1.0, 0, 0]) #Paint the inliers red so we can see them easier\n",
    "    \n",
    "\n",
    "    #Trying to run RANSAC again on the outlier in the same for loop\n",
    "    outlier_cloud = i.select_by_index(inliers, invert = True)\n",
    "    plane_model2, inliers2 = outlier_cloud.segment_plane(distance_threshold=0.1, ransac_n=3, num_iterations=2000) #(distance_threshold=0.1, ransac_n=4, num_iterations=2000)\n",
    "    [a,b,c,d] = plane_model2\n",
    "    inlier_cloud2 = outlier_cloud.select_by_index(inliers2)\n",
    "    inlier_cloud2.paint_uniform_color([0, 0, 1]) #Paint the inliers blue so we can see them easier\n",
    "\n",
    "\n",
    "\n",
    "    #This part of the code combines the inlier_cloud with the empty roof cloud, creating a big cloud with all inliers\n",
    "    inlier_cloud_load = np.asarray(inlier_cloud.points) #load points\n",
    "    inlier_cloud_colors_load = np.asarray(inlier_cloud.colors) #load colors\n",
    "\n",
    "    new_points = np.concatenate((np.asarray(roof_cloud.points), inlier_cloud_load), axis=0)\n",
    "    new_colors = np.concatenate((np.asarray(roof_cloud.colors), inlier_cloud_colors_load), axis=0)\n",
    "\n",
    "\n",
    "    roof_cloud.points = o3d.utility.Vector3dVector(new_points)\n",
    "    roof_cloud.colors = o3d.utility.Vector3dVector(new_colors)   \n",
    "    \n",
    "\n",
    "    #This part of the code creates another cloud for the second ransac\n",
    "\n",
    "    inlier_cloud_load2 = np.asarray(inlier_cloud2.points) #load points\n",
    "    inlier_cloud_colors_load2 = np.asarray(inlier_cloud2.colors) #load colors\n",
    "\n",
    "    new_points2 = np.concatenate((np.asarray(leftover_cloud.points), inlier_cloud_load2), axis=0)\n",
    "    new_colors2 = np.concatenate((np.asarray(leftover_cloud.colors), inlier_cloud_colors_load2), axis=0)\n",
    "\n",
    "    leftover_cloud.points = o3d.utility.Vector3dVector(new_points2)\n",
    "    leftover_cloud.colors = o3d.utility.Vector3dVector(new_colors2)\n",
    "\n",
    "    \n",
    "\n",
    "    \n",
    "\n",
    "\n",
    "\n"
   ]
  },
  {
   "cell_type": "code",
   "execution_count": 336,
   "metadata": {},
   "outputs": [
    {
     "name": "stdout",
     "output_type": "stream",
     "text": [
      "[Open3D WARNING] GLFW Error: WGL: Failed to make context current: Ugyldig referanse. \n",
      "[Open3D WARNING] GLFW Error: WGL: Failed to make context current: Ugyldig referanse. \n",
      "[Open3D WARNING] GLFW Error: WGL: Failed to make context current: Forespurt transformeringsoperasjon er ikke støttet. \n",
      "[Open3D WARNING] GLFW Error: WGL: Failed to make context current: Ugyldig referanse. \n",
      "[Open3D WARNING] [ViewControl] SetViewPoint() failed because window height and width are not set.\n",
      "[Open3D WARNING] [ViewControl] SetViewPoint() failed because window height and width are not set.\n",
      "[Open3D WARNING] GLFW Error: WGL: Failed to make context current: Ugyldig referanse. \n",
      "[Open3D WARNING] GLFW Error: WGL: Failed to make context current: Forespurt transformeringsoperasjon er ikke støttet. \n",
      "[Open3D WARNING] GLFW Error: WGL: Failed to make context current: Forespurt transformeringsoperasjon er ikke støttet. \n",
      "[Open3D WARNING] GLFW Error: WGL: Failed to make context current: Ugyldig referanse. \n",
      "[Open3D WARNING] GLFW Error: WGL: Failed to make context current: Ugyldig referanse. \n",
      "[Open3D WARNING] GLFW Error: WGL: Failed to make context current: Forespurt transformeringsoperasjon er ikke støttet. \n",
      "[Open3D WARNING] GLFW Error: WGL: Failed to make context current: Ugyldig referanse. \n",
      "[Open3D WARNING] GLFW Error: WGL: Failed to make context current: Forespurt transformeringsoperasjon er ikke støttet. \n",
      "[Open3D WARNING] GLFW Error: WGL: Failed to make context current: Ugyldig referanse. \n",
      "[Open3D WARNING] GLFW Error: WGL: Failed to make context current: Ugyldig referanse. \n",
      "[Open3D WARNING] GLFW Error: WGL: Failed to make context current: Ugyldig referanse. \n",
      "[Open3D WARNING] GLFW Error: WGL: Failed to make context current: Ugyldig referanse. \n",
      "[Open3D WARNING] GLFW Error: WGL: Failed to make context current: Ugyldig referanse. \n",
      "[Open3D WARNING] GLFW Error: WGL: Failed to make context current: Forespurt transformeringsoperasjon er ikke støttet. \n",
      "[Open3D WARNING] GLFW Error: WGL: Failed to make context current: Ugyldig referanse. \n",
      "[Open3D WARNING] [ViewControl] SetViewPoint() failed because window height and width are not set.\n",
      "[Open3D WARNING] GLFW Error: WGL: Failed to make context current: Ugyldig referanse. \n",
      "[Open3D WARNING] GLFW Error: WGL: Failed to make context current: Forespurt transformeringsoperasjon er ikke støttet. \n",
      "[Open3D WARNING] GLFW Error: WGL: Failed to make context current: Ugyldig referanse. \n",
      "[Open3D WARNING] [ViewControl] SetViewPoint() failed because window height and width are not set.\n",
      "[Open3D WARNING] GLFW Error: WGL: Failed to make context current: Ugyldig referanse. \n",
      "[Open3D WARNING] GLFW Error: WGL: Failed to make context current: Ugyldig referanse. \n",
      "[Open3D WARNING] GLFW Error: WGL: Failed to make context current: Forespurt transformeringsoperasjon er ikke støttet. \n",
      "[Open3D WARNING] GLFW Error: WGL: Failed to make context current: Forespurt transformeringsoperasjon er ikke støttet. \n",
      "[Open3D WARNING] GLFW Error: WGL: Failed to make context current: Forespurt transformeringsoperasjon er ikke støttet. \n",
      "[Open3D WARNING] GLFW Error: WGL: Failed to make context current: Ugyldig referanse. \n",
      "[Open3D WARNING] GLFW Error: WGL: Failed to make context current: Ugyldig referanse. \n",
      "[Open3D WARNING] GLFW Error: WGL: Failed to make context current: Forespurt transformeringsoperasjon er ikke støttet. \n",
      "[Open3D WARNING] GLFW Error: WGL: Failed to make context current: Forespurt transformeringsoperasjon er ikke støttet. \n",
      "[Open3D WARNING] GLFW Error: WGL: Failed to make context current: Forespurt transformeringsoperasjon er ikke støttet. \n",
      "[Open3D WARNING] GLFW Error: WGL: Failed to make context current: Ugyldig referanse. \n",
      "[Open3D WARNING] GLFW Error: WGL: Failed to make context current: Ugyldig referanse. \n",
      "[Open3D WARNING] GLFW Error: WGL: Failed to make context current: Ugyldig referanse. \n",
      "[Open3D WARNING] [ViewControl] SetViewPoint() failed because window height and width are not set.\n",
      "Number of clusters with more than 500 points:  82\n"
     ]
    }
   ],
   "source": [
    "o3d.visualization.draw_geometries([leftover_cloud, roof_cloud, finalCloud])\n",
    "print(\"Number of clusters with more than 500 points: \", counter)\n"
   ]
  },
  {
   "cell_type": "code",
   "execution_count": 24,
   "metadata": {},
   "outputs": [],
   "source": [
    "#Plane estimation using RANSAC on each element in the list of point clouds\n",
    "\n",
    "roof_cloud = o3d.geometry.PointCloud() #Creating an empty point cloud to store all the inliers (roofs)\n",
    "leftover_cloud = o3d.geometry.PointCloud() \n",
    "counter = 0\n",
    "\n",
    "\n",
    "for i in individual_point_clouds:\n",
    "    num_points = len(np.asarray(i.points))\n",
    "\n",
    "    if num_points < 1000: #Choosing an arbitrary number of points to filter out small clusters\n",
    "        continue\n",
    "    counter += 1\n",
    "\n",
    "    \n",
    "    plane_model, inliers = i.segment_plane(distance_threshold=0.1, ransac_n=4, num_iterations=2000)\n",
    "    [a,b,c,d] = plane_model\n",
    "    inlier_cloud = i.select_by_index(inliers)\n",
    "    \n",
    "    inlier_cloud.paint_uniform_color([1.0, 0, 0]) #Paint the inliers red so we can see them easier\n",
    "    \n",
    "\n",
    "    #Trying to run RANSAC again on the outlier in the same for loop\n",
    "    outlier_cloud = i.select_by_index(inliers, invert = True)\n",
    "    plane_model2, inliers2 = outlier_cloud.segment_plane(distance_threshold=0.1, ransac_n=4, num_iterations=2000)\n",
    "    [a,b,c,d] = plane_model2\n",
    "    inlier_cloud2 = outlier_cloud.select_by_index(inliers2)\n",
    "    inlier_cloud2.paint_uniform_color([0, 0, 1]) #Paint the inliers blue so we can see them easier\n",
    "\n",
    "\n",
    "\n",
    "    #This part of the code combines the inlier_cloud with the empty roof cloud, creating a big cloud with all inliers\n",
    "    inlier_cloud_load = np.asarray(inlier_cloud.points) #load points\n",
    "    inlier_cloud_colors_load = np.asarray(inlier_cloud.colors) #load colors\n",
    "\n",
    "    new_points = np.concatenate((np.asarray(roof_cloud.points), inlier_cloud_load), axis=0)\n",
    "    new_colors = np.concatenate((np.asarray(roof_cloud.colors), inlier_cloud_colors_load), axis=0)\n",
    "\n",
    "\n",
    "    roof_cloud.points = o3d.utility.Vector3dVector(new_points)\n",
    "    roof_cloud.colors = o3d.utility.Vector3dVector(new_colors)   \n",
    "    \n",
    "\n",
    "\n",
    "\n",
    "    inlier_cloud_load2 = np.asarray(inlier_cloud2.points) #load points\n",
    "    inlier_cloud_colors_load2 = np.asarray(inlier_cloud2.colors) #load colors\n",
    "\n",
    "    new_points2 = np.concatenate((np.asarray(leftover_cloud.points), inlier_cloud_load2), axis=0)\n",
    "    new_colors2 = np.concatenate((np.asarray(leftover_cloud.colors), inlier_cloud_colors_load2), axis=0)\n",
    "\n",
    "    leftover_cloud.points = o3d.utility.Vector3dVector(new_points2)\n",
    "    leftover_cloud.colors = o3d.utility.Vector3dVector(new_colors2)\n",
    "\n",
    "    \n",
    "\n",
    "    \n",
    "\n",
    "\n",
    "\n"
   ]
  }
 ],
 "metadata": {
  "kernelspec": {
   "display_name": "venv",
   "language": "python",
   "name": "python3"
  },
  "language_info": {
   "codemirror_mode": {
    "name": "ipython",
    "version": 3
   },
   "file_extension": ".py",
   "mimetype": "text/x-python",
   "name": "python",
   "nbconvert_exporter": "python",
   "pygments_lexer": "ipython3",
   "version": "3.10.11"
  },
  "orig_nbformat": 4
 },
 "nbformat": 4,
 "nbformat_minor": 2
}
