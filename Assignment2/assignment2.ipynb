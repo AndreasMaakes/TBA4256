{
 "cells": [
  {
   "cell_type": "code",
   "execution_count": 1,
   "metadata": {},
   "outputs": [
    {
     "name": "stdout",
     "output_type": "stream",
     "text": [
      "Jupyter environment detected. Enabling Open3D WebVisualizer.\n",
      "[Open3D INFO] WebRTC GUI backend enabled.\n",
      "[Open3D INFO] WebRTCWindowSystem: HTTP handshake server disabled.\n",
      "Number of points before downsampling:  18914399\n"
     ]
    }
   ],
   "source": [
    "#Import necessary packages, load the point cloud\n",
    "\n",
    "import open3d as o3d\n",
    "import numpy as np\n",
    "import matplotlib.pyplot as plt\n",
    "import os\n",
    "\n",
    "pcd = o3d.io.read_point_cloud(os.path.join(os.getcwd(), \"data\", \"pcd.ply\"))\n",
    "num = len(pcd.points)\n",
    "print(\"Number of points before downsampling: \", num)\n",
    "\n"
   ]
  },
  {
   "cell_type": "code",
   "execution_count": 3,
   "metadata": {},
   "outputs": [
    {
     "name": "stdout",
     "output_type": "stream",
     "text": [
      "Number of points after downsampling:  1866953\n",
      "Reduced the amount of points by :  90.12946168683446 %\n"
     ]
    }
   ],
   "source": [
    "#Downsample the pointcloud to make it easier to work with\n",
    "\n",
    "pcd_downsampled = pcd.voxel_down_sample(voxel_size=0.15)\n",
    "print(\"Number of points after downsampling: \", len(pcd_downsampled.points))\n",
    "print(\"Reduced the amount of points by : \", (num - len(pcd_downsampled.points))/num * 100, \"%\")"
   ]
  },
  {
   "cell_type": "code",
   "execution_count": 4,
   "metadata": {},
   "outputs": [],
   "source": [
    "#Vizualize the downsampled pointcloud\n",
    "o3d.visualization.draw_geometries([pcd_downsampled])"
   ]
  },
  {
   "cell_type": "code",
   "execution_count": 5,
   "metadata": {},
   "outputs": [
    {
     "name": "stdout",
     "output_type": "stream",
     "text": [
      "Removed  36856  points\n"
     ]
    }
   ],
   "source": [
    "#Statistical outlier removal\n",
    "\n",
    "pcd_filtered, ind = pcd_downsampled.remove_statistical_outlier(nb_neighbors=20, std_ratio=2)\n",
    "print(\"Removed \", len(pcd_downsampled.points) - len(pcd_filtered.points), \" points\")"
   ]
  },
  {
   "cell_type": "code",
   "execution_count": 6,
   "metadata": {},
   "outputs": [],
   "source": [
    "#Vizualise the filtered pointcloud\n",
    "o3d.visualization.draw_geometries([pcd_filtered])"
   ]
  },
  {
   "cell_type": "code",
   "execution_count": 7,
   "metadata": {},
   "outputs": [],
   "source": [
    "#Slicing the point cloud through the tree trunks based on the z-value, between 1 and 2, 2 and 3, 3 and 4\n",
    "\n",
    "\n",
    "#pcd_filtered_array = np.asarray(pcd_filtered.points)\n",
    "#pcd_filtered_array = pcd_filtered_array[np.where(pcd_filtered_array[:,2] > 1.0)]\n",
    "#pcd_filtered_array = pcd_filtered_array[np.where(pcd_filtered_array[:,2] < 2.0)]\n",
    "\n",
    "#pcd_filtered_array_2 = np.asarray(pcd_filtered.points)\n",
    "#pcd_filtered_array_2 = pcd_filtered_array[np.where(pcd_filtered_array[:,2] > 2.0)]\n",
    "#pcd_filtered_array_2 = pcd_filtered_array[np.where(pcd_filtered_array[:,2] < 3.0)]\n",
    "\n",
    "#pcd_filtered_array_3 = np.asarray(pcd_filtered.points)\n",
    "#pcd_filtered_array_3 = pcd_filtered_array[np.where(pcd_filtered_array[:,2] > 3.0)]\n",
    "#pcd_filtered_array_3 = pcd_filtered_array[np.where(pcd_filtered_array[:,2] < 4.0)]\n",
    "\n",
    "\n",
    "pcd_sliced_1 = pcd_filtered.crop(o3d.geometry.AxisAlignedBoundingBox(min_bound=(-100, -100, 0), max_bound=(100, 100, 0.3)))\n",
    "pcd_sliced_2 = pcd_filtered.crop(o3d.geometry.AxisAlignedBoundingBox(min_bound=(-100, -100, 0.6), max_bound=(100, 100, 0.9)))\n",
    "pcd_sliced_3 = pcd_filtered.crop(o3d.geometry.AxisAlignedBoundingBox(min_bound=(-100, -100, 1.2), max_bound=(100, 100, 1.5)))\n",
    "\n",
    "\n",
    "\n"
   ]
  },
  {
   "cell_type": "code",
   "execution_count": 11,
   "metadata": {},
   "outputs": [
    {
     "name": "stdout",
     "output_type": "stream",
     "text": [
      "[Open3D WARNING] GLFW Error: WGL: Failed to make context current: Ugyldig referanse. \n"
     ]
    }
   ],
   "source": [
    "pcd_sliced_1.paint_uniform_color([1, 0, 0])\n",
    "pcd_sliced_2.paint_uniform_color([0, 1, 0])\n",
    "pcd_sliced_3.paint_uniform_color([0, 0, 1])\n",
    "\n",
    "\n",
    "o3d.visualization.draw_geometries([pcd_sliced_1, pcd_sliced_2, pcd_sliced_3]) \n"
   ]
  },
  {
   "cell_type": "code",
   "execution_count": 7,
   "metadata": {},
   "outputs": [
    {
     "name": "stdout",
     "output_type": "stream",
     "text": [
      "[Open3D DEBUG] Precompute neighbors.\n",
      "[Open3D DEBUG] Done Precompute neighbors.\n",
      "[Open3D DEBUG] Compute Clusters\n",
      "[Open3D DEBUG] Done Compute Clusters: 335\n",
      "point cloud has 335 clusters\n"
     ]
    }
   ],
   "source": [
    "#Clustering the first slice\n",
    "\n",
    "with o3d.utility.VerbosityContextManager(o3d.utility.VerbosityLevel.Debug) as cm:\n",
    "    labels = np.array(pcd_sliced_1.cluster_dbscan(eps=0.37, min_points=5, print_progress=True)) \n",
    "\n",
    "max_label = labels.max()\n",
    "print(f\"point cloud has {max_label + 1} clusters\")\n",
    "\n",
    "colors = plt.get_cmap(\"tab20\")(labels / (max_label if max_label > 0 else 1))\n",
    "colors[labels < 0] = 0\n",
    "pcd_sliced_1.colors = o3d.utility.Vector3dVector(colors[:, :3]) #Paint point cloud with cluster colors\n"
   ]
  },
  {
   "cell_type": "code",
   "execution_count": 8,
   "metadata": {},
   "outputs": [
    {
     "name": "stdout",
     "output_type": "stream",
     "text": [
      "[Open3D DEBUG] Precompute neighbors.\n",
      "[Open3D DEBUG] Done Precompute neighbors.\n",
      "[Open3D DEBUG] Compute Clusters\n",
      "[Open3D DEBUG] Done Compute Clusters: 440\n",
      "point cloud has 440 clusters\n"
     ]
    }
   ],
   "source": [
    "#Clustering the second slice\n",
    "\n",
    "with o3d.utility.VerbosityContextManager(o3d.utility.VerbosityLevel.Debug) as cm:\n",
    "    labels_2 = np.array(pcd_sliced_2.cluster_dbscan(eps=0.37, min_points=5, print_progress=True)) \n",
    "\n",
    "max_label_2 = labels_2.max()\n",
    "print(f\"point cloud has {max_label_2 + 1} clusters\")\n",
    "\n",
    "colors_2 = plt.get_cmap(\"tab20\")(labels_2 / (max_label_2 if max_label_2 > 0 else 1))\n",
    "colors_2[labels_2 < 0] = 0\n",
    "pcd_sliced_2.colors = o3d.utility.Vector3dVector(colors_2[:, :3]) #Paint point cloud with cluster colors"
   ]
  },
  {
   "cell_type": "code",
   "execution_count": 9,
   "metadata": {},
   "outputs": [
    {
     "name": "stdout",
     "output_type": "stream",
     "text": [
      "[Open3D DEBUG] Precompute neighbors.\n",
      "[Open3D DEBUG] Done Precompute neighbors.\n",
      "[Open3D DEBUG] Compute Clusters\n",
      "[Open3D DEBUG] Done Compute Clusters: 575\n",
      "point cloud has 575 clusters\n"
     ]
    }
   ],
   "source": [
    "#Clustering the third slice\n",
    "\n",
    "with o3d.utility.VerbosityContextManager(o3d.utility.VerbosityLevel.Debug) as cm:\n",
    "    labels_3 = np.array(pcd_sliced_3.cluster_dbscan(eps=0.37, min_points=5, print_progress=True)) \n",
    "\n",
    "max_label_3 = labels_3.max()\n",
    "print(f\"point cloud has {max_label_3 + 1} clusters\")\n",
    "\n",
    "colors_3 = plt.get_cmap(\"tab20\")(labels_3 / (max_label_3 if max_label_3 > 0 else 1))\n",
    "colors_3[labels_3 < 0] = 0\n",
    "pcd_sliced_3.colors = o3d.utility.Vector3dVector(colors_3[:, :3]) #Paint point cloud with cluster colors"
   ]
  },
  {
   "cell_type": "code",
   "execution_count": 214,
   "metadata": {},
   "outputs": [
    {
     "name": "stdout",
     "output_type": "stream",
     "text": [
      "[Open3D WARNING] GLFW Error: WGL: Failed to make context current: Forespurt transformeringsoperasjon er ikke støttet. \n",
      "[Open3D WARNING] GLFW Error: WGL: Failed to make context current: Ugyldig referanse. \n"
     ]
    }
   ],
   "source": [
    "o3d.visualization.draw_geometries([pcd_sliced_2])"
   ]
  },
  {
   "cell_type": "code",
   "execution_count": 10,
   "metadata": {},
   "outputs": [],
   "source": [
    "#Putting the clusters from the first slice into individual point clouds in a list\n",
    "individual_point_clouds_slice_1 = []\n",
    "\n",
    "for cluster_label in range(max_label + 1):\n",
    "    \n",
    "    cluster_indices = np.where(labels == cluster_label)[0]\n",
    "\n",
    "    cluster_points = pcd_sliced_1.select_by_index(cluster_indices)\n",
    "\n",
    "    individual_point_clouds_slice_1.append(cluster_points)\n",
    "\n",
    "    del(cluster_points)\n",
    "    del(cluster_indices)"
   ]
  },
  {
   "cell_type": "code",
   "execution_count": 11,
   "metadata": {},
   "outputs": [],
   "source": [
    "#Putting the clusters from the second slice into individual point clouds in a list\n",
    "individual_point_clouds_slice_2 = []\n",
    "\n",
    "for cluster_label in range(max_label_2 + 1):\n",
    "    \n",
    "    cluster_indices = np.where(labels_2 == cluster_label)[0]\n",
    "\n",
    "    cluster_points = pcd_sliced_2.select_by_index(cluster_indices)\n",
    "\n",
    "    individual_point_clouds_slice_2.append(cluster_points)\n",
    "\n",
    "    del(cluster_points)\n",
    "    del(cluster_indices)"
   ]
  },
  {
   "cell_type": "code",
   "execution_count": 12,
   "metadata": {},
   "outputs": [],
   "source": [
    "#Putting the clusters from the third slice into individual point clouds in a list\n",
    "individual_point_clouds_slice_3 = []\n",
    "\n",
    "for cluster_label in range(max_label_3 + 1):\n",
    "    \n",
    "    cluster_indices = np.where(labels_3 == cluster_label)[0]\n",
    "\n",
    "    cluster_points = pcd_sliced_3.select_by_index(cluster_indices)\n",
    "\n",
    "    individual_point_clouds_slice_3.append(cluster_points)\n",
    "\n",
    "    del(cluster_points)\n",
    "    del(cluster_indices)"
   ]
  },
  {
   "cell_type": "code",
   "execution_count": 13,
   "metadata": {},
   "outputs": [],
   "source": [
    "#Running ransac on each cluster for slice 1\n",
    "\n",
    "import pyransac3d as pyrsc\n",
    "\n",
    "circle_cloud_1 = o3d.geometry.PointCloud() #Create a new point cloud to store the estimated cylinder\n",
    "\n",
    "#Define the model\n",
    "model_cylinder = pyrsc.Cylinder() #Define a model for a cylinder\n",
    "\n",
    "\n",
    "for pcd in individual_point_clouds_slice_1: #Going through each cluster in the list of clusters\n",
    "    \n",
    "    #Loading the points as per pyransac3d documentation\n",
    "    load_points = np.asarray(pcd.points) \n",
    "    \n",
    "    #Fitting the circle model to the points\n",
    "    center, axis, radius, inliers = model_cylinder.fit(load_points, thresh=0.05, maxIteration = 200)\n",
    "    \n",
    "    if 0.15 < radius < 0.4: #Choosing a radius range to filter out things that arent tree trunks\n",
    "        \n",
    "        #Selecting the inliers\n",
    "        inlier_cloud = pcd.select_by_index(inliers) \n",
    "        \n",
    "        #Load inlier cloud points and colors\n",
    "        load_inlier_points = np.asarray(inlier_cloud.points)\n",
    "        load_inlier_colors = np.asarray(inlier_cloud.colors)\n",
    "        \n",
    "        #Load circle_cloud points and colors\n",
    "        load_circle_points = np.asarray(circle_cloud_1.points)\n",
    "        load_circle_colors = np.asarray(circle_cloud_1.colors)\n",
    "        \n",
    "        #Make a new set of points and colors\n",
    "        new_points = np.concatenate((load_inlier_points, load_circle_points), axis = 0)\n",
    "        new_colors = np.concatenate((load_inlier_colors, load_circle_colors), axis = 0)\n",
    "        \n",
    "        #Append the new points to cloud\n",
    "        circle_cloud_1.points = o3d.utility.Vector3dVector(new_points)\n",
    "        circle_cloud_1.colors = o3d.utility.Vector3dVector(new_colors)\n",
    "        \n",
    "    else:\n",
    "            continue\n",
    "    \n",
    "    \n",
    "    \n",
    "    \n",
    "    "
   ]
  },
  {
   "cell_type": "code",
   "execution_count": 14,
   "metadata": {},
   "outputs": [],
   "source": [
    "#Running ransac on each cluster for slice 2\n",
    "\n",
    "\n",
    "circle_cloud_2 = o3d.geometry.PointCloud()\n",
    "\n",
    "#Define the model\n",
    "model_cylinder_2 = pyrsc.Cylinder()\n",
    "\n",
    "\n",
    "for pcd in individual_point_clouds_slice_2:\n",
    "    \n",
    "    #Loading the points as per pyransac3d documentation\n",
    "    load_points_2 = np.asarray(pcd.points) \n",
    "    \n",
    "    if len(load_points_2) < 4:\n",
    "        continue\n",
    "    \n",
    "    #Fitting the circle model to the points\n",
    "    center, axis, radius, inliers = model_cylinder_2.fit(load_points_2, thresh=0.05, maxIteration = 400)\n",
    "    \n",
    "    if 0.1 < radius < 0.4:\n",
    "        \n",
    "        #Selecting the inliers\n",
    "        inlier_cloud_2 = pcd.select_by_index(inliers) \n",
    "        \n",
    "        #Load inlier cloud points and colors\n",
    "        load_inlier_points_2 = np.asarray(inlier_cloud_2.points)\n",
    "        load_inlier_colors_2 = np.asarray(inlier_cloud_2.colors)\n",
    "        \n",
    "        #Load circle_cloud points and colors\n",
    "        load_circle_points_2 = np.asarray(circle_cloud_2.points)\n",
    "        load_circle_colors_2 = np.asarray(circle_cloud_2.colors)\n",
    "        \n",
    "        #Make a new set of points and colors\n",
    "        new_points_2 = np.concatenate((load_inlier_points_2, load_circle_points_2), axis = 0)\n",
    "        new_colors_2 = np.concatenate((load_inlier_colors_2, load_circle_colors_2), axis = 0)\n",
    "        \n",
    "        #Append the new points to cloud\n",
    "        circle_cloud_2.points = o3d.utility.Vector3dVector(new_points_2)\n",
    "        circle_cloud_2.colors = o3d.utility.Vector3dVector(new_colors_2)\n",
    "        \n",
    "    else:\n",
    "            continue\n",
    "    \n",
    "    \n",
    "    \n",
    "    \n",
    "    "
   ]
  },
  {
   "cell_type": "code",
   "execution_count": 15,
   "metadata": {},
   "outputs": [],
   "source": [
    "#Running ransac on each cluster for slice 3\n",
    "\n",
    "\n",
    "circle_cloud_3 = o3d.geometry.PointCloud()\n",
    "\n",
    "#Define the model\n",
    "model_cylinder_3 = pyrsc.Cylinder()\n",
    "\n",
    "\n",
    "for pcd in individual_point_clouds_slice_3:\n",
    "    \n",
    "    #Loading the points as per pyransac3d documentation\n",
    "    load_points_3 = np.asarray(pcd.points) \n",
    "    \n",
    "    if len(load_points_3) < 4:\n",
    "        continue\n",
    "    \n",
    "    #Fitting the circle model to the points\n",
    "    center, axis, radius, inliers = model_cylinder_3.fit(load_points_3, thresh=0.05, maxIteration = 300)\n",
    "    \n",
    "    if 0.1 < radius < 0.4:\n",
    "        \n",
    "        #Selecting the inliers\n",
    "        inlier_cloud_3 = pcd.select_by_index(inliers) \n",
    "        \n",
    "        #Load inlier cloud points and colors\n",
    "        load_inlier_points_3 = np.asarray(inlier_cloud_3.points)\n",
    "        load_inlier_colors_3 = np.asarray(inlier_cloud_3.colors)\n",
    "        \n",
    "        #Load circle_cloud points and colors\n",
    "        load_circle_points_3 = np.asarray(circle_cloud_3.points)\n",
    "        load_circle_colors_3 = np.asarray(circle_cloud_3.colors)\n",
    "        \n",
    "        #Make a new set of points and colors\n",
    "        new_points_3 = np.concatenate((load_inlier_points_3, load_circle_points_3), axis = 0)\n",
    "        new_colors_3 = np.concatenate((load_inlier_colors_3, load_circle_colors_3), axis = 0)\n",
    "        \n",
    "        #Append the new points to cloud\n",
    "        circle_cloud_3.points = o3d.utility.Vector3dVector(new_points_3)\n",
    "        circle_cloud_3.colors = o3d.utility.Vector3dVector(new_colors_3)\n",
    "        \n",
    "    else:\n",
    "            continue\n",
    "    \n",
    "    \n",
    "    \n",
    "    \n",
    "    "
   ]
  },
  {
   "cell_type": "code",
   "execution_count": 16,
   "metadata": {},
   "outputs": [
    {
     "data": {
      "text/plain": [
       "PointCloud with 2067 points."
      ]
     },
     "execution_count": 16,
     "metadata": {},
     "output_type": "execute_result"
    }
   ],
   "source": [
    "#Paint the inlier clouds\n",
    "circle_cloud_1.paint_uniform_color([1, 0, 0])\n",
    "circle_cloud_2.paint_uniform_color([0, 1, 0])\n",
    "circle_cloud_3.paint_uniform_color([0, 0, 1])\n",
    "\n",
    "\n"
   ]
  },
  {
   "cell_type": "code",
   "execution_count": null,
   "metadata": {},
   "outputs": [],
   "source": []
  },
  {
   "cell_type": "code",
   "execution_count": 185,
   "metadata": {},
   "outputs": [
    {
     "name": "stdout",
     "output_type": "stream",
     "text": [
      "[Open3D WARNING] GLFW Error: WGL: Failed to make context current: Forespurt transformeringsoperasjon er ikke støttet. \n",
      "[Open3D WARNING] GLFW Error: WGL: Failed to make context current: Forespurt transformeringsoperasjon er ikke støttet. \n",
      "[Open3D WARNING] GLFW Error: WGL: Failed to make context current: Forespurt transformeringsoperasjon er ikke støttet. \n",
      "[Open3D WARNING] GLFW Error: WGL: Failed to make context current: Ugyldig referanse. \n",
      "[Open3D WARNING] GLFW Error: WGL: Failed to make context current: Ugyldig referanse. \n",
      "[Open3D WARNING] GLFW Error: WGL: Failed to make context current: Ugyldig referanse. \n",
      "[Open3D WARNING] GLFW Error: WGL: Failed to make context current: Forespurt transformeringsoperasjon er ikke støttet. \n",
      "[Open3D WARNING] GLFW Error: WGL: Failed to make context current: Forespurt transformeringsoperasjon er ikke støttet. \n"
     ]
    }
   ],
   "source": [
    "o3d.visualization.draw_geometries([circle_cloud_1, circle_cloud_2, circle_cloud_3])\n",
    "#o3d.visualization.draw_geometries([circle_cloud_3])"
   ]
  },
  {
   "cell_type": "code",
   "execution_count": 94,
   "metadata": {},
   "outputs": [],
   "source": [
    "#Combining the three clouds to make one cloud to run DBScan on later\n",
    "\n",
    "circle_cloud_combined = o3d.geometry.PointCloud()\n",
    "\n",
    "circle_cloud_combined+=circle_cloud_1\n",
    "circle_cloud_combined+=circle_cloud_2\n",
    "circle_cloud_combined+=circle_cloud_3\n",
    "\n"
   ]
  },
  {
   "cell_type": "code",
   "execution_count": 184,
   "metadata": {},
   "outputs": [
    {
     "name": "stdout",
     "output_type": "stream",
     "text": [
      "[Open3D WARNING] GLFW Error: WGL: Failed to make context current: Ugyldig referanse. \n",
      "[Open3D WARNING] GLFW Error: WGL: Failed to make context current: Forespurt transformeringsoperasjon er ikke støttet. \n"
     ]
    }
   ],
   "source": [
    "o3d.visualization.draw_geometries([circle_cloud_combined])"
   ]
  },
  {
   "cell_type": "code",
   "execution_count": 95,
   "metadata": {},
   "outputs": [
    {
     "name": "stdout",
     "output_type": "stream",
     "text": [
      "[Open3D DEBUG] Precompute neighbors.\n",
      "[Open3D DEBUG] Done Precompute neighbors.\n",
      "[Open3D DEBUG] Compute Clusters\n",
      "[Open3D DEBUG] Done Compute Clusters: 90\n",
      "point cloud has 90 clusters\n"
     ]
    }
   ],
   "source": [
    "#Running DBScan on the combined cloud to find the tree trunks and remove the noise\n",
    "\n",
    "with o3d.utility.VerbosityContextManager(o3d.utility.VerbosityLevel.Debug) as cm:\n",
    "    labels_combined = np.array(circle_cloud_combined.cluster_dbscan(eps=1.2, min_points=18, print_progress=True))\n",
    "\n",
    "max_label_combined = labels_combined.max()\n",
    "print(f\"point cloud has {max_label_combined + 1} clusters\")\n",
    "\n",
    "# Define a color for noise points (black)\n",
    "noise_color = [0, 0, 0]  # RGB values\n",
    "\n",
    "# Create a numpy array from the point cloud\n",
    "point_cloud_colors = np.asarray(circle_cloud_combined.colors)\n",
    "\n",
    "# Get the indices of noise points\n",
    "noise_indices = np.where(labels_combined == -1)[0]\n",
    "\n",
    "# Set the color of noise points to black\n",
    "point_cloud_colors[noise_indices] = noise_color\n",
    "\n",
    "# Update the point cloud with the modified colors\n",
    "circle_cloud_combined.colors = o3d.utility.Vector3dVector(point_cloud_colors)\n",
    "\n",
    "# Visualization\n",
    "o3d.visualization.draw_geometries([circle_cloud_combined])\n",
    "\n"
   ]
  },
  {
   "cell_type": "code",
   "execution_count": 182,
   "metadata": {},
   "outputs": [
    {
     "name": "stdout",
     "output_type": "stream",
     "text": [
      "[Open3D WARNING] GLFW Error: WGL: Failed to make context current: Forespurt transformeringsoperasjon er ikke støttet. \n"
     ]
    }
   ],
   "source": [
    "o3d.visualization.draw_geometries([circle_cloud_combined])"
   ]
  },
  {
   "cell_type": "code",
   "execution_count": 97,
   "metadata": {},
   "outputs": [],
   "source": [
    "#Filtering out noise points and dividing into individual point clouds\n",
    "\n",
    "\n",
    "individual_point_clouds_final = []\n",
    "\n",
    "for cluster_label in range(max_label_combined + 1):\n",
    "    \n",
    "    cluster_indices = np.where((labels_combined == cluster_label) & (cluster_label != -1))[0]\n",
    "\n",
    "    cluster_points = circle_cloud_combined.select_by_index(cluster_indices)\n",
    "\n",
    "    individual_point_clouds_final.append(cluster_points)\n",
    "\n",
    "    del(cluster_points)\n",
    "    del(cluster_indices)\n",
    "\n",
    "\n",
    "\n"
   ]
  },
  {
   "cell_type": "code",
   "execution_count": 147,
   "metadata": {},
   "outputs": [],
   "source": [
    "#Running ransac to find a line representing the tree trunk, ending up with a tree-trunk cloud (ish)\n",
    "\n",
    "import math\n",
    "\n",
    "tree_trunk_cloud = o3d.geometry.PointCloud()\n",
    "\n",
    "#Define the model\n",
    "model_line = pyrsc.Line()\n",
    "\n",
    "#Define a slope threshold\n",
    "slope_threshold = 0.8\n",
    "\n",
    "\n",
    "for pcd in individual_point_clouds_final:\n",
    "    \n",
    "    #Loading the points as per pyransac3d documentation\n",
    "    points = np.asarray(pcd.points) \n",
    "    \n",
    "    if len(pcd.points) < 25:\n",
    "        continue\n",
    "    \n",
    "    #Fitting the circle model to the points\n",
    "    slope, b, inliers = model_line.fit(points, thresh=0.35, maxIteration = 600)\n",
    "    \n",
    "    abs_slope = np.abs(slope)\n",
    "    #filtering out lines that arent somewhat vertical\n",
    "    if any(abs_slope > slope_threshold):\n",
    "        \n",
    "        \n",
    "         #Selecting the inliers\n",
    "        inlierCloud = pcd.select_by_index(inliers) \n",
    "        \n",
    "        #Load inlier cloud points and colors\n",
    "        loadInliers = np.asarray(inlierCloud.points)\n",
    "        loadColors = np.asarray(inlierCloud.colors)\n",
    "        \n",
    "        #Load tree trunk cloud points and colors\n",
    "        loadTreeTrunkPoints = np.asarray(tree_trunk_cloud.points)\n",
    "        loadTreeTrunkColors = np.asarray(tree_trunk_cloud.colors)\n",
    "        \n",
    "        #Make a new set of points and colors\n",
    "        newPoints = np.concatenate((loadInliers, loadTreeTrunkPoints), axis = 0)\n",
    "        newColors = np.concatenate((loadColors, loadTreeTrunkColors), axis = 0)\n",
    "        \n",
    "        #Append the new points to cloud\n",
    "        tree_trunk_cloud.points = o3d.utility.Vector3dVector(newPoints)\n",
    "        tree_trunk_cloud.colors = o3d.utility.Vector3dVector(newColors)\n",
    "    else:\n",
    "        continue\n",
    "    \n",
    "    \n",
    "\n"
   ]
  },
  {
   "cell_type": "code",
   "execution_count": 186,
   "metadata": {},
   "outputs": [
    {
     "name": "stdout",
     "output_type": "stream",
     "text": [
      "[Open3D WARNING] GLFW Error: WGL: Failed to make context current: Ugyldig referanse. \n",
      "[Open3D WARNING] GLFW Error: WGL: Failed to make context current: Ugyldig referanse. \n",
      "[Open3D WARNING] GLFW Error: WGL: Failed to make context current: Ugyldig referanse. \n",
      "[Open3D WARNING] GLFW Error: WGL: Failed to make context current: Ugyldig referanse. \n",
      "[Open3D WARNING] GLFW Error: WGL: Failed to make context current: Forespurt transformeringsoperasjon er ikke støttet. \n",
      "[Open3D WARNING] [ViewControl] SetViewPoint() failed because window height and width are not set.\n"
     ]
    }
   ],
   "source": [
    "o3d.visualization.draw_geometries([tree_trunk_cloud])"
   ]
  },
  {
   "cell_type": "code",
   "execution_count": 153,
   "metadata": {},
   "outputs": [
    {
     "name": "stdout",
     "output_type": "stream",
     "text": [
      "[Open3D DEBUG] Precompute neighbors.\n",
      "[Open3D DEBUG] Done Precompute neighbors.\n",
      "[Open3D DEBUG] Compute Clusters\n",
      "[Open3D DEBUG] Done Compute Clusters: 45\n",
      "point cloud has 45 clusters\n"
     ]
    }
   ],
   "source": [
    "#Clustering this cloud again, then dividing into individual point clouds\n",
    "\n",
    "with o3d.utility.VerbosityContextManager(o3d.utility.VerbosityLevel.Debug) as cm:\n",
    "    tree_trunk_labels = np.array(tree_trunk_cloud.cluster_dbscan(eps=1.2, min_points=10, print_progress=True))\n",
    "\n",
    "max_tree_trunk_label= tree_trunk_labels.max()\n",
    "print(f\"point cloud has {max_tree_trunk_label + 1} clusters\")\n",
    "\n",
    "#paint the clusters\n",
    "colors = plt.get_cmap(\"tab20\")(tree_trunk_labels / (max_tree_trunk_label if max_tree_trunk_label > 0 else 1))\n",
    "colors[tree_trunk_labels < 0] = 0\n",
    "tree_trunk_cloud.colors = o3d.utility.Vector3dVector(colors[:, :3]) #Paint point cloud with cluster colors\n",
    "\n",
    "individual_tree_trunks= []\n",
    "\n",
    "for cluster_label in range(max_label_combined + 1):\n",
    "    \n",
    "    cluster_indices = np.where((tree_trunk_labels == cluster_label) & (cluster_label != -1))[0]\n",
    "\n",
    "    cluster_points = tree_trunk_cloud.select_by_index(cluster_indices)\n",
    "\n",
    "    individual_tree_trunks.append(cluster_points)\n",
    "\n",
    "    del(cluster_points)\n",
    "    del(cluster_indices)\n",
    "\n"
   ]
  },
  {
   "cell_type": "code",
   "execution_count": 172,
   "metadata": {},
   "outputs": [
    {
     "name": "stdout",
     "output_type": "stream",
     "text": [
      "[Open3D WARNING] GLFW Error: WGL: Failed to make context current: Ugyldig referanse. \n",
      "[Open3D WARNING] GLFW Error: WGL: Failed to make context current: Forespurt transformeringsoperasjon er ikke støttet. \n",
      "[Open3D WARNING] GLFW Error: WGL: Failed to make context current: Forespurt transformeringsoperasjon er ikke støttet. \n"
     ]
    }
   ],
   "source": [
    "o3d.visualization.draw_geometries([tree_trunk_cloud])"
   ]
  },
  {
   "cell_type": "code",
   "execution_count": 155,
   "metadata": {},
   "outputs": [],
   "source": [
    "#Creating bounding boxes of the tree trunks\n",
    "\n",
    "#Define a list to store the bounding boxes\n",
    "bounding_boxes = []\n",
    "\n",
    "#Define a list to store the bounding box centers\n",
    "bounding_box_centers = []\n",
    "\n",
    "#Iterate through the individual tree trunks and create bounding boxes\n",
    "for pcd in individual_tree_trunks:\n",
    "        \n",
    "        #Create a bounding box\n",
    "        bounding_box = pcd.get_axis_aligned_bounding_box()\n",
    "        \n",
    "        #Get the center of the bounding box\n",
    "        bounding_box_center = bounding_box.get_center()\n",
    "        \n",
    "        #Append the bounding box to the list\n",
    "        bounding_boxes.append(bounding_box)\n",
    "        \n",
    "        #Append the bounding box center to the list\n",
    "        bounding_box_centers.append(bounding_box_center)"
   ]
  },
  {
   "cell_type": "code",
   "execution_count": 161,
   "metadata": {},
   "outputs": [],
   "source": [
    "#Extracting the trees from the original point cloud, using the bounding box centers + 1 meter in each direction\n",
    "\n",
    "#Define a list to store the individual trees\n",
    "individual_trees = []\n",
    "\n",
    "#Iterate through the bounding box centers and extract the trees\n",
    "for i in bounding_box_centers:\n",
    "    extracted_tree = pcd_filtered.crop(o3d.geometry.AxisAlignedBoundingBox(min_bound=(i[0]-1, i[1]-1, i[2]-5), max_bound=(i[0]+1, i[1]+1, i[2]+30)))\n",
    "    individual_trees.append(extracted_tree)\n",
    "    "
   ]
  },
  {
   "cell_type": "code",
   "execution_count": 166,
   "metadata": {},
   "outputs": [],
   "source": [
    "#Making a combined cloud for all the trees\n",
    "\n",
    "tree_cloud = o3d.geometry.PointCloud()\n",
    "\n",
    "for i in individual_trees:\n",
    "    tree_cloud+=i"
   ]
  },
  {
   "cell_type": "code",
   "execution_count": 187,
   "metadata": {},
   "outputs": [
    {
     "name": "stdout",
     "output_type": "stream",
     "text": [
      "[Open3D WARNING] GLFW Error: WGL: Failed to make context current: Ugyldig referanse. \n",
      "[Open3D WARNING] GLFW Error: WGL: Failed to make context current: Ugyldig referanse. \n",
      "[Open3D WARNING] GLFW Error: WGL: Failed to make context current: Forespurt transformeringsoperasjon er ikke støttet. \n",
      "[Open3D WARNING] GLFW Error: WGL: Failed to make context current: Ugyldig referanse. \n",
      "[Open3D WARNING] GLFW Error: WGL: Failed to make context current: Ugyldig referanse. \n",
      "[Open3D WARNING] GLFW Error: WGL: Failed to make context current: Ugyldig referanse. \n"
     ]
    }
   ],
   "source": [
    "for i in individual_trees:\n",
    "    o3d.visualization.draw_geometries([i])\n",
    "\n",
    "#o3d.visualization.draw_geometries([tree_cloud])"
   ]
  }
 ],
 "metadata": {
  "kernelspec": {
   "display_name": "venv",
   "language": "python",
   "name": "python3"
  },
  "language_info": {
   "codemirror_mode": {
    "name": "ipython",
    "version": 3
   },
   "file_extension": ".py",
   "mimetype": "text/x-python",
   "name": "python",
   "nbconvert_exporter": "python",
   "pygments_lexer": "ipython3",
   "version": "3.10.11"
  }
 },
 "nbformat": 4,
 "nbformat_minor": 2
}
