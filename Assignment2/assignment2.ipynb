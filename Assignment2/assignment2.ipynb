{
 "cells": [
  {
   "cell_type": "code",
   "execution_count": 64,
   "metadata": {},
   "outputs": [
    {
     "name": "stdout",
     "output_type": "stream",
     "text": [
      "Number of points before downsampling:  18914399\n"
     ]
    }
   ],
   "source": [
    "#Import necessary packages, load the point cloud\n",
    "\n",
    "import open3d as o3d\n",
    "import numpy as np\n",
    "import matplotlib.pyplot as plt\n",
    "import os\n",
    "\n",
    "pcd = o3d.io.read_point_cloud(os.path.join(os.getcwd(), \"data\", \"pcd.ply\"))\n",
    "num = len(pcd.points)\n",
    "print(\"Number of points before downsampling: \", num)\n",
    "\n"
   ]
  },
  {
   "cell_type": "code",
   "execution_count": 65,
   "metadata": {},
   "outputs": [
    {
     "name": "stdout",
     "output_type": "stream",
     "text": [
      "Number of points after downsampling:  1866953\n",
      "Reduced the amount of points by :  90.12946168683446 %\n"
     ]
    }
   ],
   "source": [
    "#Downsample the pointcloud to make it easier to work with\n",
    "\n",
    "pcd_downsampled = pcd.voxel_down_sample(voxel_size=0.15)\n",
    "print(\"Number of points after downsampling: \", len(pcd_downsampled.points))\n",
    "print(\"Reduced the amount of points by : \", (num - len(pcd_downsampled.points))/num * 100, \"%\")"
   ]
  },
  {
   "cell_type": "code",
   "execution_count": 66,
   "metadata": {},
   "outputs": [],
   "source": [
    "#Vizualize the downsampled pointcloud\n",
    "o3d.visualization.draw_geometries([pcd_downsampled])"
   ]
  },
  {
   "cell_type": "code",
   "execution_count": 67,
   "metadata": {},
   "outputs": [
    {
     "name": "stdout",
     "output_type": "stream",
     "text": [
      "Removed  36856  points\n"
     ]
    }
   ],
   "source": [
    "#Statistical outlier removal\n",
    "\n",
    "pcd_filtered, ind = pcd_downsampled.remove_statistical_outlier(nb_neighbors=20, std_ratio=2)\n",
    "print(\"Removed \", len(pcd_downsampled.points) - len(pcd_filtered.points), \" points\")"
   ]
  },
  {
   "cell_type": "code",
   "execution_count": 68,
   "metadata": {},
   "outputs": [],
   "source": [
    "#Vizualise the filtered pointcloud\n",
    "o3d.visualization.draw_geometries([pcd_filtered])"
   ]
  },
  {
   "cell_type": "code",
   "execution_count": 136,
   "metadata": {},
   "outputs": [],
   "source": [
    "#Slicing the point cloud through the tree trunks based on the z-value, between 1 and 2, 2 and 3, 3 and 4\n",
    "\n",
    "\n",
    "#pcd_filtered_array = np.asarray(pcd_filtered.points)\n",
    "#pcd_filtered_array = pcd_filtered_array[np.where(pcd_filtered_array[:,2] > 1.0)]\n",
    "#pcd_filtered_array = pcd_filtered_array[np.where(pcd_filtered_array[:,2] < 2.0)]\n",
    "\n",
    "#pcd_filtered_array_2 = np.asarray(pcd_filtered.points)\n",
    "#pcd_filtered_array_2 = pcd_filtered_array[np.where(pcd_filtered_array[:,2] > 2.0)]\n",
    "#pcd_filtered_array_2 = pcd_filtered_array[np.where(pcd_filtered_array[:,2] < 3.0)]\n",
    "\n",
    "#pcd_filtered_array_3 = np.asarray(pcd_filtered.points)\n",
    "#pcd_filtered_array_3 = pcd_filtered_array[np.where(pcd_filtered_array[:,2] > 3.0)]\n",
    "#pcd_filtered_array_3 = pcd_filtered_array[np.where(pcd_filtered_array[:,2] < 4.0)]\n",
    "\n",
    "\n",
    "pcd_sliced_1 = pcd_filtered.crop(o3d.geometry.AxisAlignedBoundingBox(min_bound=(-100, -100, 0.2), max_bound=(100, 100, 0.4)))\n",
    "pcd_sliced_2 = pcd_filtered.crop(o3d.geometry.AxisAlignedBoundingBox(min_bound=(-100, -100, 1.2), max_bound=(100, 100, 1.4)))\n",
    "pcd_sliced_3 = pcd_filtered.crop(o3d.geometry.AxisAlignedBoundingBox(min_bound=(-100, -100, 2.4), max_bound=(100, 100, 3.6)))\n",
    "\n",
    "\n",
    "\n"
   ]
  },
  {
   "cell_type": "code",
   "execution_count": 137,
   "metadata": {},
   "outputs": [],
   "source": [
    "o3d.visualization.draw_geometries([pcd_sliced_1])\n",
    "o3d.visualization.draw_geometries([pcd_sliced_2])\n",
    "o3d.visualization.draw_geometries([pcd_sliced_3])"
   ]
  },
  {
   "cell_type": "code",
   "execution_count": 95,
   "metadata": {},
   "outputs": [
    {
     "name": "stdout",
     "output_type": "stream",
     "text": [
      "[Open3D DEBUG] Precompute neighbors.\n",
      "[Open3D DEBUG] Done Precompute neighbors.\n",
      "[Open3D DEBUG] Compute Clusters\n",
      "[Open3D DEBUG] Done Compute Clusters: 333\n",
      "point cloud has 333 clusters\n"
     ]
    }
   ],
   "source": [
    "#Clustering the first slice\n",
    "\n",
    "with o3d.utility.VerbosityContextManager(o3d.utility.VerbosityLevel.Debug) as cm:\n",
    "    labels = np.array(pcd_sliced_1.cluster_dbscan(eps=0.37, min_points=5, print_progress=True)) \n",
    "\n",
    "max_label = labels.max()\n",
    "print(f\"point cloud has {max_label + 1} clusters\")\n",
    "\n",
    "colors = plt.get_cmap(\"tab20\")(labels / (max_label if max_label > 0 else 1))\n",
    "colors[labels < 0] = 0\n",
    "pcd_sliced_1.colors = o3d.utility.Vector3dVector(colors[:, :3]) #Paint point cloud with cluster colors\n"
   ]
  },
  {
   "cell_type": "code",
   "execution_count": 139,
   "metadata": {},
   "outputs": [
    {
     "name": "stdout",
     "output_type": "stream",
     "text": [
      "[Open3D DEBUG] Precompute neighbors.\n",
      "[Open3D DEBUG] Done Precompute neighbors.\n",
      "[Open3D DEBUG] Compute Clusters\n",
      "[Open3D DEBUG] Done Compute Clusters: 538\n",
      "point cloud has 538 clusters\n"
     ]
    }
   ],
   "source": [
    "#Clustering the second slice\n",
    "\n",
    "with o3d.utility.VerbosityContextManager(o3d.utility.VerbosityLevel.Debug) as cm:\n",
    "    labels_2 = np.array(pcd_sliced_2.cluster_dbscan(eps=0.37, min_points=5, print_progress=True)) \n",
    "\n",
    "max_label_2 = labels_2.max()\n",
    "print(f\"point cloud has {max_label_2 + 1} clusters\")\n",
    "\n",
    "colors_2 = plt.get_cmap(\"tab20\")(labels_2 / (max_label_2 if max_label_2 > 0 else 1))\n",
    "colors_2[labels_2 < 0] = 0\n",
    "pcd_sliced_2.colors = o3d.utility.Vector3dVector(colors_2[:, :3]) #Paint point cloud with cluster colors"
   ]
  },
  {
   "cell_type": "code",
   "execution_count": 140,
   "metadata": {},
   "outputs": [],
   "source": [
    "o3d.visualization.draw_geometries([pcd_sliced_2])"
   ]
  },
  {
   "cell_type": "code",
   "execution_count": 141,
   "metadata": {},
   "outputs": [],
   "source": [
    "#Putting the clusters from the first slice into individual point clouds in a list\n",
    "individual_point_clouds_slice_1 = []\n",
    "\n",
    "for cluster_label in range(max_label + 1):\n",
    "    \n",
    "    cluster_indices = np.where(labels == cluster_label)[0]\n",
    "\n",
    "    cluster_points = pcd_sliced_1.select_by_index(cluster_indices)\n",
    "\n",
    "    individual_point_clouds_slice_1.append(cluster_points)\n",
    "\n",
    "    del(cluster_points)\n",
    "    del(cluster_indices)"
   ]
  },
  {
   "cell_type": "code",
   "execution_count": 142,
   "metadata": {},
   "outputs": [],
   "source": [
    "#Putting the clusters from the second slice into individual point clouds in a list\n",
    "individual_point_clouds_slice_2 = []\n",
    "\n",
    "for cluster_label in range(max_label_2 + 1):\n",
    "    \n",
    "    cluster_indices = np.where(labels == cluster_label)[0]\n",
    "\n",
    "    cluster_points = pcd_sliced_2.select_by_index(cluster_indices)\n",
    "\n",
    "    individual_point_clouds_slice_2.append(cluster_points)\n",
    "\n",
    "    del(cluster_points)\n",
    "    del(cluster_indices)"
   ]
  },
  {
   "cell_type": "code",
   "execution_count": 143,
   "metadata": {},
   "outputs": [],
   "source": [
    "#Running ransac on each cluster in the first slice\n",
    "\n",
    "import pyransac3d as pyrsc\n",
    "\n",
    "circle_cloud_1 = o3d.geometry.PointCloud()\n",
    "\n",
    "#Define the model\n",
    "model_cylinder = pyrsc.Cylinder()\n",
    "\n",
    "\n",
    "for pcd in individual_point_clouds_slice_1:\n",
    "    \n",
    "    #Loading the points as per pyransac3d documentation\n",
    "    load_points = np.asarray(pcd.points) \n",
    "    \n",
    "    #Fitting the circle model to the points\n",
    "    center, axis, radius, inliers = model_cylinder.fit(load_points, thresh=0.05, maxIteration = 200)\n",
    "    \n",
    "    if 0.15 < radius < 0.4:\n",
    "        \n",
    "        #Selecting the inliers\n",
    "        inlier_cloud = pcd.select_by_index(inliers) \n",
    "        \n",
    "        #Load inlier cloud points and colors\n",
    "        load_inlier_points = np.asarray(inlier_cloud.points)\n",
    "        load_inlier_colors = np.asarray(inlier_cloud.colors)\n",
    "        \n",
    "        #Load circle_cloud points and colors\n",
    "        load_circle_points = np.asarray(circle_cloud_1.points)\n",
    "        load_circle_colors = np.asarray(circle_cloud_1.colors)\n",
    "        \n",
    "        #Make a new set of points and colors\n",
    "        new_points = np.concatenate((load_inlier_points, load_circle_points), axis = 0)\n",
    "        new_colors = np.concatenate((load_inlier_colors, load_circle_colors), axis = 0)\n",
    "        \n",
    "        #Append the new points to cloud\n",
    "        circle_cloud_1.points = o3d.utility.Vector3dVector(new_points)\n",
    "        circle_cloud_1.colors = o3d.utility.Vector3dVector(new_colors)\n",
    "        \n",
    "    else:\n",
    "            continue\n",
    "    \n",
    "    \n",
    "    \n",
    "    \n",
    "    "
   ]
  },
  {
   "cell_type": "code",
   "execution_count": 145,
   "metadata": {},
   "outputs": [],
   "source": [
    "#Running ransac on each cluster in the second slice\n",
    "\n",
    "\n",
    "circle_cloud_2 = o3d.geometry.PointCloud()\n",
    "\n",
    "#Define the model\n",
    "model_cylinder_2 = pyrsc.Cylinder()\n",
    "\n",
    "\n",
    "for pcd in individual_point_clouds_slice_2:\n",
    "    \n",
    "    #Loading the points as per pyransac3d documentation\n",
    "    load_points_2 = np.asarray(pcd.points) \n",
    "    \n",
    "    if len(load_points_2) < 4:\n",
    "        continue\n",
    "    \n",
    "    #Fitting the circle model to the points\n",
    "    center, axis, radius, inliers = model_cylinder_2.fit(load_points_2, thresh=0.05, maxIteration = 200)\n",
    "    \n",
    "    if 0.1 < radius < 0.4:\n",
    "        \n",
    "        #Selecting the inliers\n",
    "        inlier_cloud_2 = pcd.select_by_index(inliers) \n",
    "        \n",
    "        #Load inlier cloud points and colors\n",
    "        load_inlier_points_2 = np.asarray(inlier_cloud_2.points)\n",
    "        load_inlier_colors_2 = np.asarray(inlier_cloud_2.colors)\n",
    "        \n",
    "        #Load circle_cloud points and colors\n",
    "        load_circle_points_2 = np.asarray(circle_cloud_2.points)\n",
    "        load_circle_colors_2 = np.asarray(circle_cloud_2.colors)\n",
    "        \n",
    "        #Make a new set of points and colors\n",
    "        new_points_2 = np.concatenate((load_inlier_points_2, load_circle_points_2), axis = 0)\n",
    "        new_colors_2 = np.concatenate((load_inlier_colors_2, load_circle_colors_2), axis = 0)\n",
    "        \n",
    "        #Append the new points to cloud\n",
    "        circle_cloud_2.points = o3d.utility.Vector3dVector(new_points_2)\n",
    "        circle_cloud_2.colors = o3d.utility.Vector3dVector(new_colors_2)\n",
    "        \n",
    "    else:\n",
    "            continue\n",
    "    \n",
    "    \n",
    "    \n",
    "    \n",
    "    "
   ]
  },
  {
   "cell_type": "code",
   "execution_count": 146,
   "metadata": {},
   "outputs": [],
   "source": [
    "circle_cloud_1.paint_uniform_color([1, 0, 0])\n",
    "circle_cloud_2.paint_uniform_color([0, 1, 0])\n",
    "\n",
    "o3d.visualization.draw_geometries([circle_cloud_2])"
   ]
  }
 ],
 "metadata": {
  "kernelspec": {
   "display_name": "venv",
   "language": "python",
   "name": "python3"
  },
  "language_info": {
   "codemirror_mode": {
    "name": "ipython",
    "version": 3
   },
   "file_extension": ".py",
   "mimetype": "text/x-python",
   "name": "python",
   "nbconvert_exporter": "python",
   "pygments_lexer": "ipython3",
   "version": "3.10.11"
  }
 },
 "nbformat": 4,
 "nbformat_minor": 2
}
