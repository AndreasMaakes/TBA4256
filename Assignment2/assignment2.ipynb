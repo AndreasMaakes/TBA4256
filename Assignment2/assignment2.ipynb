{
 "cells": [
  {
   "cell_type": "code",
   "execution_count": 1,
   "metadata": {},
   "outputs": [
    {
     "name": "stdout",
     "output_type": "stream",
     "text": [
      "Jupyter environment detected. Enabling Open3D WebVisualizer.\n",
      "[Open3D INFO] WebRTC GUI backend enabled.\n",
      "[Open3D INFO] WebRTCWindowSystem: HTTP handshake server disabled.\n",
      "Number of points before downsampling:  18914399\n"
     ]
    }
   ],
   "source": [
    "#Import necessary packages, load the point cloud\n",
    "\n",
    "import open3d as o3d\n",
    "import numpy as np\n",
    "import matplotlib.pyplot as plt\n",
    "import os\n",
    "\n",
    "pcd = o3d.io.read_point_cloud(os.path.join(os.getcwd(), \"data\", \"pcd.ply\"))\n",
    "num = len(pcd.points)\n",
    "print(\"Number of points before downsampling: \", num)\n",
    "\n"
   ]
  },
  {
   "cell_type": "code",
   "execution_count": 2,
   "metadata": {},
   "outputs": [
    {
     "name": "stdout",
     "output_type": "stream",
     "text": [
      "Number of points after downsampling:  7539537\n",
      "Reduced the amount of points by :  60.13863829350328 %\n"
     ]
    }
   ],
   "source": [
    "#Downsample the pointcloud to make it easier to work with\n",
    "\n",
    "pcd_downsampled = pcd.voxel_down_sample(voxel_size=0.05)\n",
    "print(\"Number of points after downsampling: \", len(pcd_downsampled.points))\n",
    "print(\"Reduced the amount of points by : \", (num - len(pcd_downsampled.points))/num * 100, \"%\")"
   ]
  },
  {
   "cell_type": "code",
   "execution_count": 3,
   "metadata": {},
   "outputs": [],
   "source": [
    "#Vizualize the downsampled pointcloud\n",
    "o3d.visualization.draw_geometries([pcd_downsampled])"
   ]
  },
  {
   "cell_type": "code",
   "execution_count": 4,
   "metadata": {},
   "outputs": [
    {
     "name": "stdout",
     "output_type": "stream",
     "text": [
      "Removed  196966  points\n"
     ]
    }
   ],
   "source": [
    "#Statistical outlier removal\n",
    "\n",
    "pcd_filtered, ind = pcd_downsampled.remove_statistical_outlier(nb_neighbors=20, std_ratio=2)\n",
    "print(\"Removed \", len(pcd_downsampled.points) - len(pcd_filtered.points), \" points\")"
   ]
  },
  {
   "cell_type": "code",
   "execution_count": 5,
   "metadata": {},
   "outputs": [],
   "source": [
    "#Vizualise the filtered pointcloud\n",
    "o3d.visualization.draw_geometries([pcd_filtered])"
   ]
  },
  {
   "cell_type": "code",
   "execution_count": 15,
   "metadata": {},
   "outputs": [],
   "source": [
    "#Slicing the point cloud through the tree trunks based on the z-value, between 1 and 2, 2 and 3, 3 and 4\n",
    "\n",
    "\n",
    "pcd_filtered_array = np.asarray(pcd_filtered.points)\n",
    "pcd_filtered_array = pcd_filtered_array[np.where(pcd_filtered_array[:,2] > 1.0)]\n",
    "pcd_filtered_array = pcd_filtered_array[np.where(pcd_filtered_array[:,2] < 2.0)]\n",
    "\n",
    "pcd_filtered_array_2 = np.asarray(pcd_filtered.points)\n",
    "pcd_filtered_array_2 = pcd_filtered_array[np.where(pcd_filtered_array[:,2] > 2.0)]\n",
    "pcd_filtered_array_2 = pcd_filtered_array[np.where(pcd_filtered_array[:,2] < 3.0)]\n",
    "\n",
    "pcd_filtered_array_3 = np.asarray(pcd_filtered.points)\n",
    "pcd_filtered_array_3 = pcd_filtered_array[np.where(pcd_filtered_array[:,2] > 3.0)]\n",
    "pcd_filtered_array_3 = pcd_filtered_array[np.where(pcd_filtered_array[:,2] < 4.0)]\n",
    "\n",
    "\n",
    "pcd_sliced_1 = pcd_filtered.crop(o3d.geometry.AxisAlignedBoundingBox(min_bound=(-100, -100, 0.2), max_bound=(100, 100, 0.4)))\n",
    "pcd_sliced_2 = pcd_filtered.crop(o3d.geometry.AxisAlignedBoundingBox(min_bound=(-100, -100, 0.2), max_bound=(100, 100, 0.4)))\n",
    "pcd_sliced_3 = pcd_filtered.crop(o3d.geometry.AxisAlignedBoundingBox(min_bound=(-100, -100, 0.2), max_bound=(100, 100, 0.4)))\n",
    "\n",
    "\n",
    "\n"
   ]
  },
  {
   "cell_type": "code",
   "execution_count": 16,
   "metadata": {},
   "outputs": [
    {
     "name": "stdout",
     "output_type": "stream",
     "text": [
      "[Open3D WARNING] GLFW Error: WGL: Failed to make context current: Forespurt transformeringsoperasjon er ikke støttet. \n",
      "[Open3D WARNING] GLFW Error: WGL: Failed to make context current: Ugyldig referanse. \n",
      "[Open3D WARNING] GLFW Error: WGL: Failed to make context current: Forespurt transformeringsoperasjon er ikke støttet. \n"
     ]
    }
   ],
   "source": [
    "o3d.visualization.draw_geometries([pcd_sliced_1])\n",
    "o3d.visualization.draw_geometries([pcd_sliced_2])\n",
    "o3d.visualization.draw_geometries([pcd_sliced_3])"
   ]
  },
  {
   "cell_type": "code",
   "execution_count": 8,
   "metadata": {},
   "outputs": [
    {
     "name": "stdout",
     "output_type": "stream",
     "text": [
      "[Open3D DEBUG] Precompute neighbors.\n",
      "[Open3D DEBUG] Done Precompute neighbors.\n",
      "[Open3D DEBUG] Compute Clusters\n",
      "[Open3D DEBUG] Done Compute Clusters: 204\n",
      "point cloud has 204 clusters\n"
     ]
    }
   ],
   "source": [
    "#Cluster the sliced cloud so we can run ransac on each cluster\n",
    "\n",
    "with o3d.utility.VerbosityContextManager(o3d.utility.VerbosityLevel.Debug) as cm:\n",
    "    labels = np.array(pcd_sliced.cluster_dbscan(eps=0.6, min_points=30, print_progress=True)) \n",
    "\n",
    "max_label = labels.max()\n",
    "print(f\"point cloud has {max_label + 1} clusters\")"
   ]
  },
  {
   "cell_type": "code",
   "execution_count": 9,
   "metadata": {},
   "outputs": [],
   "source": [
    "individual_point_clouds = []\n",
    "\n",
    "for cluster_label in range(max_label + 1):\n",
    "    \n",
    "    cluster_indices = np.where(labels == cluster_label)[0]\n",
    "\n",
    "    cluster_points = pcd_sliced.select_by_index(cluster_indices)\n",
    "\n",
    "    individual_point_clouds.append(cluster_points)\n",
    "\n",
    "    del(cluster_points)\n",
    "    del(cluster_indices)"
   ]
  },
  {
   "cell_type": "code",
   "execution_count": null,
   "metadata": {},
   "outputs": [],
   "source": [
    "#Run ransac on each cluster to find the best cylinder\n",
    "import pyransac3d as pyrsc\n",
    "\n",
    "cluster_1 = individual_point_clouds[0]\n",
    "\n",
    "model_cylinder = pyrsc.Cylinder()\n",
    "\n",
    "center, axis, radius, inliers = model_cylinder.fit(np.asarray(cluster_1.points), thresh=0.25, maxIteration = 1000)\n",
    "\n",
    "tree_trunk = cluster_1.select_by_index(inliers)\n",
    "\n",
    "o3d.visualization.draw_geometries([tree_trunk]) \n",
    "    \n"
   ]
  },
  {
   "cell_type": "code",
   "execution_count": 10,
   "metadata": {},
   "outputs": [
    {
     "name": "stdout",
     "output_type": "stream",
     "text": [
      "[Open3D WARNING] GLFW Error: WGL: Failed to make context current: Ugyldig referanse. \n"
     ]
    },
    {
     "ename": "KeyboardInterrupt",
     "evalue": "",
     "output_type": "error",
     "traceback": [
      "\u001b[1;31m---------------------------------------------------------------------------\u001b[0m",
      "\u001b[1;31mKeyboardInterrupt\u001b[0m                         Traceback (most recent call last)",
      "\u001b[1;32mc:\\Users\\User\\Documents\\TBA4256\\Assignment2\\assignment2.ipynb Cell 11\u001b[0m line \u001b[0;36m2\n\u001b[0;32m      <a href='vscode-notebook-cell:/c%3A/Users/User/Documents/TBA4256/Assignment2/assignment2.ipynb#X22sZmlsZQ%3D%3D?line=0'>1</a>\u001b[0m \u001b[39mfor\u001b[39;00m pcd \u001b[39min\u001b[39;00m individual_point_clouds:\n\u001b[1;32m----> <a href='vscode-notebook-cell:/c%3A/Users/User/Documents/TBA4256/Assignment2/assignment2.ipynb#X22sZmlsZQ%3D%3D?line=1'>2</a>\u001b[0m     o3d\u001b[39m.\u001b[39mvisualization\u001b[39m.\u001b[39mdraw_geometries([pcd])\n",
      "\u001b[1;31mKeyboardInterrupt\u001b[0m: "
     ]
    }
   ],
   "source": [
    "for pcd in individual_point_clouds:\n",
    "    o3d.visualization.draw_geometries([pcd])"
   ]
  },
  {
   "cell_type": "code",
   "execution_count": 11,
   "metadata": {},
   "outputs": [],
   "source": [
    "#Running ransac on each cluster\n",
    "\n",
    "import pyransac3d as pyrsc\n",
    "\n",
    "circle_cloud = o3d.geometry.PointCloud()\n",
    "\n",
    "#Define the model\n",
    "model_cylinder = pyrsc.Cylinder()\n",
    "\n",
    "\n",
    "for pcd in individual_point_clouds:\n",
    "    \n",
    "    #Loading the points as per pyransac3d documentation\n",
    "    load_points = np.asarray(pcd.points) \n",
    "    \n",
    "    #Fitting the circle model to the points\n",
    "    center, axis, radius, inliers = model_cylinder.fit(load_points, thresh=0.05, maxIteration = 200) \n",
    "    \n",
    "    #Selecting the inliers\n",
    "    inlier_cloud = pcd.select_by_index(inliers) \n",
    "    \n",
    "    #Load inlier cloud points and colors\n",
    "    load_inlier_points = np.asarray(inlier_cloud.points)\n",
    "    load_inlier_colors = np.asarray(inlier_cloud.colors)\n",
    "    \n",
    "    #Load circle_cloud points and colors\n",
    "    load_circle_points = np.asarray(circle_cloud.points)\n",
    "    load_circle_colors = np.asarray(circle_cloud.colors)\n",
    "    \n",
    "    #Make a new set of points and colors\n",
    "    new_points = np.concatenate((load_inlier_points, load_circle_points), axis = 0)\n",
    "    new_colors = np.concatenate((load_inlier_colors, load_circle_colors), axis = 0)\n",
    "    \n",
    "    #Append the new points to cloud\n",
    "    circle_cloud.points = o3d.utility.Vector3dVector(new_points)\n",
    "    circle_cloud.colors = o3d.utility.Vector3dVector(new_colors)\n",
    "    \n",
    "    \n",
    "    \n",
    "    \n",
    "    "
   ]
  },
  {
   "cell_type": "code",
   "execution_count": 14,
   "metadata": {},
   "outputs": [
    {
     "name": "stdout",
     "output_type": "stream",
     "text": [
      "[Open3D WARNING] [ViewControl] SetViewPoint() failed because window height and width are not set.\n",
      "[Open3D WARNING] [ViewControl] SetViewPoint() failed because window height and width are not set.\n"
     ]
    }
   ],
   "source": [
    "circle_cloud.paint_uniform_color([0, 0, 1])\n",
    "o3d.visualization.draw_geometries([pcd_sliced])\n",
    "o3d.visualization.draw_geometries([circle_cloud, pcd_sliced])"
   ]
  }
 ],
 "metadata": {
  "kernelspec": {
   "display_name": "venv",
   "language": "python",
   "name": "python3"
  },
  "language_info": {
   "codemirror_mode": {
    "name": "ipython",
    "version": 3
   },
   "file_extension": ".py",
   "mimetype": "text/x-python",
   "name": "python",
   "nbconvert_exporter": "python",
   "pygments_lexer": "ipython3",
   "version": "3.10.11"
  }
 },
 "nbformat": 4,
 "nbformat_minor": 2
}
